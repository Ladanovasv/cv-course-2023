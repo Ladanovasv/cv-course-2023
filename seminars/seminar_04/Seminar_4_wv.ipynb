{
  "cells": [
    {
      "cell_type": "markdown",
      "metadata": {
        "id": "bcWIvZ3z2lzW"
      },
      "source": [
        "<center>\n",
        "    \n",
        "# [Компьютерное зрение](https://cogmodel.mipt.ru/wiki/index.php/%D0%9A%D0%BE%D0%BC%D0%BF%D1%8C%D1%8E%D1%82%D0%B5%D1%80%D0%BD%D0%BE%D0%B5_%D0%B7%D1%80%D0%B5%D0%BD%D0%B8%D0%B5)\n",
        "\n",
        "## <center> Семинар 4 - Интерполяция изображений, геометрия формирования изображения и калибровка камеры\n",
        "\n",
        "<a target=\"_blank\" href=\"https://colab.research.google.com/github/alexmelekhin/cv_course_2023/blob/main/seminars/seminar_04/Seminar_4.ipynb\">\n",
        "  <img src=\"https://colab.research.google.com/assets/colab-badge.svg\" alt=\"Open In Colab\"/>\n",
        "</a>\n",
        "\n",
        "***"
      ]
    },
    {
      "cell_type": "code",
      "execution_count": null,
      "metadata": {
        "id": "GjieVH2p5eBj"
      },
      "outputs": [],
      "source": [
        "from pathlib import Path\n",
        "\n",
        "import cv2\n",
        "import skimage\n",
        "import numpy as np\n",
        "import matplotlib.pyplot as plt\n",
        "\n",
        "%matplotlib inline"
      ]
    },
    {
      "cell_type": "markdown",
      "metadata": {
        "id": "-ZTkutUy4f-Y"
      },
      "source": [
        "# Интерполяция изображений.\n",
        "\n",
        "![](https://github.com/alexmelekhin/cv_course_2023/blob/main/seminars/seminar_04/data/interpolation.svg?raw=1)\n",
        "Задача - эффективно уменьшить/увеличить изображение.\n",
        "\n",
        "Рассмотрим несколько методов интерполяции.\n",
        "\n",
        "## а) Интерполяция по ближайшему пикселю\n",
        "\n",
        "![](https://github.com/alexmelekhin/cv_course_2023/blob/main/seminars/seminar_04/data/inter_nearest.png?raw=1)\n",
        "\n",
        "Самая простая и самая быстрая, однако она приводит к сильным артефактам.\n",
        "\n",
        "## б) Билинейная интерполяция\n",
        "\n",
        "![](https://github.com/alexmelekhin/cv_course_2023/blob/main/seminars/seminar_04/data/inter_linear.png?raw=1)\n",
        "\n",
        "Лучше по качеству, но требует больше вычислений и вдобавок размывает границы объектов.\n",
        "\n",
        "## в) Бикубическая интерполяция\n",
        "\n",
        "![](https://github.com/alexmelekhin/cv_course_2023/blob/main/seminars/seminar_04/data/inter_cubic.png?raw=1)\n",
        "\n",
        "Еще лучше в непрерывных областях, но на границе возникает [эффект гало](https://ru.wikipedia.org/wiki/Гало) (более темная полоса вдоль темного края границы и светлая вдоль светлого)."
      ]
    },
    {
      "cell_type": "markdown",
      "metadata": {
        "id": "lLe52t_enH31"
      },
      "source": [
        "## Примеры\n",
        "\n",
        "Согласно учебнику [OpenCV](https://docs.opencv.org/3.4/da/d6e/tutorial_py_geometric_transformations.html) для **сжатия изображения** — наиболее предпочтительным методом интерполяции является `cv.INTER_AREA`,\n",
        "**для увеличения изображения** — наиболее предпочтительны методы интерполяции: `cv.INTER_CUBIC` (медленный) и `cv.INTER_LINEAR`."
      ]
    },
    {
      "cell_type": "code",
      "execution_count": null,
      "metadata": {
        "id": "vrrzFGn82nFN"
      },
      "outputs": [],
      "source": [
        "interpolation_algorithm = [ \n",
        "    (\"nearest\", cv2.INTER_NEAREST), \n",
        "    (\"bilinear\", cv2.INTER_LINEAR), \n",
        "    (\"bicubic\", cv2.INTER_CUBIC), \n",
        "    (\"area\", cv2.INTER_AREA),\n",
        "    (\"lanczos4\", cv2.INTER_LANCZOS4)\n",
        "]\n",
        "\n",
        "def resize_by_factor(\n",
        "    img: np.array,\n",
        "    factor: float,\n",
        ") -> None:\n",
        "\n",
        "    height, width = img.shape[:2]\n",
        "    height2, width2 = int(height*factor), int(width*factor)\n",
        "\n",
        "    print(f'orig size: h={height}, w={width}, resised size: h={height2}, w={width2}') \n",
        "\n",
        "    fig, axes = plt.subplots(\n",
        "        nrows=len(interpolation_algorithm),\n",
        "        sharex=True,\n",
        "        sharey=True,\n",
        "        figsize=(3, 20)\n",
        "    )\n",
        "\n",
        "    imgs = []\n",
        "    for i in range(len(interpolation_algorithm)):\n",
        "\n",
        "        img_resized = cv2.resize(\n",
        "            src=img,\n",
        "            dsize=(width2, height2),\n",
        "            interpolation=interpolation_algorithm[i][1],\n",
        "        )\n",
        "\n",
        "        axes[i].imshow(img_resized, cmap='Greys_r')\n",
        "        axes[i].set_title(\n",
        "            f\"{interpolation_algorithm[i][0]}, shape = {img_resized.shape}\",\n",
        "        )"
      ]
    },
    {
      "cell_type": "markdown",
      "metadata": {
        "id": "LqWSy5MonH32"
      },
      "source": [
        "### Оригинальное изображение"
      ]
    },
    {
      "cell_type": "code",
      "execution_count": null,
      "metadata": {
        "colab": {
          "base_uri": "https://localhost:8080/",
          "height": 356
        },
        "id": "czPZLXBanH33",
        "outputId": "59269658-3d07-4880-ff3d-c2d7bda7e8c6"
      },
      "outputs": [
        {
          "name": "stdout",
          "output_type": "stream",
          "text": [
            "Cloning into 'cv_course_2023'...\n",
            "remote: Enumerating objects: 94, done.\u001b[K\n",
            "remote: Counting objects: 100% (94/94), done.\u001b[K\n",
            "remote: Compressing objects: 100% (75/75), done.\u001b[K\n",
            "remote: Total 94 (delta 28), reused 80 (delta 15), pack-reused 0\u001b[K\n",
            "Unpacking objects: 100% (94/94), 16.36 MiB | 8.09 MiB/s, done.\n"
          ]
        },
        {
          "data": {
            "text/plain": [
              "Text(0.5, 1.0, 'Original image, shape = (50, 50)')"
            ]
          },
          "execution_count": 4,
          "metadata": {},
          "output_type": "execute_result"
        },
        {
          "data": {
            "image/png": "[encoded data removed]",
            "text/plain": [
              "<Figure size 216x216 with 1 Axes>"
            ]
          },
          "metadata": {
            "needs_background": "light"
          },
          "output_type": "display_data"
        }
      ],
      "source": [
        "IMG_PATH = \"data/a_letter.png\"\n",
        "\n",
        "if not Path(IMG_PATH).exists():\n",
        "    !git clone https://github.com/Ladanovasv/cv-course-2023.git\n",
        "    !mv cv_course_2023/seminars/seminar_04/data .\n",
        "\n",
        "a_letter_img = cv2.imread(IMG_PATH, cv2.IMREAD_GRAYSCALE)\n",
        "\n",
        "plt.figure(figsize=(3, 3))\n",
        "plt.imshow(a_letter_img, cmap=\"Greys_r\")\n",
        "plt.title(f\"Original image, shape = {a_letter_img.shape}\")"
      ]
    },
    {
      "cell_type": "markdown",
      "metadata": {
        "id": "H7FGpiDgnH35"
      },
      "source": [
        "### Увеличение"
      ]
    },
    {
      "cell_type": "code",
      "execution_count": null,
      "metadata": {
        "colab": {
          "base_uri": "https://localhost:8080/",
          "height": 1000
        },
        "id": "hJYKRs-InH35",
        "outputId": "13d28c57-cce0-43b3-be41-ab3668bcab67"
      },
      "outputs": [
        {
          "name": "stdout",
          "output_type": "stream",
          "text": [
            "orig size: h=50, w=50, resised size: h=250, w=250\n"
          ]
        },
        {
          "data": {
            "image/png": "[encoded data removed]",
            "text/plain": [
              "<Figure size 216x1440 with 5 Axes>"
            ]
          },
          "metadata": {
            "needs_background": "light"
          },
          "output_type": "display_data"
        }
      ],
      "source": [
        "resize_by_factor(\n",
        "    img=a_letter_img,\n",
        "    factor=5,\n",
        ")"
      ]
    },
    {
      "cell_type": "markdown",
      "metadata": {
        "id": "LdBXlAjCnH36"
      },
      "source": [
        "### Уменьшение"
      ]
    },
    {
      "cell_type": "code",
      "execution_count": null,
      "metadata": {
        "colab": {
          "base_uri": "https://localhost:8080/",
          "height": 1000
        },
        "id": "N58DtnpHA8qI",
        "outputId": "baf98679-7cb2-47f4-930b-f3d62bd921e3"
      },
      "outputs": [
        {
          "name": "stdout",
          "output_type": "stream",
          "text": [
            "orig size: h=50, w=50, resised size: h=25, w=25\n"
          ]
        },
        {
          "data": {
            "image/png": "[encoded data removed]",
            "text/plain": [
              "<Figure size 216x1440 with 5 Axes>"
            ]
          },
          "metadata": {
            "needs_background": "light"
          },
          "output_type": "display_data"
        }
      ],
      "source": [
        "resize_by_factor(\n",
        "    img=a_letter_img,\n",
        "    factor=0.5,\n",
        ")"
      ]
    },
    {
      "cell_type": "markdown",
      "metadata": {
        "id": "3-4vDr17KHts"
      },
      "source": [
        "## Вопрос 1\n",
        "\n",
        "Можно ли реализовать сжатие изображений на свертках? Как подбирать параметры ядра? Приведите примеры + код\n",
        "\n",
        "**Ответ: да**\n",
        "### реализация с помощью афинного преобразования\n"
      ]
    },
    {
      "cell_type": "code",
      "execution_count": null,
      "metadata": {
        "id": "RmTTEQCNAm_i"
      },
      "outputs": [],
      "source": [
        "def resize_image(image, t = [1, 1]):\n",
        "    H, W = image.shape\n",
        "    kernel = np.array([\n",
        "          [t[0], 0,    0],\n",
        "          [0,    t[1], 0],\n",
        "          [0,    0,    1],\n",
        "    ])\n",
        "    # kernel = np.ones((5, 5)) / 25\n",
        "\n",
        "    dst = np.zeros((int(H * t[1]), int(W * t[0])))\n",
        "    for x in range(H):\n",
        "        for y in range(W):\n",
        "\n",
        "            p = np.dot(kernel, [x, y, 1])\n",
        "            px, py = int(p[0]), int(p[1])\n",
        "            if px >= 0 and px < W and py >= 0 and py < H:\n",
        "                dst[py, px] = image[y, x]\n",
        "\n",
        "    return dst\n",
        "    return cv2.filter2D(image, -1, kernel)\n",
        "\n",
        "def resize_visualization(\n",
        "    img: np.array,\n",
        ") -> None:\n",
        "\n",
        "    plt.figure(figsize=(3, 3))\n",
        "    plt.imshow(img, cmap=\"Greys_r\")\n",
        "    plt.title(f\"Image, shape = {img.shape}\")"
      ]
    },
    {
      "cell_type": "code",
      "execution_count": null,
      "metadata": {
        "colab": {
          "base_uri": "https://localhost:8080/",
          "height": 227
        },
        "id": "Bn1hS17JS0n4",
        "outputId": "fb637bd9-1650-414b-fafb-b7fe9ad37e55"
      },
      "outputs": [
        {
          "data": {
            "image/png": "[encoded data removed]",
            "text/plain": [
              "<Figure size 216x216 with 1 Axes>"
            ]
          },
          "metadata": {
            "needs_background": "light"
          },
          "output_type": "display_data"
        }
      ],
      "source": [
        "a_letter_img = cv2.imread(IMG_PATH, cv2.IMREAD_GRAYSCALE)\n",
        "resize_visualization(resize_image(a_letter_img, t = [1, 1, 1]))"
      ]
    },
    {
      "cell_type": "code",
      "execution_count": null,
      "metadata": {
        "colab": {
          "base_uri": "https://localhost:8080/",
          "height": 227
        },
        "id": "h89OvVTFTY3G",
        "outputId": "c231ce65-89c3-4fb0-9e23-e4fd8f6cc6fb"
      },
      "outputs": [
        {
          "data": {
            "image/png": "[encoded data removed]",
            "text/plain": [
              "<Figure size 216x216 with 1 Axes>"
            ]
          },
          "metadata": {
            "needs_background": "light"
          },
          "output_type": "display_data"
        }
      ],
      "source": [
        "a_letter_img = cv2.imread(IMG_PATH, cv2.IMREAD_GRAYSCALE)\n",
        "resize_visualization(resize_image(a_letter_img, t = [0.5, 1]))"
      ]
    },
    {
      "cell_type": "code",
      "execution_count": null,
      "metadata": {
        "colab": {
          "base_uri": "https://localhost:8080/",
          "height": 148
        },
        "id": "yeqZLjZtTgEo",
        "outputId": "d5938ac2-3dbc-4cc0-f3de-a724efbe02ed"
      },
      "outputs": [
        {
          "data": {
            "image/png": "[encoded data removed]",
            "text/plain": [
              "<Figure size 216x216 with 1 Axes>"
            ]
          },
          "metadata": {
            "needs_background": "light"
          },
          "output_type": "display_data"
        }
      ],
      "source": [
        "a_letter_img = cv2.imread(IMG_PATH, cv2.IMREAD_GRAYSCALE)\n",
        "resize_visualization(resize_image(a_letter_img, t = [1, 0.5]))"
      ]
    },
    {
      "cell_type": "code",
      "execution_count": null,
      "metadata": {
        "colab": {
          "base_uri": "https://localhost:8080/",
          "height": 227
        },
        "id": "uJG_LZI7U_hL",
        "outputId": "beced736-3b13-49c4-b0aa-288af7467eef"
      },
      "outputs": [
        {
          "data": {
            "image/png": "[encoded data removed]",
            "text/plain": [
              "<Figure size 216x216 with 1 Axes>"
            ]
          },
          "metadata": {
            "needs_background": "light"
          },
          "output_type": "display_data"
        }
      ],
      "source": [
        "a_letter_img = cv2.imread(IMG_PATH, cv2.IMREAD_GRAYSCALE)\n",
        "resize_visualization(resize_image(a_letter_img, t = [0.5, 0.5]))"
      ]
    },
    {
      "cell_type": "markdown",
      "metadata": {
        "id": "yaJIxPgXKabS"
      },
      "source": [
        "# Трансформация изображений\n",
        "\n",
        "Реализуется с помощью матриц 3x3\n",
        "\n",
        "## Поворот (Rotation)\n",
        "\n",
        "Входные параметры: угол поворота (angle)\n",
        "\n",
        "```python\n",
        "matrix = np.array([\n",
        "      [np.cos(angle),  np.sin(angle), 0],\n",
        "      [-np.sin(angle), np.cos(angle), 0],\n",
        "      [0,              0,             1],\n",
        "])\n",
        "```\n",
        "\n",
        "## Растяжение/сжатие (Scale)\n",
        "\n",
        "Входные параметры: фактор растяжения (tx, ty)\n",
        "\n",
        "```python\n",
        "matrix = np.array([\n",
        "      [t[0], 0,    0],\n",
        "      [0,    t[1], 0],\n",
        "      [0,    0,    1],\n",
        "])\n",
        "```\n",
        "\n",
        "## Перенос (translation)\n",
        "\n",
        "Входные параметры: фактор переноса (tx, ty)\n",
        "\n",
        "```python\n",
        "matrix = np.array([\n",
        "      [1,  0, t[0]],\n",
        "      [0,  1, t[1]],\n",
        "      [0,  0,    1],\n",
        "])\n",
        "```\n",
        "\n",
        "## Сдвиг (shearing)\n",
        "\n",
        "Входные параметры: фактор сдвига (tx, ty)\n",
        "\n",
        "```python\n",
        "matrix_horisontal = np.array([\n",
        "      [1,    t[0], 0],\n",
        "      [t[1], 1,    0],\n",
        "      [0,    0,    1],\n",
        "])\n",
        "```\n"
      ]
    },
    {
      "cell_type": "markdown",
      "metadata": {
        "id": "wYbJKHjJjpge"
      },
      "source": [
        "## Вопрос 2\n",
        "\n",
        "Реализуйте функцию, которая принимает изображение и матрицу преобразования, и реализует афинную трансформацию. Не забудьте про центрирование.\n",
        "\n",
        "Идея - афинное перемещение пикселей изображения."
      ]
    },
    {
      "cell_type": "code",
      "execution_count": null,
      "metadata": {
        "id": "w4x-HEvT69RU"
      },
      "outputs": [],
      "source": [
        "def affine_transform(\n",
        "    img: np.array,\n",
        "    mat: np.array,\n",
        ") -> np.array:\n",
        "\n",
        "    # transfromed image\n",
        "    transfromed_img = np.zeros_like(img)\n",
        "\n",
        "    # image shape\n",
        "    H, W = img.shape[:2]\n",
        "\n",
        "    # center of the img\n",
        "    cx, cy = (H + 1) // 2 - 1, (W + 1) // 2 - 1\n",
        "\n",
        "    mat_centr = make_translation((cx, cy))\n",
        "    mat_uncentr = make_translation((-cx, -cy))\n",
        "    for x in range(H):\n",
        "        for y in range(W):\n",
        "            \n",
        "            p = mat_centr @ mat @ mat_uncentr @ [x, y, 1]\n",
        "            px, py = int(p[0]), int(p[1])\n",
        "            if px >= 0 and px < W and py >= 0 and py < H:\n",
        "                transfromed_img[py, px] = img[y, x]\n",
        "\n",
        "\n",
        "    return transfromed_img"
      ]
    },
    {
      "cell_type": "code",
      "execution_count": null,
      "metadata": {
        "id": "0SYKI5lpkGUc"
      },
      "outputs": [],
      "source": [
        "def make_rotation(\n",
        "    params,\n",
        ") -> np.array:\n",
        "\n",
        "    angle = params[0]\n",
        "\n",
        "    mat = np.array([\n",
        "      [np.cos(angle),  np.sin(angle), 0],\n",
        "      [-np.sin(angle), np.cos(angle), 0],\n",
        "      [0,              0,             1],\n",
        "])\n",
        "\n",
        "    return mat\n",
        "\n",
        "def make_scaling(\n",
        "    params,\n",
        ") -> np.array:\n",
        "\n",
        "    tx, ty = params[0], params[1]\n",
        "\n",
        "    mat = np.array([\n",
        "      [tx, 0,    0],\n",
        "      [0,    ty, 0],\n",
        "      [0,    0,    1],\n",
        "])\n",
        "\n",
        "    return mat\n",
        "\n",
        "def make_translation(\n",
        "    params,\n",
        ") -> np.array:\n",
        "\n",
        "    tx, ty = params[0], params[1]\n",
        "\n",
        "    mat = np.array([\n",
        "      [1,  0, tx],\n",
        "      [0,  1, ty],\n",
        "      [0,  0,    1],\n",
        "])\n",
        "\n",
        "    return mat\n",
        "\n",
        "def make_shearing(\n",
        "    params,\n",
        ") -> np.array:\n",
        "\n",
        "    tx, ty = params[0], params[1]\n",
        "\n",
        "    mat = np.array([\n",
        "      [1,    tx, 0],\n",
        "      [ty, 1,    0],\n",
        "      [0,    0,    1],\n",
        "])\n",
        "\n",
        "    return mat"
      ]
    },
    {
      "cell_type": "markdown",
      "metadata": {
        "id": "sT6wT-FWmOqu"
      },
      "source": [
        "Проверьте код на примере изображения c астронавтом"
      ]
    },
    {
      "cell_type": "code",
      "execution_count": null,
      "metadata": {
        "colab": {
          "base_uri": "https://localhost:8080/",
          "height": 301,
          "referenced_widgets": [
            "f56f33057aaf40e68db84479ce473fa1",
            "acbd28456a4e4300b2569dc00bea12cc",
            "7450b7e131664062a4c7f1701b33f3a0",
            "f02f1bcfb0554185ad84c87dc2e8ba89",
            "2e639276d4004d98ae23e9721b989d2c",
            "34b81407575645e4bef05272550c8559",
            "9382f4fd0efc4eaeb73816b1c78a7d95"
          ]
        },
        "id": "F1SHG2z1k3AC",
        "outputId": "e3231dba-15a3-4eff-db65-9c2fbfc67ce7"
      },
      "outputs": [
        {
          "data": {
            "application/vnd.jupyter.widget-view+json": {
              "model_id": "f56f33057aaf40e68db84479ce473fa1",
              "version_major": 2,
              "version_minor": 0
            },
            "text/plain": [
              "interactive(children=(FloatSlider(value=0.0, description='angle', max=3.14, min=-3.14, step=0.01), Output()), …"
            ]
          },
          "metadata": {},
          "output_type": "display_data"
        }
      ],
      "source": [
        "import ipywidgets\n",
        "from skimage import data\n",
        "\n",
        "img = data.astronaut()\n",
        "\n",
        "#resize image for much faster affine processing\n",
        "img = cv2.resize(\n",
        "    src=img,\n",
        "    dsize = None,\n",
        "    fx=0.3,\n",
        "    fy=0.3,\n",
        "    interpolation=cv2.INTER_AREA,\n",
        ")\n",
        "\n",
        "@ipywidgets.interact(\n",
        "    angle=ipywidgets.FloatSlider(\n",
        "        min=-3.14, max=3.14,\n",
        "        step=0.01, value=0.,\n",
        "    ),\n",
        ")\n",
        "def play_with_params(\n",
        "    angle: float\n",
        ") -> None:\n",
        "\n",
        "    # an example\n",
        "    mat = make_rotation(\n",
        "        (angle,),\n",
        "    )\n",
        "\n",
        "    transformed_img = affine_transform(\n",
        "        img=img,\n",
        "        mat=mat\n",
        "    )\n",
        "\n",
        "    median = cv2.medianBlur(transformed_img, 3)\n",
        "    plt.imshow(median)"
      ]
    },
    {
      "cell_type": "markdown",
      "metadata": {
        "id": "I-Dm86k4pRvi"
      },
      "source": [
        "## Вопрос 3\n",
        "\n",
        "Запустите все 4 преобразования. Изменяйте параметры алгоритма. Имеются ли пиксели, которые никуда не перешли в результате трансформации? Что с ними можно сделать?\n",
        "\n",
        "**Ответ:  я просто обрезала**"
      ]
    },
    {
      "cell_type": "code",
      "execution_count": null,
      "metadata": {
        "colab": {
          "base_uri": "https://localhost:8080/",
          "height": 493,
          "referenced_widgets": [
            "aba0147d872f4e12becc83bad6383dbc",
            "4e3dd0ff04d64eba82865123f8e7def9",
            "59f8f9b51ff743479e6deb4c0a6e3ba2",
            "f4997633a9b041cba138bc86864f04e3",
            "7e00ce0e22c54e528ada6e73296d2960",
            "03e0554fb5f4485e8f2a5ddf17c1f93c",
            "7d66b7cde7224451b2ba1a22df9343bc",
            "9f6c9d8425d24fc2b407bc8c17c21363",
            "0674e00af861444c8a6a1ee3eea1b88d",
            "5bfc55047bc14424a29e6e45199dc958",
            "00d1dfe0088e4a4292cb8a1979eee7d0",
            "7502804c795840b69d2d9c782baf53d6",
            "cdc8674953504362bc1a889a01e4c5e9",
            "499ed8bbc4854834b960ca8c422ab131",
            "02a6552007d74bfd84bed8482bbec030",
            "141708b7eb75403b83fbd08175da20ba",
            "0e76009b922c411bb66b5c27eb6c6dc4",
            "d50e6ec403634698bd2c4f0ba74523cb",
            "1fa199b0cee34804931c47368f0c070a",
            "a15ccdc4aeb542fab35db39075a9a1e9",
            "3996a1d2b34749a7a45b26342a9a99e2",
            "3ea65fc470094ff99be71824fca5dd39",
            "4d0c7e15015c4b1fb4a657d7b0e77c19",
            "8a7126e2589c4ae4840f3103a01e6c0d",
            "75fb3c5e12c44d1e96f86e0cfb9dd9a2"
          ]
        },
        "id": "fS76aoxWKIAp",
        "outputId": "85174ddc-c6d7-4701-8316-06192bf7cae0"
      },
      "outputs": [
        {
          "data": {
            "application/vnd.jupyter.widget-view+json": {
              "model_id": "aba0147d872f4e12becc83bad6383dbc",
              "version_major": 2,
              "version_minor": 0
            },
            "text/plain": [
              "interactive(children=(FloatSlider(value=0.0, description='trans_tx', max=50.0, min=-50.0, step=1.0), FloatSlid…"
            ]
          },
          "metadata": {},
          "output_type": "display_data"
        }
      ],
      "source": [
        "import ipywidgets\n",
        "from skimage import data\n",
        "\n",
        "img = data.astronaut()\n",
        "\n",
        "#resize image for much faster affine processing\n",
        "img = cv2.resize(\n",
        "    src=img,\n",
        "    dsize = None,\n",
        "    fx=0.3,\n",
        "    fy=0.3,\n",
        "    interpolation=cv2.INTER_AREA,\n",
        ")\n",
        "\n",
        "@ipywidgets.interact(\n",
        "    trans_tx=ipywidgets.FloatSlider(\n",
        "        min=-50, max=50,\n",
        "        step=1, value=0.,\n",
        "    ),\n",
        "\n",
        "    trans_ty=ipywidgets.FloatSlider(\n",
        "        min=-50, max=50,\n",
        "        step=1, value=0.,\n",
        "    ),\n",
        "\n",
        "    scale_tx=ipywidgets.FloatSlider(\n",
        "        min=0.5, max=3,\n",
        "        step=0.01, value=1.,\n",
        "    ),\n",
        "\n",
        "    scale_ty=ipywidgets.FloatSlider(\n",
        "        min=0.5, max=3,\n",
        "        step=0.01, value=1.,\n",
        "    ),\n",
        "\n",
        "    shearing_tx=ipywidgets.FloatSlider(\n",
        "        min=0, max=3,\n",
        "        step=0.01, value=0.,\n",
        "    ),\n",
        "\n",
        "    shearing_ty=ipywidgets.FloatSlider(\n",
        "        min=0, max=3,\n",
        "        step=0.01, value=0.,\n",
        "    ),\n",
        "\n",
        "    angle=ipywidgets.FloatSlider(\n",
        "        min=-3.14, max=3.14,\n",
        "        step=0.01, value=0.,\n",
        "    ),\n",
        ")\n",
        "def play_with_params(\n",
        "    trans_tx: float,\n",
        "    trans_ty: float,\n",
        "    scale_tx: float,\n",
        "    scale_ty: float,\n",
        "    shearing_tx: float,\n",
        "    shearing_ty: float,\n",
        "    angle: float\n",
        ") -> None:\n",
        "\n",
        "    # an example\n",
        "    rot_mat = make_rotation(\n",
        "        (angle,),\n",
        "    )\n",
        "\n",
        "    trans_mat = make_translation(\n",
        "        (trans_tx, trans_ty),\n",
        "    )\n",
        "\n",
        "    scal_mat = make_scaling(\n",
        "        (scale_tx, scale_ty),\n",
        "    )\n",
        "\n",
        "    shear_mat = make_shearing(\n",
        "        (shearing_tx, shearing_ty),\n",
        "    )\n",
        "\n",
        "    mat = rot_mat @ trans_mat @ scal_mat @ shear_mat\n",
        "\n",
        "    transformed_img = affine_transform(\n",
        "        img=img,\n",
        "        mat=mat\n",
        "    )\n",
        "\n",
        "    plt.imshow(transformed_img)"
      ]
    },
    {
      "cell_type": "markdown",
      "metadata": {
        "id": "dT3VvmwMwF79"
      },
      "source": [
        "# Формирование изображения\n",
        "\n",
        "## Внешние параметры камеры\n",
        "\n",
        "Некоторые камеры-обскуры вносят значительные искажения в изображения. Два основных вида искажений - это радиальные искажения и тангенциальные искажения.\n",
        "\n",
        "**Радиальные искажения** возникают из-за неидеальности линз и приводит к тому, что прямые линии кажутся изогнутыми.\n",
        "\n",
        "**Тангенциальные искажения** возникают из-за того, что объектив для съемки изображения не выровнен идеально параллельно плоскости изображения. Таким образом, некоторые области на изображении могут выглядеть ближе, чем ожидалось. \n",
        "\n",
        "Виды радиального искажения:\n",
        "<figure>\n",
        "<img src=\"https://upload.wikimedia.org/wikipedia/commons/6/63/Barrel_distortion.svg\" alt=\"drawing\" width=\"200\"/>\n",
        "<figcaption>Barrel distortion (Positive k1 > 0)</figcaption>\n",
        "<img src=\"https://upload.wikimedia.org/wikipedia/commons/5/5b/Pincushion_distortion.svg\" alt=\"drawing\" width=\"200\"/>\n",
        "<figcaption>Pincushion distortion (Negative k1 < 0)</figcaption>\n",
        "<img src=\"https://upload.wikimedia.org/wikipedia/commons/3/3c/Mustache_distortion.svg\" alt=\"drawing\" width=\"200\"/>\n",
        "<figcaption>Mustache distortion (Complex)</figcaption>\n",
        "</figure>\n",
        "\n",
        "Формулы:\n",
        "\n",
        "$x_{dist} = x\\frac{1+k_{1}r^{2}+k_{2}r^{4} + k_{3}r^{6}}{1+k_{4}r^{2}+k_{5}r^{4} + k_{6}r^{6}} + 2p_{1}xy + p_{2}(r^{2} + 2x^{2})$\n",
        "\n",
        "$y_{dist} = y\\frac{1+k_{1}r^{2}+k_{2}r^{4} + k_{3}r^{6}}{1+k_{4}r^{2}+k_{5}r^{4} + k_{6}r^{6}} + p_{1}(r^{2} + 2y^{2}) + 2p_{2}xy$,\n",
        "\n",
        "где $r^{2} = x^{2} + y^{2}$\n",
        "\n",
        "Таким образом, параметры радиальной дисторсии - ($k_{1}, \\cdots, k_{6}$), тангенциальной дисторсии - ($p_{1}, p_{2}$)\n",
        "\n",
        "В дополнение к этому нам нужны внутренние и внешние параметры камеры. Внутренние параметры специфичны для конкретной камеры. Они включают в себя такую информацию, как фокусное расстояние (fx,fy) и оптические центры (cx, cy). Фокусное расстояние и оптические центры могут быть использованы для создания матрицы камеры, которую можно использовать для устранения искажений, вызванных объективами конкретной камеры. Матрица камеры уникальна для конкретной камеры, поэтому после расчета ее можно повторно использовать на других изображениях, сделанных той же камерой."
      ]
    },
    {
      "cell_type": "markdown",
      "metadata": {
        "id": "OWAYgDem8Poa"
      },
      "source": [
        "## Вопрос 4\n",
        "\n",
        "Запишите выражение связи точек в координатной системе камеры (X, Y, Z) c проекцией (изображением), зная параметры дисторсии и параметры камеры.\n",
        "\n",
        "**Ответ:**\n",
        "\n",
        "\n",
        "s * [x, y, 1]^T = K * [R | t] * [X, Y, Z, 1]^T\n",
        "\n",
        "R матрица поворота world coordinates в camera coordinates\n",
        "t вектор трансляции world coordinates to camera coordinates\n",
        "\n",
        "K = [fx s cx 0 fy cy 0 0 1]\n",
        "\n",
        "\n",
        "u_d = u * (1 + k_1 * r^2 + k_2 * r^4 + k_3 * r^6) \n",
        "v_d = v * (1 + k_1 * r^2 + k_2 * r^4 + k_3 * r^6)\n",
        "\n",
        "\n",
        "r^2 = x^2 + y^2"
      ]
    },
    {
      "cell_type": "markdown",
      "metadata": {
        "id": "i-4ajttX-2tL"
      },
      "source": [
        "## Вопрос 5\n",
        "\n",
        "Найдите параметры вашей камеры мобильного телефона. \n",
        "\n",
        "Используйте шаблон шахматной доски. Можете воспользоваться ресурсом https://markhedleyjones.com/projects/calibration-checkerboard-collection  - здесь можно выбрать необходимый размер и подготовить pdf с доской. Во время печати не забудьте проверить, что масштаб не меняется (часто в параметрах печати по умолчанию установлен флаг \"scale to fit page\").\n",
        "\n",
        "Воспользуйтесь [туториалом OpenCV](https://docs.opencv.org/4.x/dc/dbb/tutorial_py_calibration.html).\n",
        "\n",
        "В ответе требуется:\n",
        "\n",
        "1. Загрузить все сделанные фотографии (туториал рекомендует использовать не менее 10-ти изображений) в папку `./data/calibr_images`. Написанный код должен воспроизводить ваши результаты без дополнительных манипуляций.\n",
        "2. Вывести найденные параметры калибровки (intrinsic матрицу и параметры дисторсии).\n",
        "3. Отобразить изображения до и после устранения дисторсии.\n",
        "4. Посчитать ошибку репроектирования (см. туториал opencv)."
      ]
    },
    {
      "cell_type": "code",
      "execution_count": null,
      "metadata": {
        "id": "LD-XmTdy_-l4"
      },
      "outputs": [],
      "source": [
        "import numpy as np\n",
        "import cv2 as cv\n",
        "import glob\n",
        "# from google.colab.patches import cv2_imshow\n",
        "# termination criteria\n",
        "criteria = (cv.TERM_CRITERIA_EPS + cv.TERM_CRITERIA_MAX_ITER, 25, 0.001)\n",
        "# prepare object points, like (0,0,0), (1,0,0), (2,0,0) ....,(6,5,0)\n",
        "objp = np.zeros((6*8,3), np.float32)\n",
        "objp[:,:2] = np.mgrid[0:8,0:6].T.reshape(-1,2)\n",
        "# Arrays to store object points and image points from all the images.\n",
        "objpoints = [] # 3d point in real world space\n",
        "imgpoints = [] # 2d points in image plane.\n",
        "images = glob.glob('./data/calibr_images/*.jpg')\n",
        "for fname in images:\n",
        "    img = cv.imread(fname)\n",
        "    gray = cv.cvtColor(img, cv.COLOR_BGR2GRAY)\n",
        "    # Find the chess board corners\n",
        "    ret, corners = cv.findChessboardCorners(gray, (8, 6), None)\n",
        "    # If found, add object points, image points (after refining them)\n",
        "    if ret == True:\n",
        "        objpoints.append(objp)\n",
        "        corners2 = cv.cornerSubPix(gray,corners, (11,11), (-1,-1), criteria)\n",
        "        imgpoints.append(corners2)\n",
        "        # Draw and display the corners\n",
        "        cv.drawChessboardCorners(img, (8,6), corners2, ret)\n",
        "        # cv.imshow('img', img)\n",
        "        # cv2_imshow(img)\n",
        "        cv.waitKey(500)\n",
        "cv.destroyAllWindows()\n",
        "\n",
        "\n"
      ]
    },
    {
      "cell_type": "code",
      "execution_count": null,
      "metadata": {
        "id": "_g68G5qmctdr"
      },
      "outputs": [],
      "source": [
        "ret, mtx, dist, rvecs, tvecs = cv2.calibrateCamera(objpoints, imgpoints, gray.shape[::-1], None, None)"
      ]
    },
    {
      "cell_type": "code",
      "execution_count": null,
      "metadata": {
        "colab": {
          "base_uri": "https://localhost:8080/"
        },
        "id": "jipxHlokb3HX",
        "outputId": "8a7bf089-d0c3-426b-8e40-d656fdccc9ee"
      },
      "outputs": [
        {
          "data": {
            "text/plain": [
              "array([[ 0.26260626, -0.96166287, -0.004544  , -0.04511496,  0.78268587]])"
            ]
          },
          "execution_count": 92,
          "metadata": {},
          "output_type": "execute_result"
        }
      ],
      "source": [
        "dist"
      ]
    },
    {
      "cell_type": "code",
      "execution_count": null,
      "metadata": {
        "colab": {
          "base_uri": "https://localhost:8080/"
        },
        "id": "7VfCXIcrdebx",
        "outputId": "357fc30f-40fd-45c1-a417-ec4f7564660a"
      },
      "outputs": [
        {
          "data": {
            "text/plain": [
              "(array([[-0.19235773],\n",
              "        [ 0.05628831],\n",
              "        [-0.26620793]]), array([[-0.33983817],\n",
              "        [-0.32123603],\n",
              "        [ 0.09499101]]), array([[-0.1765552 ],\n",
              "        [ 0.09968297],\n",
              "        [-0.07908742]]), array([[-0.54672834],\n",
              "        [ 0.09493154],\n",
              "        [ 0.01735023]]), array([[-0.21790426],\n",
              "        [ 0.06225122],\n",
              "        [ 0.321481  ]]), array([[-0.00432294],\n",
              "        [-0.03497712],\n",
              "        [ 0.55844355]]), array([[0.09355499],\n",
              "        [0.15580337],\n",
              "        [0.99122122]]), array([[-0.21081069],\n",
              "        [ 0.11761647],\n",
              "        [-0.41098039]]), array([[-0.18796167],\n",
              "        [ 0.03497319],\n",
              "        [-0.04867145]]), array([[-0.07858153],\n",
              "        [ 0.17088842],\n",
              "        [-0.92135759]]))"
            ]
          },
          "execution_count": 93,
          "metadata": {},
          "output_type": "execute_result"
        }
      ],
      "source": [
        "rvecs"
      ]
    },
    {
      "cell_type": "code",
      "execution_count": null,
      "metadata": {
        "colab": {
          "base_uri": "https://localhost:8080/"
        },
        "id": "z96gYCBbd4hr",
        "outputId": "1efcd072-c186-4f10-86c2-0ac7b16482ff"
      },
      "outputs": [
        {
          "data": {
            "text/plain": [
              "(array([[-2.29690812],\n",
              "        [-1.25640884],\n",
              "        [16.84275391]]), array([[-1.44493816],\n",
              "        [-2.92846085],\n",
              "        [14.80045258]]), array([[-0.86917737],\n",
              "        [-2.67466989],\n",
              "        [19.05275859]]), array([[-1.60377991],\n",
              "        [-3.37467641],\n",
              "        [17.51586683]]), array([[-0.8098402 ],\n",
              "        [-3.32718208],\n",
              "        [17.25062954]]), array([[ 0.31146728],\n",
              "        [-3.76219683],\n",
              "        [18.83953033]]), array([[-4.98911316],\n",
              "        [ 3.716578  ],\n",
              "        [17.84123523]]), array([[-1.53158415],\n",
              "        [-0.92476961],\n",
              "        [19.1315371 ]]), array([[-2.83197291],\n",
              "        [-1.71747982],\n",
              "        [15.84254275]]), array([[-9.29093106],\n",
              "        [ 8.22831325],\n",
              "        [19.23151831]]))"
            ]
          },
          "execution_count": 94,
          "metadata": {},
          "output_type": "execute_result"
        }
      ],
      "source": [
        "tvecs"
      ]
    },
    {
      "cell_type": "code",
      "execution_count": null,
      "metadata": {
        "colab": {
          "base_uri": "https://localhost:8080/"
        },
        "id": "wxQ_pIRqdq_D",
        "outputId": "5dd40ed2-454e-4d56-91a9-eb681bd9157b"
      },
      "outputs": [
        {
          "data": {
            "text/plain": [
              "2.25967077644805"
            ]
          },
          "execution_count": 95,
          "metadata": {},
          "output_type": "execute_result"
        }
      ],
      "source": [
        "ret"
      ]
    },
    {
      "cell_type": "code",
      "execution_count": null,
      "metadata": {
        "colab": {
          "base_uri": "https://localhost:8080/"
        },
        "id": "7cm2qtiNdv-b",
        "outputId": "344a9f0f-6cb5-4d57-c8c8-52066749abf7"
      },
      "outputs": [
        {
          "data": {
            "text/plain": [
              "array([[2.23012736e+03, 0.00000000e+00, 1.42380862e+03],\n",
              "       [0.00000000e+00, 2.20714893e+03, 7.29506521e+02],\n",
              "       [0.00000000e+00, 0.00000000e+00, 1.00000000e+00]])"
            ]
          },
          "execution_count": 96,
          "metadata": {},
          "output_type": "execute_result"
        }
      ],
      "source": [
        "mtx"
      ]
    },
    {
      "cell_type": "code",
      "execution_count": null,
      "metadata": {
        "id": "3IkbLO07dy72"
      },
      "outputs": [],
      "source": [
        "img = cv.imread(\"./data/calibr_images/IMG20230222164231.jpg\")\n",
        "h,  w = img.shape[:2]\n",
        "newcameramtx, roi = cv.getOptimalNewCameraMatrix(mtx, dist, (w,h), 1, (w,h))"
      ]
    },
    {
      "cell_type": "code",
      "execution_count": null,
      "metadata": {
        "id": "EFt8h7C4emuQ"
      },
      "outputs": [],
      "source": [
        "# undistort\n",
        "dst = cv.undistort(img, mtx, dist, None, newcameramtx)"
      ]
    },
    {
      "cell_type": "code",
      "execution_count": null,
      "metadata": {
        "colab": {
          "base_uri": "https://localhost:8080/"
        },
        "id": "jLjJYNnceo7y",
        "outputId": "8fedcb4a-468a-4039-8d92-49968106fac7"
      },
      "outputs": [
        {
          "data": {
            "text/plain": [
              "array([[[0, 0, 0],\n",
              "        [0, 0, 0],\n",
              "        [0, 0, 0],\n",
              "        ...,\n",
              "        [0, 0, 0],\n",
              "        [0, 0, 0],\n",
              "        [0, 0, 0]],\n",
              "\n",
              "       [[0, 0, 0],\n",
              "        [0, 0, 0],\n",
              "        [0, 0, 0],\n",
              "        ...,\n",
              "        [0, 0, 0],\n",
              "        [0, 0, 0],\n",
              "        [0, 0, 0]],\n",
              "\n",
              "       [[0, 0, 0],\n",
              "        [0, 0, 0],\n",
              "        [0, 0, 0],\n",
              "        ...,\n",
              "        [0, 0, 0],\n",
              "        [0, 0, 0],\n",
              "        [0, 0, 0]],\n",
              "\n",
              "       ...,\n",
              "\n",
              "       [[0, 0, 0],\n",
              "        [0, 0, 0],\n",
              "        [0, 0, 0],\n",
              "        ...,\n",
              "        [0, 0, 0],\n",
              "        [0, 0, 0],\n",
              "        [0, 0, 0]],\n",
              "\n",
              "       [[0, 0, 0],\n",
              "        [0, 0, 0],\n",
              "        [0, 0, 0],\n",
              "        ...,\n",
              "        [0, 0, 0],\n",
              "        [0, 0, 0],\n",
              "        [0, 0, 0]],\n",
              "\n",
              "       [[0, 0, 0],\n",
              "        [0, 0, 0],\n",
              "        [0, 0, 0],\n",
              "        ...,\n",
              "        [0, 0, 0],\n",
              "        [0, 0, 0],\n",
              "        [0, 0, 0]]], dtype=uint8)"
            ]
          },
          "execution_count": 99,
          "metadata": {},
          "output_type": "execute_result"
        }
      ],
      "source": [
        "dst"
      ]
    },
    {
      "cell_type": "code",
      "execution_count": null,
      "metadata": {
        "colab": {
          "base_uri": "https://localhost:8080/"
        },
        "id": "Swk5nb6zesAv",
        "outputId": "f089c459-7459-4c2e-cab3-da3f783c32a6"
      },
      "outputs": [
        {
          "data": {
            "text/plain": [
              "True"
            ]
          },
          "execution_count": 100,
          "metadata": {},
          "output_type": "execute_result"
        }
      ],
      "source": [
        "# crop the image\n",
        "x, y, w, h = roi\n",
        "dst = dst[y:y+h, x:x+w]\n",
        "cv.imwrite('calibresult.png', dst)"
      ]
    },
    {
      "cell_type": "code",
      "execution_count": null,
      "metadata": {
        "colab": {
          "base_uri": "https://localhost:8080/"
        },
        "id": "B8WXtPnhfALv",
        "outputId": "20d44155-7e52-4400-88ed-ca2bf4d40db2"
      },
      "outputs": [
        {
          "name": "stdout",
          "output_type": "stream",
          "text": [
            "total error: 0.27827810025675853\n"
          ]
        }
      ],
      "source": [
        "mean_error = 0\n",
        "for i in range(len(objpoints)):\n",
        "    imgpoints2, _ = cv.projectPoints(objpoints[i], rvecs[i], tvecs[i], mtx, dist)\n",
        "    error = cv.norm(imgpoints[i], imgpoints2, cv.NORM_L2)/len(imgpoints2)\n",
        "    mean_error += error\n",
        "print( \"total error: {}\".format(mean_error/len(objpoints)) )"
      ]
    }
  ],
  "metadata": {
    "colab": {
      "provenance": []
    },
    "kernelspec": {
      "display_name": "cv-seminars",
      "language": "python",
      "name": "python3"
    },
    "language_info": {
      "codemirror_mode": {
        "name": "ipython",
        "version": 3
      },
      "file_extension": ".py",
      "mimetype": "text/x-python",
      "name": "python",
      "nbconvert_exporter": "python",
      "pygments_lexer": "ipython3",
      "version": "3.8.15"
    },
    "vscode": {
      "interpreter": {
        "hash": "1133e475ae7e9696aaea8935343c6497238ef1dfe2ec14fbde03026e3ba8c70e"
      }
    },
    "widgets": {
      "application/vnd.jupyter.widget-state+json": {
        "00d1dfe0088e4a4292cb8a1979eee7d0": {
          "model_module": "@jupyter-widgets/base",
          "model_module_version": "1.2.0",
          "model_name": "LayoutModel",
          "state": {
            "_model_module": "@jupyter-widgets/base",
            "_model_module_version": "1.2.0",
            "_model_name": "LayoutModel",
            "_view_count": null,
            "_view_module": "@jupyter-widgets/base",
            "_view_module_version": "1.2.0",
            "_view_name": "LayoutView",
            "align_content": null,
            "align_items": null,
            "align_self": null,
            "border": null,
            "bottom": null,
            "display": null,
            "flex": null,
            "flex_flow": null,
            "grid_area": null,
            "grid_auto_columns": null,
            "grid_auto_flow": null,
            "grid_auto_rows": null,
            "grid_column": null,
            "grid_gap": null,
            "grid_row": null,
            "grid_template_areas": null,
            "grid_template_columns": null,
            "grid_template_rows": null,
            "height": null,
            "justify_content": null,
            "justify_items": null,
            "left": null,
            "margin": null,
            "max_height": null,
            "max_width": null,
            "min_height": null,
            "min_width": null,
            "object_fit": null,
            "object_position": null,
            "order": null,
            "overflow": null,
            "overflow_x": null,
            "overflow_y": null,
            "padding": null,
            "right": null,
            "top": null,
            "visibility": null,
            "width": null
          }
        },
        "02a6552007d74bfd84bed8482bbec030": {
          "model_module": "@jupyter-widgets/base",
          "model_module_version": "1.2.0",
          "model_name": "LayoutModel",
          "state": {
            "_model_module": "@jupyter-widgets/base",
            "_model_module_version": "1.2.0",
            "_model_name": "LayoutModel",
            "_view_count": null,
            "_view_module": "@jupyter-widgets/base",
            "_view_module_version": "1.2.0",
            "_view_name": "LayoutView",
            "align_content": null,
            "align_items": null,
            "align_self": null,
            "border": null,
            "bottom": null,
            "display": null,
            "flex": null,
            "flex_flow": null,
            "grid_area": null,
            "grid_auto_columns": null,
            "grid_auto_flow": null,
            "grid_auto_rows": null,
            "grid_column": null,
            "grid_gap": null,
            "grid_row": null,
            "grid_template_areas": null,
            "grid_template_columns": null,
            "grid_template_rows": null,
            "height": null,
            "justify_content": null,
            "justify_items": null,
            "left": null,
            "margin": null,
            "max_height": null,
            "max_width": null,
            "min_height": null,
            "min_width": null,
            "object_fit": null,
            "object_position": null,
            "order": null,
            "overflow": null,
            "overflow_x": null,
            "overflow_y": null,
            "padding": null,
            "right": null,
            "top": null,
            "visibility": null,
            "width": null
          }
        },
        "03e0554fb5f4485e8f2a5ddf17c1f93c": {
          "model_module": "@jupyter-widgets/controls",
          "model_module_version": "1.5.0",
          "model_name": "FloatSliderModel",
          "state": {
            "_dom_classes": [],
            "_model_module": "@jupyter-widgets/controls",
            "_model_module_version": "1.5.0",
            "_model_name": "FloatSliderModel",
            "_view_count": null,
            "_view_module": "@jupyter-widgets/controls",
            "_view_module_version": "1.5.0",
            "_view_name": "FloatSliderView",
            "continuous_update": true,
            "description": "shearing_tx",
            "description_tooltip": null,
            "disabled": false,
            "layout": "IPY_MODEL_1fa199b0cee34804931c47368f0c070a",
            "max": 3,
            "min": 0,
            "orientation": "horizontal",
            "readout": true,
            "readout_format": ".2f",
            "step": 0.01,
            "style": "IPY_MODEL_a15ccdc4aeb542fab35db39075a9a1e9",
            "value": 0
          }
        },
        "0674e00af861444c8a6a1ee3eea1b88d": {
          "model_module": "@jupyter-widgets/output",
          "model_module_version": "1.0.0",
          "model_name": "OutputModel",
          "state": {
            "_dom_classes": [],
            "_model_module": "@jupyter-widgets/output",
            "_model_module_version": "1.0.0",
            "_model_name": "OutputModel",
            "_view_count": null,
            "_view_module": "@jupyter-widgets/output",
            "_view_module_version": "1.0.0",
            "_view_name": "OutputView",
            "layout": "IPY_MODEL_75fb3c5e12c44d1e96f86e0cfb9dd9a2",
            "msg_id": "",
            "outputs": [
              {
                "data": {
                  "image/png": "iVBORw0KGgoAAAANSUhEUgAAAQYAAAD8CAYAAACVSwr3AAAAOXRFWHRTb2Z0d2FyZQBNYXRwbG90bGliIHZlcnNpb24zLjUuMywgaHR0cHM6Ly9tYXRwbG90bGliLm9yZy/NK7nSAAAACXBIWXMAAAsTAAALEwEAmpwYAAC3X0lEQVR4nOz9aaxu2Xnfif3WWnt6xzOfO9atuTiKoihZlGRbliW7Iw9t5YNbcKcR2G4nRgK7uzMAbbnzofMhDbiRIB0DATow4k7cgGFJ7XQQwR2P8iTFFmWRlEiKZLHmuuM595zzzvvd01orH9baw7m3iqpbRbJIc/8vzj3ved/97nGtZz3P/5mEtZYePXr06EJ+2CfQo0eP7z70gqFHjx6PoRcMPXr0eAy9YOjRo8dj6AVDjx49HkMvGHr06PEYvm2CQQjxs0KIl4UQrwohfuHbdZwePXp86yG+HXEMQggFfAP4o8Ad4N8A/7619qvf8oP16NHjW45vl8bwo8Cr1trXrbUF8IvAz32bjtWjR49vMYJv035vALc7f98BPvtuGwsh+vDLHj2+/Tiz1h69lw2/XYLh94QQ4i8Cf/HDOn6PHt+HeOu9bvjtEgx3gac6f9/07zWw1v4N4G9ArzH06PHdhm8Xx/BvgBeFEM8KISLgzwC/8m06Vo8ePb7F+LZoDNbaSgjxl4F/CCjgv7HW/u6341g9evT41uPb4q584pPoTYkePb4T+Ly19kfey4Z95GOPHj0eQy8YevTo8Rh6wdCjR4/H0AuGHj16PIZeMPTo0eMx9IKhR48ej6EXDD169HgMvWDo0aPHY+gFQ48ePR5DLxh69OjxGHrB0KNHj8fQC4YePXo8hl4w9OjR4zH0gqFHjx6PoRcMPXr0eAy9YOjRo8dj6AVDjx49HkMvGHr06PEYesHQo0ePx/C+BYMQ4ikhxD8TQnxVCPG7Qoj/xL+/L4T4x0KIV/zvvW/d6fbo0eM7gQ+iMVTA/9Za+3Hgx4C/JIT4OPALwK9aa18EftX/3aNHj+8hvG/BYK29b639gn+9Ar6Ga033c8Df8pv9LeB//AHPsUePHt9hfEs4BiHEM8APAZ8Drlhr7/uPHgBXvhXH6NGjx3cOH7jhjBBiDPy/gP+VtXYphGg+s9bad+sZ0feu7NHjuxcfSGMQQoQ4ofC3rbX/vX/7RAhxzX9+DTh9p+9aa/+GtfZH3msDjB49enzn8EG8EgL4m8DXrLX/585HvwL8Wf/6zwL/n/d/ej169Pgw8L5b1Akh/gDwa8CXAePf/s9wPMMvA7dwbbd/3lp78Xvsq29R16PHtx/vuUVd37uyR4/vH/S9K3v06PH+0QuGHj16PIZeMPTo0eMx9IKhR48ej6EXDD169HgMvWDo0aPHY+gFQ48ePR5DLxh69OjxGHrB0KNHj8fQC4YePXo8hl4w9OjR4zH0gqFHjx6PoRcMPXr0eAy9YOjRo8dj6AVDjx49HkMvGHr06PEYesHQo0ePx9ALhh49ejyGXjD06NHjMfSCoUePHo/hAwsGIYQSQnxRCPH3/N/PCiE+J4R4VQjxS0KI6IOfZo8ePb6T+FZoDP8Jrm9ljf8S+K+stS8AM+AvfAuO0aNHj+8gPmgnqpvAnwD+7/5vAfw08Hf9Jn1T2x49vgfxQTWG/wvwn9I2nDkA5tbayv99B9cBu0ePHt9D+CAt6v4kcGqt/fz7/P5fFEL8lhDit97vOfTo0ePbgw/S7fr3A39KCPHHgQSYAn8d2BVCBF5ruAncfacvW2v/BvA3oO9E1aPHdxvet8Zgrf2r1tqb1tpngD8D/FNr7X8A/DPgT/vN+qa2PXp8D+LbEcfwV4D/jRDiVRzn8De/Dcfo0aPHtxF9U9sePb5/0De17dGjx/tHLxh69OjxGHrB0KNHj8fQC4YePXo8hl4w9OjR4zH0gqFHjx6PoRcMPXr0eAwfJCS6x7cAg8GAK8dXMdYgpZPUs9mKNN1SlCUWjRQRAolAAKACSRBIggCyrEIpyXg8ZDQcIKRACAFCvPtBRb0nAZ3NxKOvLn3Wvte+bXFhMBYXD2OhG5HSbOv/F/7cEP703vHg9a7r/5pjtPuQ7fcfOcbl82q/d3m3j4fN2Meu3u+7OWd/D+rNrMV2jvqO+/X32dZb/J7ROrZz2d1rb3bH5XvWPJXms8fuS+ewX/rKV36vE2jQC4YPGc89+zz/y//5XyYvtwwHilDB//Arv8YXf+d3uXfyAG23DINrBGKAEgEWy97BiL39AQcHkldeOWM8HvHjP/YJPv3pj5IMBqgwBCkRQmCFANuZOm5eIqVCSOknmRtQAjfA6snrvuQmhpQS2Xzud2QN1lYYXVFVpRMOtYDw20ok0p+LUgFBEKJUgFLKb1MfR/rXfh8WtNEYa/xrgxCgAkUUxiil3D78uQkhEAiMMVhrsMa43VhbTzfA/W20pg3sc8e3dK/Z3RupFEHgjiOlRDUCCXdexicVWwH44za7Fc19teA/c9fVFazN/9aJBWvcuTXX0d7O5nkBSBm4/UuBlP75SIGUoJRCCIn0YslaJyg/9sO/7z2Py14wfMjY39/hD/3k7yNN15ydnfLWm7d5680l6cYgUVQYrNVYYZrvKCUYjAI+8tGrbFJNkVsePLygrAwDKVCBRKignl9gRTOgrQBZT8LOitNCALIZ2N1FUkiJH+ad7aVbOaVAuDncWWHda6kkUioCFfgBLWlXZP+azoSRbpIqKRDGoI1B+kkmhUQKgfTnrxoB54WKwcsWi9a6vSQ/TcRjy/zl6xZCIpVASIVUAUpKr6td1kicbJTNhDYGrMFrEu4eNfdYiOY9rMV6QW2F28YJDNO9A/56JAKL9SctvWCQUjVS/vKds+551Fqc6J73kwUX94LhQ0YYBOzsjJFSc3ICs1lKujFo7ScoFmMrrNWtamrdsrOzN+ba9T3W6xykMzsQoKQEKZvVy2/uBooAIVSz6kusVyjqwdpVm1uBUk+8R1e7GrWa3dFk/ffqaVVPPGjUE9ykEt1d1istopk4+MkjBG7Vlo8KNduuuNZ0fmxnv7ZzEHe+7RW0q7ubeNJpDFI05+uuq5Yq/n1bK/+i0fm7d+VyuoEXGMafo3+v0ZgescGatwUI2woYIR4VUn7f1mKNwIr2uBbbml2PrwDfFL1g+C6AFAJtNOt1yunpkrKQWOtXQQsGN+mbv43BGhhPxjz93BHLVcpytQahEVi/igosolGnwf2NFE5tRyCERSKaKjt4NbW2Fy5NCmgkTD2lrDVgLbI2WeAdeIlawNUqe/19v1/rVsRa7DT/hEAKp41IabEYt6dGqLkV2FoDRrTqunbmhzHGTURb77U1KC6bEe67UtTajUKqVjUXzX3oCj3hV/2O5O3u0tYi9DLv4hQDg2nMCuNMuq5waISQF8a2sd0629XX76/FuJMzon7mEilBSNs+w14wfO/BWEMUhly7ts8nf+ApvviF1yjeiMkL93isrRrBEA0Ue4cjrlzbYbozYXdvSpZtOT8/w+gSYzQqUEgl3SABrLFYJLYeOF5TEH5CKj9BTD2VO5yDvLTcdM0Ip7MLvxIKaztz4/ISJYRtVuzaFGhV4HallfUcEDS8waOTwlrTHKVRyW1tl2u0bjmGWgNphVvLAVjTZfWsF8RudVUN99JqDe0CXr8yHSHgJvRlraHVVi5pMsZirKYRHVY7gVhrAra9V3gOwW2HN0PafdX3xV2mP2fvaGxMkVrAPKHK0AuGDxnGGIqiZD5bUxaayWjARz96xHp9Rpot2K4lCBiMAq4eTrj17D7Xbuxy9doew/EQjEHrEoDZYk4UDdiZ7iLDsBEMplm12onm/nIrC4C1wlvhNLNTNqtku8IL2nHrvmfBmMuTwb+2ojZhnIBxKjoNadba4/7catu8/rPDczwOi8EirWgmizHar8pek2hMmFqR95a+tRhPlFpj2WYbrLFIKRkMhySDIUoFCCuRImrPsNFU6lPyeo4Q2EZQ0mgqjUJvvTZDx3vT3qVvap6JWtho0xKptta8vOnntTjpHkh7HzuC9Z08Md8MvWD4kKG1MyHu3r4gyzcURcnR0YjJZEAcRQgUCEsUK/YOBzz7/AFXr+2xf7BDHEfoqkIFjoVertdMJxnGk3VWSIz1K3Y9lPz8qyefbFYcJxya6dQx/GvTupmjtmPTt4YI7TcetZdFIwza35dtcIEj5epjtDZ/Kxi629vOkaz3CHDJK9JOOPc9J7yMMVRlRVkWGG2wRrNczrCmcpqCmaLEFBNESKkwOnErsRTeoyLcquzvl/O81DzNI7yCtV58+fNtPmofgujc10Yg0jVyvAD1HpraLGw0hUtipRYktfCqDTfbC4bvNazXW77+1df5pb/zW2w2a6QqGQ016doQygRJ6Bn2kmybs5hviaMQJSSTyZAoChkNR+zv77FcPKAsc/I8ZzQauSkrQCiw1gkJU/MEtlmUG/XTNjOp5RFaXkEi/ei2WDdITavSPrrauUMLpAyce1I680aqRi9pCDw6fwthEYp2tROXP78Un9DETnSMmEadaVQhd/9shTaGPNsyOz3h9MGb5PmKskoxOmM8HjAeJohiRLEcEKgEoQZkFchgSBhN2Du8xWi8gwq8d0a5E3JWi+q4QS1dDaU+N2fSGFoVv9XI6suUXoVrNAJrqbSmqnJaISvbfTa33gk/rEZY2eFa2/N5EvSC4UPGYrHhC194lYena9J0i9YZVbFgtV6SZgVSBGizZbna8PabZyzOC0aThMPjMX/kZwOuXNlDVxXrZe5Wf1NRFplX3d0wNFZ409UiDE6LkLWabZGiXlncdpdWLSEfZQyc7S2c16DVGrpWuG0GsCPyRGure3W8WVlF+y3hidFH10H3q3UDApdWxkZDkAKMxFqNLkvOz05I1yu22zVaZ2TZmqLYUuUrJuMRV44nTHeuksQxURyhpMKaCmslVaXJ84zlfEmW5RSlhpc/z+HR00x3j9g7uMZwNEX6mAFdaS8oL3sd2nvm/na/5aXzboSG6Gxf31ljQLt91zEnUrZ8iLV4krardjjfqbUGY2Wj4T0JesHwIWOb5rzx+glpmpPnFVVlSFcZeVmhtfE0oaEsSzYmo8oU61VBWWqWy5TpeECWldy+PSPfpkRqRLazdZPdT37hNQXhFivHmzUquz+RWovorOJdtb59E+8+q7/8mNho3H5NDIOovQzQTAbvLagPJBDNdxwuawK1IKlX0UvCpTYojCHfbsm3GzbrOQ9P7rFZL8iyDVBgTYnAEIaGyXiPncmAnemYwXBIGMUIISmLgqrSiKKg0hXGlJRFyjbdUpYV1hjSzZxtumBn7wqDwYQ4GSFVgDFeUHZok/ZqOoTiu44Gr6dZ27nn7XV3TbKaFHbPSDT3rauFXL6HT4ZeMHzI2GxyXnn5PmUVU/ud61VZ+ICbJrKOEhCUpSHblmw2GYv5hocnSz73r15HBZY8k+xOp46MEoCLwUFr79Vy3r0GXReYrQmsjsZQD7BmAHYHvXB2rRW4+BycZgA1jyAJfNSglAKlnApubcdU8Ocgm+t2E8LUJkrrhICGTGzdfdQaiDEUWc7ZyV0uzu5yeu81VusLtK6w1pAkkoP9faaTKXv7e4wnO4RBiBICYzVCWFQgkTJGlQVKOu/EOomoihBdaYIgYLW8z8X5W7zxmuHo+FkOjp7i8PgWe4fX/D0UneuotQBDS1Z2BV99I73WZf13mq1qQeCjGaW/l0p1hEHriG3E9CPaWfOwngAfSDAIIXZxXag+6c/gPwReBn4JeAZ4E/h5a+3sgxzn32ZUlWa1yggj5ezxIESqAKElQiiEf0TGaiqTgwKQ6FLw8P6S1UXG2emak7sp1lZE6iHjccKnfuBjDIIBUkqMMQhlmuGjK78W2XbeWa8t1BPfdoRBjTYkyILVgEFKC0hqF4YLnmrjEFzUowsYajUDrwJL0YZlN6slXgXWj6i/nYnQuO0c8Zeu18xn53zly/+G2cO3CJRld2fMzRvHRGFIoALnFjQWqy2LizlVXjIejxlPxwQyBqv9JWmqMqP0BGUUhQwGAwDm8zkCgZIhItA8PH2ds7O3eO3VmP39m1y7+RK7+9cYTXYRMvARnO55XRIElwwN25DBjRUnGrHgzYYQpUJvZQmEVM3nl6yR+lB0xMuTBjB4fFCN4a8D/8Ba+6d989oh8J8Bv2qt/WtCiF8AfgFXObrHO8B5+3RL4gnRTi7c63rYuHgGZzuWZcWd2wukEKwWObo0GDTrdcbZ2ZI8z4iTiEBIHGvYTigpHc9Qr8AuqtCC9Ww7tZrfYfe7artn+YWoicmu56HNv3A8RydkuVajhQv2lV6rqE2Sxkyw0tnIzWTq3CzRjVi0lGXBg/t3uHvnDd547avoYskgCYhUxSAWGOk0JGsMWrv7XBaWIFAEYUCQhYRx4rkCQVVVaK2pdElVFkjh7peUECiBMRJjNFVVkmVrQCBVAEaDLVktHjAcH3F09WmS4YgginlUS+hyJc2z9b8Fop3PtdnmtYquh6ZrcdV/OAvPaR/GCoTRPoydJxYQ71swCCF2gJ8E/hyAtbYACiHEzwE/5Tf7W8A/pxcM3wTWM+duIjSTyU8YKZRfTQ2G0qm9SMpCc+ftBboyVKXGeHIu3eRcnK/YZltG4yEQeJeaF0LWNAp5PUGNP416yIpHT89RmLSD2Q/sRjMQjUtPSunMAu9uVFJR67WiIxhEfZ241y7Zi0Z4GdPGMzhS1LhpI+pzcttutylv336dV17+Cm+/9SrTUQgmYRMJxoMIqzVBGNKsydaZKbqqKIuCLM9IqiFBGCKEpKoqH1lqMKZCCEfOSgFRqLyHCCpdUpa5uw5TsVptKbI54emAZHSVKI4R4gpBEDjB4TWiNmeiNeMu6Q+1h0K2EkDaOk6iEZ+PPKU2K9PJb+PMOyzykjn63vFBNIZngYfA/0MI8YPA53Gdr69Ya+/7bR4AVz7AMb4PUKuGtvkJohhZejsShUBhMWhbYmyJFApjLat5ge2o3IKANK14eLrk5OSc8XhMkiR4s9wHyDxm6XaU2y7q86l957pZ17qTu9YEXCyF8DkG6nHewNu7Qtb2cYdb8J6PZuWzxgkL4wlGP4ksFqtdEFNVFWTZltdffZmvfvXLfOPrX+XsdMZLzx6wOw0ZjEZs85y8zAkCyXSyy3A8IQhCLDAaDgijiCgKcbFW7jrDMCIMI6I4IYoSlvM5UkoCJRkOhwiR+3tXotQUoyuMqdBGUxRbjKmI44Q7b/022/V1rt54genejcaUangS0SEpHyEIa5OvG7HYaFOXlA/b3K/6qVpAV651rJACaQLP8aj3PCLhgwmGAPgM8B9Zaz8nhPjrOLOhgbXWvlvPCCHEXwT+4gc4/r8VqN16DevuJ5OUPhOROmfCq4hUnqhyK3lLPDk7VpeadFPy8OGMa9euMJmMkFL6AKDucd1vib3EMzi05J4TPKZ9v9YQGtLLeoacViuoBQY1cVELkzo70x25HsiiJjgumQ4dYYLzOBitKcuczWbNZr1kOb/g/t03OTt9yHy+ZptZ7txfYYxgMoq5cuUIFbgU7ygaMBpNSJKEKAoRQqCCgCAM0UZwMVtQldq5VjFs05T5xZy8KKiKHK3LhpcRUjIaDoliJ6CNtiwXS7Q3Q2bzE5CCqtiyXJxzdPVF9o9uMt7Z96q9Nxs6Gly94reC15uUOC0C2713NGZWKxxqj0i7wNTZrta24+u94oMIhjvAHWvt5/zffxcnGE6EENestfeFENeA03f6ct+7skVDIoFbPev0WqEaQeFgfKalaXNrbGfiITAGysJyfrFkm2VorZ1g6B7rshba2Xut5jqhgNVYU8f1i0Zj8Dvyx24H4qWdUmsjndfdxCMvNN5xwNruCxfcVZXuJ8tS1ssZ69WC1XLGdrsiy7YURYm1kGYVm7Rguy0QQhAGAUEYEcVxUwci8Hkk9UpqgLIoybLMHa/IWC1XnD08p9IGrQswmigKG2ESBpHjHBBoLHleeM+BRJuSIk+pqpL1ekGlFSqMiQZDkmTYJRAQPgGqlQzC8yj1NlxOFa/vTOO+Fd7Is030Z+MatRaExprWL/Je8b4Fg7X2gRDithDiI9bal4GfAb7qf/4s8Nfoe1e+J7QOKvcjlfJCQbXCwU8qbXKMGOBGUl3VqZtxIDFacPvuQz62WHPluCAMI6RQbuVpIpgfIROb2AB8ApIzH1qqT3e+Jtox7KwNVy/Cb2qwbc0HL8QQdWiu15KwCF0vkQJhH6kyaF24sjEV282SzWpJlqWkmyVZnmKtIY4lg2FCHCuiUACS0SgiCCPyQpFvK+IwJokChuMBZZGTZ1us0STDEckgIRHOfBgOQgJl2a5XPDw7YbFcM1ulZFlJWWaA5nh/l0QYSlOQbZaoQLpoyqLgjTdvc/OpW+zv7xPHAcU2o8wzDIK33/oyMlCoIOD6Uy80HIy1FiVFu9LXBXVEfavd/WpiFjoC2NbRqp5TuBTE1CGyqQWG/s5pDAD/EfC3vUfideDP43TEXxZC/AXgLeDnP+Ax/i1Hs/S7ACMrkDJEqgilQk8+KnzlBIwtMbbCWI0Sis5MbwaGNfDg3pyLiyXrdcpoNKaezKB9II7TA4yxHVveh0XWg+kdNAHrzwNb28jCaRrGezaERaLQnkRzXhV/pQ1v5gWgaL0SQpjOjHCZknmWsk3XPHxwm9nFCVWZkyQJw/HErfRGg9GMxwkHh2PSTc4Lz17n5vUrPPv0DS7OH7Jcr9ikS9JtShjGbrUPIxLrhJ7EWThKSgLphPF0ust0Z49nw5h0k5KmW/I89wu4u086rEjTlLIqKcqS6e6I8/NzVus1zz3zFFYYymrLerMiLwyvfL1iNjvnyvVnGg6mLtLSFmrpuDW7ZgIteVt/KPGRp8ZircbYNvKy1vCEqp/5kyvkH0gwWGt/G3inXng/80H2+32Hmt1XgjAS2EI1vn/n469dlp1KQPAYadUQWxbWq5zlMmWz2bo4BuHYhNYWbbMSm6j+ToGTyy61jiYrOhl+XdKrI5SacnLCa7O0r91GtZrsvQwdXqI+pyLfslrOWC3OuDi7x2azAOtcpEHoysNZQOuKJAqYTgZEgeT4aJ/9vR2SOGJndxetC1cujVomScIowhjL1k/4aDBAVxVVWZJvtxhd+YhNQ5KEgEEFEmMNYRBirSHLtqTbLVobyqIgUGCUMyzyvGCQhFRKUVUVVVmwXJ5jRcjZ6T2OrtwkTgbu7hrjhM1jHIs3F4TwPIRqCFunYfnPpUF7t1Kd1t1W3upSzE+GPvLxQ4YQTlUMIkUycD9VZRGqFgyq+anHT517UCc2NC4sKZ0dby3rVc58tmKxXHvB0Nr6QBMg1JgRtZDwtQ0urTT1wlN7D2ydvuz3hfWmQB141Jol9erVjNFaLbYCLVrvhMuVcGZMVVWsl3POH97j4uFdLs7uObLQ5yVYC0EY+uzHisEgYm9ngh7FXDk6ZDIeUZUFx1eOnQdDa9arBUo5oZAMhxR5SZZuyLdbBqMxVVn4ehYVwlQIKSjyLVGcIKUlCiVChYzHE4yxMAcVrDBGUxQZwmqGw5AgCNlmW6bjAaUKHPFnKrJ8Qaktb772NaY7BySDUeNpwQiMqF2O9U2than19pr0FbjaqEbrn7XnaF1ehfXRs018iG2e95OgFwwfMuJByLVn9vjEJw9IwhCdW37jcxcUmTMfBALZcAmCJBlydLjDZLjDyb0UU+GLjtimqAdWUBVwcjrn3v2HfOTFZx0TL9sIQzdmOoOxJq46lY+gy3m5oCM3Kr1HwbhB61RcA94lZk0dqtxhQGpuoiNsBOqSC9WUXlNYzXjzld9huThns1mQpWvCaIBUCrtcocKQvf1Djg6vcP3KAZOBoiyPmYwnpOmaTZpSBgHWzhiORiTJgGD3EKtLN6G0ZbKzy3QHrNHkRYauYoqyYLWck+cFUioiG6KtIVSSOFRESUJVVmhrSYYjBoMBm/WCIs/QukRpTSUrsjRj9vA+YRgTD8YsVgtAUpVb/vWv/z2u3XyG4WhCnAwxTTEYidYVNAK/1R6sFSAN1giMcLUwawtUCsdJGWMQUnmyuBbgjvfpJH6/Z/SC4UPG0dGUn/3ZH2R/L+D0wYK3Xr9Al27SSOEKp4qGZ3BM+v7ekCvHOwgk56dbqsoQJSEHB0OK3JCmJat5wXKZcnG+JMsygjCgsfbrmGThXIXdqkDtiu+4C4vjPWqVv3Uxdq/CfUc4+hsrRUOkuYCd2mfS+YYVPiKzXtFgu12zXJxxev9NFvNT8jxFV47800aDcPzG3vAKYaBQ0jIZj4mUoqpKhBTk2ZayzEmLAjAUZYlSS4wn+oIgYDAcNJWVhQClAqRUqEChpECPJi5gzFjKQjtzoLKUlabypeMs7ntRNCCKRiwWF5i8wNoSXWmkDJjuDNgbjgiWCXlRoMschOX0wW0m0z1uPPUCoBpvAsiG72nf80+hkRMWa+sqTa2B2bg5a9FvcZpN/cifcFz2guFDxu7uiM9+9iU2qwUXZynzeYbzEEofDCSbH18ShPEk4vjKGISgKi1VZZjsJVw9HrGcF5jTDSsk61Xm/PvbLcPREFmXbG8JcABsw2o3ju/mfYHw1Ya7NmsXnXdrs8TQEomNSSHa8Mtac+gE7BijWS1nzC9OmJ3dJduuXBSi9l6BsgTpci9CpVwpBF0SBIo4ilBSUBQFVuvG+yCFy/dw6cuaKIqIosivtJYgcLUiomQIAgIpiQKXJVlV2hdzcTyCNoYy05S6wBgXHWmswiKRMmSbuTD1SluqsiSMhwzGgihOCIKYdJuz3eYIaTh5cIfdvWNuPPWCjzFxfI30z9dagzaekHa3kMsahO1YCS3B2BbkqZWOVuuzTygaesHwIWOQxNy8cY1//a/ucfvtBW+8uQZc1SDfyQElIqc9WDf4ZSDZO5jy3AvXuHrjHCHgxvUd8jTn5a+ecf/uCmsN8/mG05M55+cLpjs7PisPLk1MOqtJrQrY7rt1zoaPUBSCy6SWQDwqMuqB7PflTJ1ai/CaipBYoxHCJXll25Q3X/kS69U5UBKqkKrIyLMVm80MCInjAXt7R6Arss0SU2zBGsoiR1clxljOL+6Rbdfk+RajrzIcToniAZXW6EpT2oKNtuTpmsFwxGgyIbTaFVkxFhUoiqxwGkEQMN3bxVhLWVWsV2u265xtumWzWrBOc7KsIN3mnDzcstloqsoig4Ag2BDFE7R2YeFpWnF+kRIGgle/8RXiZMjHPvnDPt3b3TKpXLUuayVSaLBtpW/QrRy1FuvjHyzmUlCZxRfjsebSU3pS9ILhQ4bFok1FXuZUpvKDxLumpEDJAOnjGRCSJAmI4oBkEHHzqascHR84NdtYfvNffYOTkzXrVY4QiizNmc1S7tw/5cr1Y6cqq27AlCcJBU4rUBJphI+068xvAU3ClOcYXIXpujR5s1Gj7uL98o5Rd6qvsaYJyhLCe0qsoSgy7t15jU06R5uSOI5JNyvKqsBY470QEVEYAhrVRBdrsu3GaQDKgq0YJgmBtESBZHb2gGyUMhxNGAxG1MJKKhczWumSInP5DioMXSZqpSmrHGtBGUUy2WE03SEZjKgqzcmD+5yfPSQvKvRqQ2UKtC0JI4ksXHi6kJad3ZgoMqxWC6qqQCmIIskmLbl39za7+8csFufs7x/5uBX/TLyLUSgJVne0N+9afoREdJGxBikkRgiEUo3md6ng7ROiFwwfNvyzG48H7O0NOTwacPaAZhJ2vRJKBuzuJIxGIVEsiZOA0ThxqduLDfN5xmZdUJVuFdHatbA7O5+TZzmDJEaIoHF5ucO3ZCDeM9CYE50wXJfg1dm0Zr9EzTpweX+N+tu6Ph8fpu79qiy4OH9AmW8B03zXeUgMYRgSqJAwdIKtE+6ACgLCQKKE8BqIpSwiiigm26boqiDPtiRxRFVWYJwZEkZhE1WqK00QuhqP1hpXel+7bMz6YEIIBsMhw9GI7TYlHgzR1lKWFUVegDUECmzozi1UYG3JdrvGmoowkMRJxCZ1yVdlsaUqc88luHL/NdrUktr97PNdfdyCaUy++nnUrl/pSu170+RSX40nRC8YPnQ4Ffupm1fJtyVVUfCvLs4pSkc6utUkQImAUIbcvLHDwX5MnFjKKiNJdrDGheTOZxnbTekIRSHASopMc+/+GWmaMRoNnMYg6tqCnoSsB04dRFMHytTaCy0PVouT1sMg6NZX7MqFS7kXzQe+JJlwg1fgEqLOTm6DLQgC54IMVOA5Uk0SD1DCEYdRGPlDWYwVjCe7JKETDlJAmm4py5KqyCmLgjzPMFWOLjKqqkJKia6G7A8OCYIYFcZYq5EiIFARldAENqYsCoq8pNKG5WLBZrVmZ/8AKSBJYibTKcZAti1YrzaURUkcSqJIkeVgTEWZb9lsQMmAOI4YC8VmlZHEiiiUznvTjIJaAF2+x00h3vqOS7BVN5TcbSCFxNb1Io3rLSGsdin972NU9oLhQ8bZ2Zxf/ce/RRgaTJVz4+qQp2+lvH27oCjq/o6OeNTacv/+Bfv7u0zGY/b39xgNNGGo2D8Y80M/cp0klrz8tZJ0VSCQlKXl/r0LZosl48mAKA4doWiMr7FIE3DXrPJcWpAaGOOiBYWoG9q4LYUPwoHGUdbEMjSjukErOYRf5csyZ7k+Y5AkSBlhTUkURQTBAdPJru8XUQCWQFjmF6cuCElYrhxfIxiPUVGCERJTufBfhWRv7wpZnlKWBcPBxDdgcTEgitD11RSgwph0s8Gs1igVM5qOCMMBYZiRZylF6biDi9kMXRaOAB4NmU6nrNcpWq8IogCB6895cDBhZxJTlTmLxYIwDDEioDK+GK4yZPmSe3de4ej4OiIUl29PE3NS56fUWoBty8ddejr+3vsoUyMFGE1dH9LYx02Q3wu9YPiQMZ9t+c3feIMgFATKJS6t1iVl9WjhFoW1gvPZmnv3Z4xGU55+tmQxXyEQ5HnB3u6QK9cmLBdb3nh1htUGow2r5Zb1akOW5exMp26/slWRhf9d27DNEKqjI90fYJ05UUdXNBqG8CuepRmAbdC14NKYfERIGOuyJk3lVlhTZRS5ZHfviFjFSCmwuqIsM6oqp9imrFZrsIYolE67qUoqLFmeUVVtWLdEEgaxmzDWejIXjNZUZYUK3E9VuTBxYyxluaGqclQgUaFks16hjUBb4crOFxlaFy5nRWcIT/5JKYnjhEGSsLe3Q6AgxxAGAQhX1k4qxe7elCBw8Rp33nqVj//ATxCEcZfrbQLD6ibB1vjfnQxK0wlCu9RM99Ldf3/EI/SC4UPHcpnx279914XqhhBFgIkpCu3tekW3y9BiueTByYLhYM42LUjXJbo05FlFGAqm05jD4yFvv7Foqg1tNgWr1YYsK7DWd3nyBKer8egGmxQCXUctUpsDbWI34Eat9DkGvjhL29vq0dRf2pgJanXZOz5FWz3KpVQbCpOB5xUODq4QxzFBoJBYykKxTQ3L2RnL1ZJASaQYEEjX+NWUOevlBcLWtSAEyIhAutL1VZl7gs9SmcoJBlX6bEjTuA3LwmVqRnHEeGfMZr0GGWAJWK+3FMWaIluzWZ+7rEbroiTRijiOHQ8xGFAWGQJJGIWuYHygkCpiOIop8pQs23Ln7dcpy4KkyTtpONxGQ7DWYnU3d6V9DI2w6Hy/fpbd959QWQB6wfChw1pLVWoQhrKENLUESlLpugWZRInQq76O2dpscs4vVpw/XPLGa2ec3F9z7/aavYMEJSW6Mr5Du8AaSbEVnJ2tuHp1g7GWULat6YXAlYExFk0nHLoZTLLDjLv+iKKZ2B7C2SPCC4XLPRbxxnFHQ+m4POuWddiKzeYCISxJMqLI11idE4Yhh8dXqYqAsshYLObcf7BkOhkxHU/ZPzggDhS6KknXK8qicG5JXTGaHgEWrR1BWKqSunWbu0+aarUhz7fe5VkhJFS6IAhjsjQDBdpqyirl4nxOka/YpikXF3MGQ9hsKopcU+mKiwvNfLHiwYMTrC1JkpDpdOi8JHFMEMRoK1ksStabgiK/R5HnVFXVqePYhoA0moJpTYeGaPTh49ZU/lnXEasCY7QTtsb6SEjR9Kt4r+gFw3cDvNuuVh+1qLB1h2vAJ0i4wWMsReEIrwf3Zty/N+P8dMtqmZNnrgYBVmCqTh1JK7k4XzKfrynLkjDwJdU6fRxqaVCrqe2K1ZxkO2ibfhJtG9o6zqZuRAte77C20RQ6rEPTWUEISRBEDIdTjF6DrQiUJV1dkAzGKDnGas023bBar1msti7NOnKmzGS6w2gwQFoYJgPOzx6Spmuy7QaJIQojgiQhCUOvARm00dgyQ3sZGAiQoaISljxPWc3PsdYSRAnxaEKpDUVZsUm3bNZL0jRjPt+iwrHrlWnc9QwTV8YtzUp33CBw5GqpCQKDEYbFcuXL0AuyLCPdrBgMx4TxgDp7stYGjK6axj6tQK3rZ7Y8RF1Yxz07jda60cKaalhPqDX0guG7BF3BYLsptI3bUnp1HaqqJE233L93wfnZiuWqoCosVVFRuxG7fSgFkuUyZbVKKfKSQRL7o3YM25oLuKSidk7Q8wi1luF33eEMvPeizvyjVokt+JZuj3ot3D5cctRoPKEsBujS1Usoi4wgjNBaUxQ5m82KzXpFnpco5dyWSgUMBkNG4wmRChgNh0gZsF4v2awWhNGAKIx8RqTXeKymqgqKIqfSTgiqMMBq9z6mRBjjQrG9uzIvK7KiJE1z1uuUNC1I04pxZqgqb4ZJ4QrMBpKikkRRSKBcPklVuWa7Qmi224yy1FgrsCZnvVownu4Sxgm18BTYS8Vrre+K7W7YZdtAdO6lrXNdtPEag+NOnLbQk4/fc3Dp0E6NF9RVo1sm2UVBKiSu1FtZlSxXS77ylTtstyWmEoQMm71hXTCzUkGzVs/nKbPZms0mZboz8UFKj9cBdJOnJRG7bGFTEl7IRtFwwsC2RKStw669RqFkG5rQXeVqh4WAIAo4PDrElAvWK81mPSNJxi7TssxZzB5ydnqf2WzWCE6lFIPEVUQaj6YMBkPiOOHoylNs0w3r5RyhFFVRYCrNeLyDUC5OoSxTiqL0E9bd6yLPKLIt62SMqFxildGWVZ5SZlvy7ZblRcZyU7HNDdvcMrtYNyXdlQqbBtg749h5InzD4rIyqLJEW4vWhjTNqSpDEChOHtxhPN1lunPghXjtivVNeo1puBhUrSm4gsA1pBBo03otnAnh4zAQrrht75X43oKbbAHGVmCMUx21aRvAevLRRT+GTmuwLmZ/vlxgrUAREXZMSKfcq87kC9huSjarLevNpvE+GK9m1gOnJhu7e2r36FN5Abwt6xruStoMS0+eNeG6OO3DKwzGT+pm39YJRSlgOBw600MIkoETCmWxxeqcdC1YLp0KX5ZQFJqD3YDpZOJV9ohQxcTRmCgYEscTRpM9onCAsU6tDlVIPJy4jlFWk29XVGWJNrrRTExVUW5TZvNTtps1m82a9TZlsZwzm13wjVdeJi9XFGVJqCo2K430t+A804xGFVEkMdbVjoxjxXAU4sK2Xcj2eDzEAnleUZaG2XzGNk1pjSzaIJBGu+o0/Gncwa0nQhtfqKVTS6NLGLf1Nd47esHwoaMuFy86XgDj6xuIxpSgrgGJxOIGQaW1HzCuirSg5gtEo+cLcJyAdnUOiqKkNVl8JF0tGOouuOBG+7u6Getzqg/zSLaEt5VF54vOPV8P/iZcB2vBGPdTlS45SQUhLlTcX2dlyLKCLK/QlRNmURgyHAwB4TwaZUG5mGN05UwpFRBFijCIkMr9jgYjpK8SHYQRunJEZZgMvMu0RA8zokFCvt2SpilZkbNaLdjbn6PCAeOdE85nC87OLriYrT0H4CZqnldUWhCEEPo6m9a6YrHICgQEoTsvl9WJC8bStbC0dDNc6/vXTmrbeSYd71Gn2pbAl4Jrgp26Pqb3jl4wfMioNYa6g7GLb697KLQ+rIZnEM5L4B52nWnvUoFV3ZymXr0bweBWZeE9IPUKYnzFn1ZAWKyvMltPZ9tJv8ZabGND+IQF4QhHbyv48223b/blX9NRgS1u4GrjQrezPKcsNXESY42re2CEIC8qtllJnlVU2hBFEUmSMB55zaIs0ZVhs1mjK+dRGA53UDIhHgxQUYSKEqRyXb7wnbd1WWCqinA4wVQFpirQQUAUJ5TjknFRoLVhm6Wk2w3HV5/m+Pbr3L9/l1df+QZ5UbqcCWMIw4qi0ggtGPnJHwTSFeetjDe3QKmKOHQZojpRDYfgZKlpelpc5hFEqyFc0tpspxSfExpOKCjXwFgKn27RPsf3il4wfNiwwtc78EVOalW7E8rqxpRoIiA7bWLa3aCxBH4S4hdkg5CWOIKPf+oZXnjxBkdHB2AFdVU24wejP5LPF4C24IJqBIkQde9E2RFWfrLXCoPvs9lqBX7PXvOxttYUfPCTdIFVs9mMxWJFvl2gpCFJEqQMQUjSbYbBEsaBTyxTDIdDdnb2KAsNNiVKEq4+9RzT3UOUCqmMYXF6j7OTO2TpikAKDq8+zXCyQzIYIqOgWWlNmaOr3FdwMmTbjCxL2axXZEVOURYURcZytcZUmkEy5OlbT3N89TpFmZFu13z15be4e5Kx2GhOVyU3jgTDxJCEriuUlBIClxcyHI2wKPLccnTlKtOdHec+1ZV77sa1/7uk/lu8Rlf3rNLtvbXeWSxc/U3lg9e0xYVQ28vP4r3gg/au/F8D/zN32nwZVwz2GvCLwAGuCc3/1Hep6vEukEI2uQtNMc862cl7JuoISCViVxAWjaUCq7DClZUPRNKSUtYQRILxJOLp5w746Mee5cqVPaI49gw5bkWpFx06jILo1F/0f18KaOrEKVhfxKWlKjvW7aVErda0aZQH6piCgDgZAIq8sJR5QboxPlpQglQEQeQThAqiKCZOYqIoQqmAZDAiGY5QQUC2TTHepZumaxe3EScESpLlGwwuvHowmjT3vMw3lGVBVRWUeU66WpHnTiDIICQJI5LRmHg8JR6OGM0vAMPy7lsYrQmDkOlkxMNZhUg1lbZstholJUnkws/z3FJWliDQpJkBXF/S3Z19BskQoyuXOu5djY5IdORh0+xWmE6BnHqc1H+75yCb++pdx7XH+jslGIQQN4D/GPi4tXYrhPhl4M8Afxz4r6y1vyiE+L8BfwH4r9/vcf5tR2siiEYQWOoKy75nPa3GIEVIXf/R2Aop6m6FfhAJF4kohWU0jjg6nvDCS9e4desq48mQIAzQWiNkW5a8nrj1ZK3dkvhw3/b4bXBSvfq3Lsnmgnh8dXKSo453aN4DQCJlQJyMMFZQFIZtqhFCEyhBEEiS0QglJUoKlLIMBkOSJCEMA6SSqMBpFsvFnLzQ5FnOdrtB51viOCaJY6RSZFmK1iUCXAu5MEL4qMg831LkGdvNhvVyQVm4BKpkPHadwVREEkYIFSCUZL1eIO6561ZSuc5WwbqmVygKQxUL12DGgNbWVX8ygrzUCKEYJIrxeEoURuiyQuuqIxjw6r8nfq3z/ggvWZvb3Hiu2rvdapptwtqTdm75oKZEAAyEECWuoe194KeB/4n//G8B/3t6wfCuELhy8UJL37vFgtWuFmAdH+tdi0qESBEiURgEBt0Qj/WPVy5IBvDRj1/nxZdu8MlPvcBg6KoUaaspvWAQQnl+0wudplWyD5du2pqJ9p/XNGiER80n1FrCe7lo0RnQrhbCZHpImmqWyxxdOf+mksKFiQ8EaZojhCSKY/b29pmOp4RhiMCSblasHtznC5//PLNtxXK14uL8FGnh1o0bPHX9BjePjzg4OmA8GfsMzh1s6DpSlVXOej1ntVowf3jOeu00hiwrCKIhQrrApXg4YDwZoaTi6vWnyLKc+fyCxXLOaDQgDAKUgFjhgotQRHFIGFoqbdHGFfKNpSKMhuztXWU8niKFJPP9LrSuOoK2bhDcjpZattamWTdd2+kFbRJ8SwzX3NV7xwdpOHNXCPF/At4GtsA/wpkOc2tt5Te7A9x4v8f4fsB4J+KTP3xEvg65d9dw++01umrdVm336FY4OI2hiR0EXOCOsBYlLYNE8oOfeYYf+NTz3Lh5yHAYE4SBS7zxJKOxriZgnYbdDLRaI4DGjBDgW9Nd9p3X/Fdr9wJGtAKi4SK7g7fOz2hJ0kBFjCYHRMmIwTBBSU2W5o6Y1JbVIkUICKOAMA45Pjhid2fXBRFFis1qTbpeoJTiM5/5UR6ePeC3fuOfUJqIvWvPcO35l9ievsFmFSCFIYwjKl2idIiwkGcpy9mc2fkZJw/uIaTEigCjEn7zC7/NfLlEW8tHPv4pymxNFEgOd6cYbVFBSBQlxFFIEEqU538Dhbu3MmRnkpAVJWVVEYQuFuXg4Cqf+OQfIApDH69gG22hyVSVIIT1P6pZ9rsxDHV93u4tlo9pbdbV4XwCfBBTYg/4OVxz2znw3wE/+wTf73tXAuNxzMc+fpXbrxdcnAePeZVa1V364KKgcVte3tgghWE0ijg8HPHcc9e4cnWfnZ0JKvB9KnwUojG6M6nbOdwIB9rJ3MYnNKKi5Rg6QVB1DEJ3pHYFQstLiPZ/v50KAsbjXXb3DimyFWW+oFQFpbauRVxWEQSOwLPGMhwMGQwGRGHYNJAZDIZcvXKV48MDAmm49dQtskJwuL/PZDxmtQgJQueNcKdpMLrCGkORbdmmG7bbLcZCrCKCeAjRmG2Rs8lSLJIwTFgvZ+TbAnTOZDIhUAFJEhP6gjGBkj4S0j8VA0kyoNSWvHDp2wJDGCZcu3YTJX0uiv+xTVdxH4kqWt7mMtoAONu926JrsrXP7EnxQUyJPwK8Ya19CCCE+O+B3w/sCiECrzXcBO6+05f73pUOe3sjfuxHX2R2co6UgYs6NAYrrbMNpYtfsGgM0tV/JPQmRNVR8iEINcdXRrz40g0++tFnme5OiOMIodwq4lqjS6T0LkhrebQxYjdB6rFkqC7F6M0eN3jr7eqy8b4Zq225C9vsr1EjWoEnI/YOjnnq1gtYU3D/7horJZXR5AUINAhF4FfVJIoYJAlxMiCKEsLdhMlknytXbgIBiTpg8Nk/xGY1Y2dnn0loCfcPGO+MiAcJQRRhjUWXJVZYtps1abohL0rG0z1G8Yhkukeyc8Tu/hSVhITRgOeffZ67AcwuTnh4dsJwOCCMAlQ4YrkIiCNFHEmqynkMrLGY0hDFQ+wmJ8sqytJFLV45hoODYx/D4m+LtE1jsfr+t3kohq4uV3uvGjNOuDoTdZZrKxxccHxH2XtP+CCC4W3gx4QQQ5wp8TPAbwH/DPjTOM/En6XvXflNoSvLdlPx2mtLzs5ywEXOCaPccoOnmv3oaWoh+GAmSYAiIJKKlz5yhY9/7Fk+9rFn2dubEEShK4UmW3eiRCFlHYIN0LZLu4R3XWTqFGBaOWFNZ3u/StVxDY/tpxPk1Ax8QRjG/OCP/EHGO3vM5ysenr5KXoDWrkyasG7ehFL4jtUxQRAyHE68xyJw98OnT9+oNJvFObrMnYtx/5AoCVGBrMMvMMagraaqcow2SKWY7u5xcHBIFCUICX/yZ36WzWZNURTEqmJ/EBLuThnFip2dKWEcYDHMz8/ZmQ5ZbrZssw1hAMKXrw/DEGkVVW65mFdcOT5iMj1id3efwNseru6mdWZMTTw2EaU1c+A1iY5ghtoEdIK4y/t0xf2T4oNwDJ8TQvxd4AtABXwRpwH8D8AvCiH+D/69v/l+j/H9gKrSLJZbNpuSsjCN+l0HHQEtxwC4VmWuOKzGUTlxGLA/GfH8cze4cfOY3d0pgQo8J+Anfb1QC+fG0r41XWNCXGIWoLuyO49prd52cjjqHTZbi45W0LzzyP/1u+1qWF/jdLLH9RvP8clP/xhpmjE7PyfdrImUJVQQKkkUBgSB/1GBD4mO2+AlXxNRSY3c2cdUlWuOqzVGZ1i0O653B+qqdNyNcnUjMS4jM4pcpav9vR1GowFlVWKsoLIFSTpguN0wnU4R0lJWzoWaxBGDOEApCALh+AZcIRpw5oU1gltPP8+tp58nihLfUcz3oZSyvb+iJX7bQpwe9nIMyyVNjFpTs94d4ULWnzDw8QP3rvzPgf/8kbdfB370g+z3+wnaWLZZ0dRPaFbRR5KompXDJ1TVBJTEkoSS44MJzzx9heOjfddQpeEKHpnAwpUAM3Xtha5qL2q1Fb/ktAOqzpJ0Q64NiKqHo225xHZ/zfVcHrz1y0u0g4A4GXJ85SZBFHH/niteY21FbHPCQBKFiiSOCZQrvqKkIlCuUKwKQlQYYyrtYgIsqOHEk6QWXeZs12dUPqTa4io56cp1nZJCuInr60IGymlSajQgHiZoa6mMQQSCYTpikG5IkoSqKmG7Jgwj4iggChVKQhgIlHKCtqpKwMVlRFHM8y98hGeefYEgjHwwEyBB2loTcDenif/oBIZhG+dyKwsa75WLGanT3bvenyeVDH3k44cMRz5e56OfOMbalM1mSVXQkFHOTPSh0M0622ZahuTsxAkvHscc7o0YDpwLz/qS4s3ks/W3LULZhny04BvbdNV+44VD3RqvDsHW7TjjEd2iMXZbb0ndqIZvYt92XWpCCQajIdeHT/M/+pM/z8u/+wVe/doXOb/9ZQJhGY4GHB1eIQgj6hByvDYjEQQq8na6Ew7WX7O1mm22cNqDNsgodAVOqgpTFK6Oo/El4YzGlgUiigijCBEokAorBEVZEsiA4WDIcJCw3W4ojW6qSQcqIFIBEmfySKCqDGm6ochzojDkR3/00/y+H/0Jnrr1DEoGGCF8CLRBWud6dtfkhXBNv1mf9erFghSdaNNLsLReC/dd0+TTv3f0guFDhpSSJI751A/cpMg2XJxf8GCzwFg32HRVufRp6Xoc1u5BgADBVGgm5QY5O0GvFphBgo1jBNGl4wi/mmDrmo0d/7aPq/dbul/O9+js2e6ObBuoKzqb1oOxtXNbAqzRKx4hOltzg8YtK31k5dHxVaz+FNPxhNfDCldBOmA0HBFFMUoqrNaYssQgXA6HNQjhJ5f3OFhcGrvR7j6CaL6HNZ6wq4O3HNGpyxxThq7PhlBY4xKgQiUhCMCE6CAg1QZTVeiyAp8EVpauP2alraOHlGW1TBEi4PD4iH/nj/8pjo6voHwRF4l0/IJPdrL28mwXPurRCouyYK0nF8Xle9sNn24Vve6zfDL0guFDRp6V3L83QylBHAdEUUDthLLWYHUFKrxsR1q3CAfAGMNAF+jFknx2QTUaYUdjRNyaEfXQ6ar00qunbWfr+jO8zQt0Soo1pGLzV4cxEG3UpPv78ffcflvVuNvbouYmpKi9FIrhcMzh8XXCIKC8eAtsTp3g4drMud4P+NXWL6eIMAIhEVWJKVNXBclHFNZnbYx29xUnJJXwbYMtlEVJmedUYQRR7Bu4uBVXWYERoPy5Wp+qrcsSay26qlx5OOqMUYvWAmMlh4dXuXnrRZ57/iMMBkMXju2sMz+RBa4uB819rm9XLU6tFQjrQtkaXkh0Ssm/iwAQ7/7Ru6IXDB8yHjyY83f/u88xmSgePFh2eCVPkFUaQmji5RuhYNkVmgNpGZWa7fmG5ZtvkUQxw8kOYjDCBTZ2eABavsHFReDLkQt4ZKV6FM3K1DVtpeRR7kDShneLjkpRE51gL5Opnj+RUnqtyAkGIQXT3X2GwyFJ8cMoWaGrnNV8RhIn7tz95K4nCIAcTNwxgoA8XZOnK4o8deaAcZ4IW2lE6L5jhHAFY1HY0rLMlgyTEYEKGI2HKBVTN5nVpmoFkTaY0gmRIs/RuqIqM6oyc4qRMVSVoNKSweiIz/y+n+bTP/zjjCc7jTvYzVbpyUb34E3dR7S5b3UylXCHRjTNievbKxA+S9Y0z6jVxoTPcetNie8prFY5X/vKCUpKsmzDelPQhrX6VcXbyhIJtiC2JSEV14VmR4RESHQFFy+/RSgCojgmHk8QMvGDx+DawrXDw6Xniqbmgb0kQmoB4gu8Nm+0AkI0r70qLtuNHhUxl9TcxnVqvYBqE4FkLRiU368QhFHM3o0XUOUSobcc7u+zXq8BqKyl0gVSC2QpUWVGOT9BlwX5esHD26964k8w2Tl0eRVCIZSruOR6RQriqPRuXdcScHZ+jq7ceweHISoIkLL2ejhi01pNVZUUZU5eZOSFc3kK70mqDOxMp9y4+RT/3n/w57l+4xa7uwfNHeHSvRZNsxj5yD1saikYMHWtzTYLzXNFvuikkG3OXbOXetu+GOz3FIy2ZGmJFAFlZTG6nhS1+uhZQhf5RGgLYgqGQjMRikgoJAJtDdtlxvrkguHOHXZv3PKrsEDIoBEK9T6FEEgr0bZqhM/lGe1Zep8oRZfgrkVCLSzqFfCS8Gh/2pWta2LQyQURjfnR1HnwA1lIQTCYIkSF0oJIJVQarC6dTV+VjmS1ArFVWFKKbEu6nLGczwnjiDgZYKsKZIRj+wVChc5MEO7+GIMjES3kWcZaCsLYFYOJk4EjPKX0lZmdC7LSjnjU2mCFZDgYsDMdk5YbRuMJN59+jk9++kd46tZzjMdTgiCiNunq+/HoOn45aa193wU41YV6a2Oz+zyEf0aXazU1fVAfE9ffHL1g+LBhXQUlV6/T6QWX7EYsVmusqRCmIrEZu6JgKjQjERKgGp9BvjWsTy8IA8vRiy+5ACcXtE9thvhduooO9aJTV3PqBMgIfNpup1hMl2/oBkR1U31r7kB4aq1LkNHIgVYjaLaXHROkrkTlhZmMh5gyxQJhZBkMDNl2Rb5dObIPXKxCWVGVOVm6YTWfkaZbpklCNBhgdIXQrvlLpStMXdvCQqWhKEuKosBWlrxwDYa11eyMp1hjSAau2Y6uNLosMdpQlRVV5cq0Kxmwt7uLkoLKSm7efIaP/eBn+PE//LPs7B7StvvqSNimebCtbzF4YlFQcy7u7hkhMNa6WprWl+Wrhbn30AhcPYZGcLQbXHpe7wW9YPiQUccFaFM5Nt1PjLo4LMJSbdcEZstIL7glVwwEhCRkVM1wc1qDZTvfIrOKB5//HMc/+ENMbj7F4OAQK1zL+Yb4o42d1L60mGw+72gDtbfC0rgIG1YcLg24OoVcqk6RWVtzEfhjBJfiF2pvBNLVXWjL2dd3x20oR0eYMuNs9ZD1YoMptghTsN4sCQOFEhIKzXo+J01XbDZrnvnEpxnECaGUVHnGw7N7bDdbqrxiMJlggaqqeHj6gPl8Rp5nyEARxCFCBBgheXB6l/0iY7qzS1AOKMuKLMvYbrZk2ZY8zyirkiSJmd64xdO3Aj796ZBbH/0hDq49zcHRjaaoa5ta0vEudbSpWod4LFTdC1NVu5itMysbbZIu39D+Dx135xOiFwzfJeiu1E1ginEJNaHeMLIpu3bJkScUtbXkdRMXp2dgAGMFurLM33hAsvu2q3c4HBMMBq6BQnMQJ5Kagix1GbbmxzYDsvmSqElEz3c07oxa/W8lSlcraL0Qtrm+VslwRWaFDFw8Rb0vH8Ph3PVeIImEeHpEZTTlRqC3OQaNsS4WQJc52yJFxhHHh88yHDkS0UV+GCb7uwymEyCgLHLydEu1LUAJktEAFQdoawmjkDiKXR5GnFAawybdMBCCUhvyPGe9WVKUuSMksQQqJEoShsMJe1ee4uqtlxhNd5HKNZhF1rO6Ns9sIxw607gzImo9sDEAL40T6nJwHdPMaXn1c2j32I1Wfa/oBcN3AR6NExAI7++qUNYyMBsmbNhjy1QJSivITL2tJ62EdIIBMBq2ZyvW904IBwmjK9dQ3kYWgaM2G21WuPJu1npV/pJfvyYGa7W+bh7TMQ/qnXQFAZdfNzUFOrZu493ws19c+vFHEDTn4i5SocKQMN9gyw0mF86OkQJhhctEV5IwSZjs7Tf3VgiBCEMGYYCUAUE0YD2fu9BwrRnZCWESUVYleVmipCQMXHUohKLSmrzICaLQZUmWGWm+ofQNYYQQjHb2GQ4njKe7HN14nun+FcIocs+oe922ncjgIxqbIKY6+qDOrKzdlrblHB7hghoh7p+I7TwLd/2uyO+TVXzsBcN3Abwx4YuCgrMjhS1RJmMqS24yZyJKRhISPziKzvdrq1zj6vxpCzqDxWt3qNKUeG8XFceEcoIM4uabAkGgFHlZmy2ymeP1yiMb8+Gd0BUCl12X3dHbvi2aN9xKhne/+mNLhZK+QA00tnZ7n9r9We/Wi6KEOE4IVQDjKaPpHlVZka03LIsFg+GQwXBIFPtMzHjAYLLPdOcKVZFT5Vs2myWr1Zw03bDerMmyLZWuqKqC+WLDeDRCqQF5npJXJdssZbtNXcl2IQjiIZ/+A3+Cye4+ceI6ZeMreRvtgqiMqcnUzpUYV8mprgzdaFJeQGjjmwjXDYi7BkfzrLrmRltZvLZUrDWY73SuRI9vDWqV0SnogScZU4aseYqUQ2kImklimwGhrW+vJkBZQWk12psZCEWx1ogHS05/53eIxhOGV64Sy31EoKhb0QnhG8II6+L2ffKVlD6Ix59jzUrU0ZOX3V+tQLhMcdWZnZ1V0icH1daS4xgUUiqU8sVmOzyIu0E1SQdYgwpipAwxFoRy1ZVUFDOMR76TdUm22fLr/+gfkgzGTPcOuHr1GqEICWVEHJ8jcaHCutKs05XrXrVds1hccH5xxmK5YLZY8uN/8EcZj0dMd6cEYYxdLdkWpdNSlGsDJIMB070jksEQFYROC+uEIxjbCRQT7Z0zXgWo3dPduSs62wNtkRyvRciat/EaRCsg2nvn6kbWJsa7j793Qi8YvgsgrOfwfbzCMLAMdMHYZuyKisQ/6E6rFroUnXvPJwZhm56MRlvKbcnm3hmbByeoKCYYDgnUqA2FVvUgMo3K2kz0Syt2e662UXEf0Q4sTZyUuPRfa/eKToy/804qzy10jvyIYGhccP63CiKkCmnNFfcdFQaoMPJdoQTT3R2ECBFSopKYMBgQSEcs1i0ALQIjJSKKkFWEFYJtukWXFaPBgMl0ynAyIRlPCFTIOt24c/JqkFKKwGsjSoUNQetvh++IDZcCyIR7U0hBO/9r4dAVxTX/IJv7VesNlyJHOy8braN533s4voP1GHp8S+D0BGEtAY6YT4YwsQXjMmfqh4xp9EP34JVX92uVvA6MMRa08NoAgirXrO+tWLz+JjJQRDs7BPGAhv3G7cBafDs0dww3kGVnoHd8nZ2lrWmL0s3UhEtCofGGyDYNvBnkUjbxBM2gx7tKfcSha9lHswSrwBVndenn+GtxNS+DMPGt+QQ/9GM/znqVUlSa3VvXGY53CFSELQVlnjWVmcs5qGpEkI3Yyhzx4A77431uPX2LKzevM5xOiZMBbh4LtI8WtUAQJgxGLkah7ljtztvxB01k6aW707okG8+E1/0vJzxZr2HUMSj1vas5m65AaO+52511ZpoUCCt78vF7DbW/PxCGo6tDrl8/4PlrN1h/LWB7+y3Ke3M0TSrAJW2hu5ZLz2EZLFXNYPv9Wy04//pb6FIj44hwOMSGIajO4zeWqiiwvkCJFdIP6HZiU4fu1qXh6qaUnYzKy7+dI7Wbkl133ULQacPnNaJKUxpNVVVsNxlFnlMUJdttRlVVTXCRVBall4TaslNVTeeqSpdIVbooQQzhcMDIGsI0JX35TdTVGzDdJZxMGEx3mmK3UkWsF+eYfMuwgk9+9OOoOCCeDAjihDgZE8cDlvOHZNvMxU5IQVmVDHZG7F+96TQPU1fGAu0byzYm26W70xWgtWaGM5O8wLZd9avDFDeC+rK6+MgbtQbSqcX5hOgFw3cBFILjq2Oeff6AF1484mhqODcLFqFgtvwqOi2xulazXTEXaTsdrakrO7nhZ2zX0eW2KdOK9HTO4rXXGV+7TrizixoOsQR+ztvO92p3onScQJ0TYX1KsKy1i9pl2Q7By6uaz5b0FaikUJcCmbSxFHlJWVSk6ZY83VIUBXmesU23lGVBWRZs04yqKn17d1cyfxhpdgaG/R3VdL+uqpJAldSZSVJKZBgQxLFLt7YSqQWBDanmG9e7sigo1yvK5YJivaYqS4TvIqWikDBMEFaii4rtekOWZxRl6fgJI4gGE3YPrjmNxXTaDNZBRh0FwNaaUr2yd82u+n77ld76QjpY680WH9hEXULeS1vR+f47cIzvI+Ma6AXDhw4pIFJw7eYOz714jZc+fhNFii2WCFuRvvUWWb5yDLZn8KWfklIIR8D517XK2XYybKELSzZbsXzzDnsvnTIMAmdXh7GLZaj/tYa+G6g+6KixaW39A6Ku2wD1l1pNQErPH9RRjfWP8KurJd+WrFcp69WGi/MZi9mMNN2QpmvSNKWsCqqyYLvdugpKWvu+EILdccS1oxEvPD0mikLCIEBXJTqonBni1XUZBMjYoqRCKoUwFlEZqtmKYrOmTDcu6nGzpMw2lMZlRwYSJ3ACVx+yKDI2m3UT0KS1QaiIZLjDZPfIe5Va0s+hFs1eSLTGQ6s1tXeuFeTCh8bX1qO1zXMVtu1PKbxWYensoH6G/vC1adKbEt9jCEPB/n7EZ370RW49e4WDox2Ws5zx1auIQFClK7b/4jexsw3oOt3WCZQAQekHnQSUkGhb96WkY4ACCMpNyfrOnNMv/TYHRjMNQlQUOw3EN7Gx9SgTCkSA67ZdL0ueCzDCyQzj07O7lUY9lyBl4LMkXSRkrc0UhWazzljO19y7+4D1akm2Tcm2W2aLC+aLOWdnp5ycn7DZrEm3G7Z55rUFl9moBFw93OWlZ6/xmU8cE0cxQRCgAkUYxo2JJAS+GlOAkAFWavJyzvr+A2wl0FRUQYUOBFaGEMWwiUlGA180NsQIw2a7JEs3zJYzsrKkKCu22y1Xnv4U+8e3iOKhMxtohYLLgaw5BK8JdFnBzisvTtzWl3IhLhOSzaNp3uuSw/Vv3fQjBesiam338/eGXjB8yBiPEz7yyas8desqe7sTAuX7R0QR8XSHnRdeZOet26zVCdnJEuEzJWvzodYL2iHiTIK6+2FblMWtLqYyLF+/SzicIIIAORggI58gBHgR06zureorEcK4z+viSaLWHNqgpFowCOlNEE84GgNFrrl/7yHr5Yr1as18Puf+g7ucPnzAW2+/ycXiwsUIZBlFmTdJSo58bPVkJaCoSkpdESURla7ItluUFARBRBi43AWpFIGQWGnQlcYK7bSiUGCsxpgSE5RUpaEyOdZqhsOEJIkIQzexs82abbphs1mT5TlFXlAZi4qH3Hjmo0x3j9tVu7nTrb7WTT1vSCJEs/Xl0KOWX6iLtjRske3yi8KbDbbNh7BOjDRNirG+RwWeXP4WN7UVQvw3wJ8ETq21n/Tv7QO/BDwDvAn8vLV2Jtxd+Ou4NnUp8OestV94ojP6PsNgFPHMc1fZ25+SJCFCaBdDoBQqjhgcHDC5cQ2zLahmG1dNCE/rCdEEzXXJrcd94s16hDWCYrZh8+AhajxkcPUa0XQXEYa+AaptJ3et7jYusA734KMNnTujpchd9KRqzAd8/8Qi18xna2Znc5bLBcvlgnv3b3Pn3m1OHj7grdtvstqsfNHVd1d7awGoPREZxS5gqywrirIgLHI3iQLp+2n46k5YH0zkmvJYb5oJ6+6hDAQBCqkSwtBpSZWuqLxgSFNXKTovcqxQjHaOmeweEQ9GjbpfT9omSrF+Du9wOQ0jVAcjdLfxmpv7bjd5rT5OJ1O2ER22w28YmvTsdxgP7wXvRWP4fwL/V+C/7bz3C8CvWmv/mhDiF/zffwX4Y8CL/uezuNZ0n33Cc/q+wmQ65hOffonJdIQQhqrSTfShUAHheMLBxz6BQJKfncJF3gwYRV2mDcD6IJh6YIBbSTq2qh9SJof1nQdUZc7w+nVkGKHkyLW9MxqsbbwHNa35qFnSLHa+AIDTVr1LUniNw/c5KHLDarbljVfeYr1esVjMODl7wD/55/+Ah7Mz0m36nu5VbUI5Bt/Zz8PRCFNVVGVFus0RUpIYjUIS+vwLKQUqlKgwAaAqCwoMlQKhBDKyyFCijQEFZZ678Og8I81yyiKnLHOybMtms2EwOeSp536QOB4gpWzMCIR7Hk2DYiz4Z9HNiGgFbksOGz/VbWequ8tscypqaaCta5jrtm8L82KdN8bFpNTviktC4r3i9xQM1tp/KYR45pG3fw74Kf/6bwH/HCcYfg74b607i98QQuwKIa5Za+8/0Vl9HyGKQg6P95DKdVlqVmPfeQoBycE+02efpkpXzH7ji5itC37vFBjvdJpw40fjAp3Uo8y3/6tclRgz5+Hv/A4yjEiOjpGjEUWWEYQRHb330vdqWG87u+xl1a6WvgJTvUqFhNy/+xZnp+es1iteffVrvPL6y3z1la+wXK0oq4onQT28jbVUlSMjx5MxxsDpyQPKomA0rJAiQsmIKJQoqTBliQiEj5IMoCyQRqCsdJWjI0FlNZWpyIqCrRcK6TbFmIqqqpgvlpTGMopjdg+PXeEWRCOQnQpwmY59p+nYpEY0Kp5t1P3L87emkWnkgrX4ylu1YOk8D+vd2rVXo/5qN/LyPeL9cgxXOpP9AXDFv74B3O5sV/eu7AXDu0BIQRQGLkNQtN2GGkpJSGQYEU13GN18is3hm+izFdW6cJ6ImtkWl8aki34UbSCO3xt4Ndcai8kq0nunpKenEIZEYUBVFhjt+mCKemn2RGarm7Tn5pIj66xIryIL2RxjsVixXK5YLpfMZue8/NrXefvuW8wWc2cOvMtKVudrCCFcdaXmCiyBEMShJFCu7qJSiigKmEx3KLZbtlmOFEtCGaFkQKAkKoxRygchWY1UIYERCBs4FygW4WssZHlOut2ySVOKsqSsSsqioKhKZBgTRglxPETVpKq12EseGlvTAA2h2H7Umc1djkgIP+mFNyNMLS86/Irb1oh2UWj3UcdC1KaD6AiH75xgaGCtteJ9tJgTfe9KwD1OpaSPUxA0iTH1UxYClCQYTxjfuMn6qWvowlClBaohpNxIqzkHSxuT0F35uzyBBGyl2T64YHPvPiIKEeMxQTJ0tRT9gLrMeYvGimiKsAiB8FmI7rRtM8C11Tw8uWC1XLNcLXnw4A6/+/JXmK/mTTBQF1IKnyshcb04JUoKoihoFWtTESpBEkmiUDZxDXEcc3R0xP3798mzgrKYM0yGhEFIGMRE8RAZRoDAlsaFVFt/HA3ClFhtybYZm23GepOyWi8RQrLNtuR5jhGWQRC5hKx4QNB0AzeYbnShuHzvHm/44p6afez5tQlr1tT8jScU/Sd1OImUdRXueg9+C4sTPj4uBfud1RhOahNBCHENOPXv3wWe6mzX9678PdB1PyLByA7hVw8UaxFhQLi7w9FnfgSQVEVG9jBrnGKXf1pmvGvb1lBN7UDQmWD1yqtU+RZGY6LxCKNLV27dl0Jr056bs3ZHqYOVpOqotRJTlVTakqUFd966zXq95v79e/z9f/r3WKwWl4RCoxkguHHzCvv7uxwdHfD2m2+zXq3Jtlt0VTXsOsC21OSDCqNLpzEISRwmiIHi+k3BYrHg4ckpdx7cZ2+6ZW+6y87kEFUWYC26KDDWupBoXVFZQ5bnrNZrHpzc5+H5Q9IscyZFlhGEAUEYEIUxw/Euo9Euw2Tor8ALwk5AU33n65Ve4Ssr+U+MdZqhQjqOoKtE1MRlrdXZ+rI7XAJ0nm77t7EGg+uw1UZhmg6T+d7xfgXDr+D6Uv41Lven/BXgLwshfhFHOi56fuH3Rpf1d9NaXprWxra5D9H+HuNbT1HlBev5y8gO5VwLBqiLttAdcR0C0osO4QZesdjCwxnB/buMr111vRqMJqi/XguHJq3XvW6LukhEp6ZAWWzZbkrWi4y8qHh49oD7p7dZrpeXhEKoVEOUBmHAtWvHTCZjrDUUeUFZlBSFbkwOa11VawQUlaEodeMUEUoSx0M3ObRFa838fMHD2RkXFxfsjS4YjpwGIbxQM3X4dbZlMZ+zWM55cHafxXpFqTUGUGHokrN8ebztVjNbbLl375QrVw5Qge890fUAWFfurX4o1oomu7ENj7Y0k70u14+9tLo3c7mxFvwT7pgiXV7S+Odef681Yd6N7Xh3vBd35d/BEY2HQog7uJZ0fw34ZSHEXwDeAn7eb/7/xbkqX8W5K//8E53N9yuaGd1d96GxKf3EEEIQjIYMrhxTbjOCb7yBWhTYylzSFmq7tpYZl42Jtl9lnU2ptxXFYsPm5IRyk6IL35mp+Q7toGxCmlWHU+jwFtqQZ1vWy4zFfEtVVZzPHnJ2cUJeFFicyaCk6xVprCAIA46Ojjg83CcIFBezC/K8oCgqKm28YHDnq41FSldJaZtXFFXlhY1FqZAoTLADtyqv1xvWizV5uiVdrRgOhgRh6KIghXQEpq5INxvmixmr9YrZak5eFVghkCokCkOCQHlPA6zTHHux4t69hyRJxHA0II4jVB0H4pPJLpe867I8rdrPO8zbWtPo8hIuWvRyAZtLQqEWDLb73L3m+U4c8nvAe/FK/Pvv8tHPvMO2FvhLT34aPR6zBzyctqARgFIBKggYX72GiiJmb79B8bW7lKvM7aJezK1zf9UVnR4/lEBhQVgMhspAsdySvfIWBx89Yby7jznwNShR1EVqW0GgEEo2QqHeqzGabFsxO50zn6UsFhllVXD/5C737t8FIVBCkEQRwyRmuV4RRZLj4z3+vZ//OS4uLjg9PWE+P2OTbimK0gU5dUg4i/O0ZHnJ2XzNw9mag8Oc6URjtXZcgnJNe65eu8p8MGc2m/P6q2+wWq0ospwqL1wiGG4i5kXuchCkJBkMSIYDgiAkCEKUrMlPQVmUPDg7gwvNttzh7OE5t56+wbPP3WQ0SlpxbkUTlm2tRUgnqLC2TqBunoXTMGwjPGqh4HIiRCM06v3Vz6DueF2Lj7rBTc0x1OOgrdPwHSYfe3wwWGtdRyVUs9o3q4e1aN9qzcUFSFfhKBkw2Dvi+FM/RL7MWd97SLWsHnNZPk4ettqD82gIKm1c5+zSUs5z0jv3yI+uoa8bsL66dDP569qOtO/XZKmB5XzFa197nSQRpNuC9TolzzNmizmL1ZJACg7395z6vk3Z2x/wmc/8EM89/zxJmDCbuUlc5hVFUVFWLnLPcJnZd8y9Zb3J+Dv/71/lj/6hDT/0qY/xkZdGxEqhZECSjKiqir29gMFgQhwNWK/XpNuU1WrFfD5nvV6RrlcESeTKxMcxgzhpOBNwXaewLoowLwp++3e/wfmiZDL9Kj/5Ez/FbLHkzt0TPvUDL7K3t0OSxM39aX5Z6/NYFI0O13geuq3u8SHoePLQtKbSpedax0i4Z6LraEcrfJlQg7DWt/trjccnQS8YvgtgrPUSvWaa2klgjMZYV+LLVWwWSCUJ4pjR8RXG147QWc5yfc7lWJdaNHR1ydZ2rYWIFK6UHBZsCfnFjHK1pipcoxY6g7ZrOnRNVmMqyhJWyzX3793jmWeuY4xx4cza9XM0xjAeDnwXaYOQMR/92It84hMf5+rVa7z+2tssFgvW6zVZVri0Zc8rdBl1KUB5g72sNK+/fcIXvvwNsqIizSr2dvdIBglRHGEqZ7oEQczu7h7JcERe5IynawajMavlgtVqgbEQRzFh6JKxjPZ1IKxxMQOVC81erlPOZgsenK05m6852D9ktrjJjfV1dnZGlGXF7u6E8Xh06Rk2kYqNVtCaeJcgWresFC5KVYg2K6J+kjWP0e6r3ZPtjKG6EI2obccnQC8YPmRYLNoatzJ55d+KNqRVVy7019ZNbb2KKcOAweE+O8/eQpcVq3tnvhBkd5B0iCi6q45bgqSwbSQhAmsgP78gW8wpsm2H7HKdkhrVVrR+D7Qhz7dsc8FstuD+vds8++w1V+fQWtecxWgCJTk82GWzSQkjxeHxlJ/+mT/M88+8iDGCf/AP/yln5w9ZLlesVlsqYzouV/wZQiAlSjnhZAyczdb8y899ia98/TW++o1XefapmxwdHXLt6lWmkyFRFBFFEXGSMPXhy7t7JQeHGdvthnSzYbF02avW190stiWVrrCmwlpDZQxpXnDv4ZzFestyk2LWKf/yN/4FH3n+JaryU0gZsF5vuHH9mJdeeo6mkG69sNev6+rQoutu9J/Ltru4u/Xt9QshG7PDWIswXTH/CGlpWwEhpOMnnhS9YPiQ4eryVa4ce92YFR+P8AgJBbQuTGERgWJ04yZaW7LZObNvnCAK14ikWR8eIZ+cl6OtpOQqQdUmqCA/X5Kdz8jmM+wtg+iE0jxaUC7fpqTrBW+/8TIvfeQldqclySijKLdYYwiUs4t3JyNMtcfh0T73TwpeePF5fvz3/wS/7zM/zt2793jr7dtAwGaTslmn5Ll5zMOmhEApQaQEgXSt2CpjKE2FyuF8pvn13/wSv/H530UpSaDaOg1BoAiVYjQaMhgkTCdjDg8OmE5G7ExH7EwGJEmCEpBvMwqdsdmkLJYr7j44496DCx6cLbhzsmRbeNcpsEk3fOXrX+GNt9/kD/34T7FYzDg9OeP84oJP/cDHGA0HTS5E141Jnb6ORTUC13kmnM7g+Byp2riGhlcAKu2KyBqj0aZqYlfa8OjmSN6LY55UYegFw4cOa10nZtlZHTruyjaz0AsJ0SbLCARBMmBwcMDe88+xuj9HLQ0yv+zfrk2HGs5md59LcTmc2uQV5WpNtrhwEZDKkY8YgxCGJsVaOBdjELnw6fn8nPOHJ1xcnLFJV1RlAFikEOzv7SBVThwFfPzjH+GFF1/k2WeeYzgYUmnDerNhvV6QbUvyXJMXJYCvGO35EFlHQnaISAtaW8rKIESF1FCIsnGjyiZE23W0DhdrwjAgiiKStx8QRSGx/0mSiDBw57zZbNlsM5brDYtVymq9ZZ3mpHnZBCXVz6osS9abFV/5+pcoipx0u0YqwSBJuHr1iGvXjl30qn3E2+DNsjqMvA1q83yAbAVEXQfc+PEivdbgPCUS600efHyKae0NJxywT8o99oLhw0adHgv4QeBe1CRkE6DS/N2GKlssMoqIdnbYefpp4q+8zLYokblrF98co+sWwzWlMX5/suNuFEJAVVFuNuTzC3RVIoPAaSnW4io41SQZqCAkjGKUkizmcy5m52zWG1arBUqMkSJAScnOzhShCowueemjL/Lcc89z9coVhBBo7QTBYjGnyCuqyqK1ce5MJVBS+MSk+lqsZ9/db20MlXZxAoESzQrt+FAnSN17mm1eNPuoKo02FqOt5xhCwjAgjELyvGSbl2y2hdcOukL70ecHZVXx5tuvE0hJVRWMBhPnitWG3d0dhsNB4x52RbBM85Tr6laOXK5FuJfWteDwWoTw5yKlLwpj6pwa17VbtF9pzq2mrJ5QLvSC4UNHR7LTuJpc4RTp4xqtaMuLd9llCwgliUZD4ugGBx9/DiPfotjcR+vLWkKXuDK1WiokSoDyCVkKQAvyixmLt94kX6+QKmgrMPnCrUK1FZmkKqjKijzLkQievnWLO2+/ydHhM+zv3WSbbpiMdggjkEHFM8/c5OqVYwaDhPv37qKrilAF3LlzHyWdyr8zGRB4WWS816aO+UcItDZoayl9vYFSeyXbu+dq+xxA+MjCutoVuIlTV9K2wllw66zApDnatJPonSbTu02wQMHrb7/G6flDjKnQ5tNss5z5fM5P/fQfIApDf3AnmJtw6FpjkHUQVGsyNH0imr9p/q73VesTbY6Kc7ta6wRT7RV5UtHQC4bvAljbLdrZjJim81sbJecLpXTgCEkBYcDu089SbEry5YrVSZ3K3I2Tb8WKsW6iKCmaoSZ9o7tiuWF99wGb8zOi4YgoGbiO0lK1rep9WrZUCk1IWW2wGOIk5stf/hqBnHB0+BRGa4IgYhROmexEXDm+wdHhNXZ3Dvj6V1/mwYP7zObnPPf8M0gs23TL7HxGW84eKmPb1GYc39CtsmyMpRLG9VrA1uuru07/n+0QeRZLVXWDpvzdaYjYDkRH4/omKCo3+dabNV/52lcYj8ZUVYY1hq98+Ws8/fRNjo4OQChHHDZCSnihUK/4tReonfwNP1HnTTQak09CqxsVeY2z5qFce7xWu3oS9ILhuwy1VtB1MTXZdZ5kqj2bzSbSkVnJ3gGjowNGR3tsHm5cZ2S62kZ7DPdTCwXrcxYABDorKGYr1mcPmRxdgfEU1xTmcu1GEOiq4vT0hMkoaJrGLBcL1uslRZ5iLQQqQgSS4WhAEg+d+SEDtDZsNinbNOXw8AApLMv5gtViQZ67eH9nLtQD2zYrrOyEYbtQaZpu0FKAkV3Xnrtq6201ixMGlwq2Nnp4J7ukM5feaVrVKz6irRBdVhUX8wvu3n8bpRTDwYTbt+8xHA4YDBLGkxFY2XgnhJSP9Qh5dDyAaATl5R+aoK/2pET7y7hcDNvpBfJe0QuG7wJI2ZmgtmaqveuqtksNDZPt4EazFMoTToZ4OmVy/TrVNuPsldtQukGvrSMBqX/jPBPaWFAuwt7TWIDEZJpivuHizVfZu3GL0d4hoVJOOIh6UkrXxWmx4N/82j/nD/7hP0iSJD40WrNazjg5uYNSYwI1QAWaMAwxxlLkBRuREidjysqS5RX7e7uEoUJKOD19QJpmvt6CD3LyglApp6VYPBmKjwMxYLT3+4uavm2ha+HgeFwq3ZlQliZ0+J3axbuvPj6xpJSu1qQKmmIzFii14eVXvkZVlhzsH/LWm4EThFXFD/7gJ1ztDVsXd/XHqEuv1ecpAOGI3/r4jabQ4Vnch6L5abpQgeMvtDeXxJO5LJ/cwdnjW4qaTwAf/oz1bdeUJ6Zo1/yGnJQIfPk0/yOVRIWKZG+X6a2nmN7cJxqE1DV+9CMri7GgaYk6V3laNHsXleH8G6+yPjsj36Z0V2vPl2PmJ+T3XmN1+jYnd+5z+uCU1XJBkkTcu3+bL3zhcxwe7DOIBkgbYErB+cWM+w9OuPfgPnGUcO3KNZ5+6mkm4z1msyWbdMvO/g5CuTiIyrgfY21bMd3zCHViUq0BaWgmfjeI6NEp/VinK1pDTXR/GhXrnVdb46MLkyhgNEhQHfdiVmruPrjHb37+1yl1ztu37/Hbv/0yd+/dJy8K8F4TTz83Z1LHUtQ7ss0/v6U1l69HiLabV90xXCo/phSVFQTxgJ29w3e8hndDrzF8V6BjO9bhz03WYqe0u63jCrzB4U2IOjrOCgjimGg8Znr9Ksv1PbJ8ja5sQ2B2mIyGk3KToJv1B8JY8os5+WJB4VfDNgvUItdnmDtfx77xJQ5Mzutf+xrJ7j67+1OiMGKzXpJnJUWx9ectMCVURUUR5ggUURxydHTIYDBEBoE3FwR5ljEYJo47MAXC4GMuXPJV7bHp1oas1eo6KMOtso+s/l6wWFvzCcJVzWofgwsI6qgS34y2cyHrmrIsGcQR1jp3ae3x2OY5s/kFJ6d3ONi/QhhGfOMbbxDHEbu7ymds2kYAXLZdjDcDZfOsHhMIwpGM1GHVTVvr1k2pwpgoHjAcjN5t8L0jesHwYaOODrS6yaOvhYL0PRka4qk7tYV1QVGyHenWSoIoIhqNmN58iuzBnGK5oax8MlTDYPhV0q+sNWEnhGlUSGtc74VsMadYry6tsMIa1Owu+o0vYV/7Itel4de+9lXCgyt86jOfJopCjNGkmy2LxRmSECkFurCuJVxZImXJZJxwdHTE8XHA3v4R220GQjBfzBlNhmijfaVoPHfQVnN6nFCzHVNLNJO/86krXuv/EkJ4Dqb2WNhHJmDXZHt3lJXGasN0NHTHKARaZ85bUpZsNhvevv06UZwwne7yta+9yvXrxwwGMYPBoHmmPHLcOjrS65AdfqT1ZDSua885CARW+ntgLNpqwthVmxo09SPeG3rB8CHDGo3JUoxQGF25KEjl7FYlA6fed9RjUXecxnXHBpxQwGX0BUGIiROGx8eMbxyhy5z8zTm2IxSgFgy1C69lwevPhQW9KdienJI+PAENMoTAlARFyvjelzg/u0uxTrkm4dbxHuso4sG9+0gpGSQJZV7x67/2T/mxz/4khwdHrJbnPHxwxnhnws4+BEHEZDwhiYcY4I/9sX+Xb7zyIut1ynazRcmI6bSkKArWixRduiKoZVVRWU3XOGomtW1uSUczqM2Elnzs3odugVnPPzbC+JvJhdrksFg2WcbezpRdIbh3+pCirKi0Zb0tuX37DtPJHqPBkEGyx5e/9DKr5ZrP/NAnebTOY/1kG8IRga15pK45WIerNxLQeazqMWGEi4qcJiNftPbd6M13Ri8YPmTYqqJaL1FRQt0kpC5vJn33JL9l83kD0SkHJnBEpLaurmEQMLhyjCk02cMlIuMdJ0Xbyap18dWCRxpLsZiRXZxjipyoXBBtZ4TL+6h0wThW7O5NCM9XPJXsclIY7p3ed30XwpC9/R1m5zPm8wsGSUIYRFRpTh5kZMmGQEUM4gQdVJSlxuzscP36Tf7En/g5fvmXVqzWC6qqIAgVp8Epm9WaPMvbWKtHJu3lhLHLHELzedf9944P5PJL827bdSCEIAwDtKmQQcCNa1c5ffiQoqjAWjbbLQ9O7hNFIZ/8+BUens2IopBnn50zGU8umS81l1BzSU4JqsVat+tUR5o594Y/m7qLN1jhunHLS+bRe0NPPn7IMGVJPrvAFHWNgI5LzscLwGVTojvUvbcMcPUS60g6KwXxzg7D40MGu0NkrYJ39mBpW9w1PIOo92mRGKr1imJ+gU2XhPO7RBdvEZ2/iSy3DJKA6XTEMAk5TCRjW7GezZHSMp2MODzcwxjNxcU5FxfnCKHQhaHcFmS+T2VR5ORFTp5tybKMQTLkox/5OM88+wLXrt3k4OCYyWSX4WBAGIVuspqalb98L+tJIzo/3btVv6oLr+K3d/xNvUUrMt57XJAnbYUgCBWT0ZDRcEAShwjhmt8ulnPOz89AGDabLRezJacPz13J+vrY9pEff8qX82U89euDn6wQvrdlW1Gr3pfpxDBord/LhTToNYYPGeVmzcXXv0o83UOMxhCELupRKqQMUHV+PrZRLTsjplkFHerB4sKKo+kOQRhi0gWnn/sGep3TrgWO1KysIKonEl61ricQUF5ckN+9jb39NaL1K4S28EVnNaNhgq3GPJWUmLM3eXCes1kU/PTP/mFG4wllYTk/TXnzzVe4uHjI7k/8YWxlydcFujKMp3us1mu2WY4QkrNTV0chjkf8iT/+c7z2+iu89uo3+MrvftGVS7cSU3newbRdpBthZx2PcMnlKFpuofY0CCRY3QiDx6gKHhcm74ZaAK3XG65cOWA6HjG/WHLl+ID1esvZ2QVgSNOU2WzGfH5KqCYslylf+OJXuH7tGmqgalKhEdiXr8wRi9a7sC/V8bT+JLye4QhJX7KvKEk3W3RlCMMnm+q9YPiQsZ1dcOdf/RrhdJfxzacZXLlKrTXUfvK6b4Ew3SEreHRBaxrI4iLeRBgQhVP2XvwI2/vnbO/PKGZZGzNB7bIUvjGd9rZ4XVHIsBcZjoOUo+0bSJ051VYqF7gUKAbDmKPDI4bJkChescjmJAwYJRPCnYAXXnyKV77xBsvFnF/7tV/lxz77+4mEIl9veXjnPuO9KclozHA44re/+Dss5ms2acZP/5GfYm/viFtPGz73m7+ONhVGGCrTCgUeuX6LW0hdgZKuKdGZYPWWohND8Mg+nNy1l775TeE3qkpNXlTkZc7h0RFJMkIIwXzmal1u0hWvv/4NPvKRHwIBd++ccX5+zsH+HkniiUjREQg1WSrac2rPqi3J016dC3O3GLZZxu233+RLs9/GWotSHWHyHtALhg8ZOstY37/P2asvg1JE4zHhYORXN4FSAVJKur0HnSrsh4hfaZokKLcBdaadCALi3T3G169iC0O1yhC6nVT2ElPf0pBSCsY7A65dnXLtaEhitshA+iw+sKVTTaV1RU6Icg4GiucmkC9TzGRCPEo42J9yfzwg3abMZmc8PDthZzIliQLSxQqEq2kZhhFlWbBerzg9PWO5WBAPBgwGI+I4Qe642gKz81mdnf74pG3uhWh6Ulgf/1BHR7r74/MLhMVa8cj0qu8GXA4oexdYXFShgDTNEFIxHk8oS9c1e2c6deZTWbgCtcs5lS6wNqEsKs7OLoijiDiOnVnQiVbtXpd9JO7CXdM7kJFCgHCNhOM4YTAYuuzdJ5MLvWD4sGHKkuzsgvtf/iIiUAz39okmO4AjEYPAufqM72XbrZ7kJrZvUiOV9223WXbGaiyKeDJh97lnsKVme/IQsW67P9Wl0wTWez4FUgqiSHDt1j4vfPQGx9f3CKRF+kQgqw2mKsFYTFm5ugHWMg4Mz+8YPn//IcPRELE35OBwyt7ehE26YbVe8fpr3+Dmjad45tYzpIsZWpeUZUE8HDMeJ2zWEcYUnJ+fsn9wRBgG7O8fopRhPrvg7u27QPWI3e1wqZBMbW/7ue02N02vhXqmCNH6Adz9bPf3e2kLrXbhjr1YrrAWPvqxj3D/zh2iKOTg4ABhJcvlgjzPWK/X5PmGJBkghOTu3fsMhwl7+7t+n43zmEtaoa2Dp2x9sZ0Lr6+9XRiiOOHq1RvcuHbL54N8Z5ra/h+BfxdXM+g14M9ba+f+s78K/AVcINp/bK39h090Rt9nsBZMBbNX3kbaAFlVBIMBarrrPBLSFYGth4qzgbtEZO2mqllrV+C1DlnWUiODkOHV6y54Suec/5uvYSqDMHUmn0FiCIQkHgpuvXSVZz56g6dfvEkQubRetMVkGa4QbIAaDNFpCsYw2Zlg8oJBWXEwyTk8fY3yPpzFA37gJ3+Y04cz5os55q4mSBS5KXm4mLE7iinTnCzN2GYZV2/e4ObNI6Y7Q6zRTKcT9g8PuXrlmMXqwnlh1CNNXj2EcOaQ8LO7Xuyb0GFhLwkT6SeT8fZ4rYU8tl++uYCwfjUPA0kYS6JhzHhyhOU2QsAgGRAchiglWa1WaF2x2ayIowFSDHjzzbvs7e3yzDO3fGdw/5B5RHMQl01Ha03HZckljUAIQRgETKcTd/wgQMluwZ3fG++3qe0/Bv6qtbYSQvyXwF8F/ooQ4uPAnwE+AVwH/okQ4iVr7ZNRot9HsBYKA9pAdnbB4tVXOH/qaSa3nkVNd5DWNau1neYz7ZfdrzZK0ucyeA+FrYu8ACIKSPb3kc+/QHb3hPxsSbUpGu0iGoaM90fceOEah9f2OLiyQxBKhDVgLMJKkIGbdGVBw4N0qiUlgwGHwRGHi4ecbBYs7p1QpluOrxySpiknJ2fs7u8hpOXh+QOsOWAQRYRKkS3WzJMzkvGQyWSItbBYXLBJ15xfzFjMz5jN5s4F6CGbVR8fIt2ITycUfF5BHStg/f27/Nq6cPGOYGgcnqI2td5dNAwGAyaTEQcHE1QQkCRjrBXs7e+ihEBXGhUG7O3tMxpNOD9/6IhEo5GBYJtmbNOti/YcDBsvpK1VkfpXp4GIbQSBe+5tGq5otBc8R6W1K0+n3yEH5JvhfTW1tdb+o86fvwH8af/654BftNbmwBtCiFeBHwX+9ROd1fcRDILKCgyCcrVhc+cuF698HREnDAUQh64qshANqVgz7d2VU9apu6LNgHTRlF6FlIJoMiEJE1Y3X4WiwuYFwkIyipjsJ1x9ep8Xf+AWg1FCFAVgDWhNzYnZIHS1EavKF6Z1hKeSrjdEwoBBnHA8XjBbbTk7PWF+es50PObqtWN2d8aMR0M2acp8cY5SEdHePkkYYLdbVrMZxmqGIycY1qs526xgm25ZrdZs1hu0Nk4A+D6y7tI6HEuHZqndddZyKTq6LjLbuPM6RKYQbe0D4b/3WIc56mMIJtMJN65f5eBogq5AEKIr2N/fQ5clVVERhQG7e3tIJKvVsvEySSHY5iXZesN2MW8qVDfCoT4pWj6hfc+n4HdMpy4J6YSFqzKuq/dEoV7Ct4Jj+A+BX/Kvb+AERY26qe1j6HtXOlgLlZUEuMQlu95w91///yhKzc6LH2Hn+ReQQmGExRpXrVh5PqEeNTVJiY9jEMqtFpV1hVirogBhUXHCcGef65/9CU7lb7I0GSov+cRnn+PqUwccX9n13bEN5AUyjJEicIPPaMhzd4wwwhQZVtsmNn+8M6XYbNnMLvjE889SvnnC8u03+df/8Nd58YdeIo4kV3d3WF1ckOYZVZkzm5+QRDEqTDg4OObi7CHzzRnZJuOpF55BIIgCwUde+igvf8NSliV7BzPSdUGe60Z7cHqCIJC+6nWT0wGB7wlR+WrbNZvQFQqXPDuP/HbdLd9ZaxiPRnzy4x/jJ378szw4fcC9e6esNwVFYbh16xqb1ZK7b98jiiMO9veZjnc4eXCfQZIQhYELEy8r1nfe5EKt2PsD/w5iOEQEQXNsZxrWxxcdEqQt4tJ2lfGvuyqPUE7Af6s5hm8GIcT/DqiAv/2k3+17VzpIAY7Sc8VgdWXI5ikPv/4y2zRFDWLMeAhKYKxBu2XJTWDbCgYXCOWWOIls7FWjNXmWEsaRU7cDyfD4iL0Xn2c4DDhmwc2be4xHEaIsEFHgJ7zFBgY8v2G1xZal86UrhS4qV3a+Dq5BuwFYafR6wdOTkPiZA/7+nbs8eH2ETWJ0WXB2eoqViigZMh6OyPI1s6VlZ+dpjo+vsc1SLs7PeNsYJvt7DKdTjo+P2T885MGDu/yLf/EPGA5SVsuUxXyD0cabEa7lnVSy0ZyUMNQFTcBzM56IfDehUJtW7netmlvP7XS2FfCxj73EaJRw+85bFIVGiIhASdarNcPhAcJqojhABYIoChkOBxwe7jMYJCilMJV2t2y1JLuzoPitf4C68Txy/xry4Ko/52akUOdE1BoNPhCurnvXuF9bxclxEdbwpNb8+xYMQog/hyMlf8a2hu97bmrbw0HgsgZd6K2PUqs027NzrBKs7rxNcPM6DBIIArSuXBHQhqjyexF1ZyhalhqBNZqqKgkiV+hUCIgGCbtHO0h1xFUbMBnFhIF0q4rF260WnRfUVZqEVEAJxpWzd2aNs5XrlUxK1+9CZ1vGoeLaRPHUYMvpckZejNjb2+POg/toXWFUQJlvnQ2MYb5acjCeEoYho2TEer7EeDZ9unfA3s4+UgieeeYF3nrrVcqyoigK8qwEg6/5qJoJg7AoJV2reimxxlL5NvdpVryzu9ObIrVQaGo01KbII1+QErZZytlZRRgOEcIVlM3F2lWmjkLiOPY1GxRhGLK/t0ccxwgc/2CtcUVk1xn6wVuOZMxSTFUgxjsQJhDG1JLJnYY3Lbshnh27o8tRCNut2/De8b5CooUQPwv8p8CfstamnY9+BfgzQohYCPEs8CLwm+/nGN9PkD4xquWiQS/XZHfv8/BLX2R9cp9is8Jag9FVK/1rQxiXJyEaVdLV/XOEtctorIt8YA2RNFzfj3np5oSbV/dJQuX4b79cyiBAxjHVfIlOM0ypIQycimsMJs9RPoOyynOs1mA1QRQyOjwkiAaEQjCRhp95fped4oIgX/OxT/4ge3t7SAHrxTknd99ks7wg3Sx57c2XuXd2ghaC559/EVtWnN99wJtf+wbnJ3fZrJeMhmP+0E/+UZJkSDwI2TucMBxGRLFyEzFU1MVgjTCEiWL3cMr1p65y/dYVrl07Yu9g9x2DfWptoY5/kNSkrmiiQi9vL3jrrdd5++23eXByxnqTIwhJ4jGT6dAHFUmm0zFRFKOUIggCbly7wWAwdKHSZeGyULXmoqywmxX6ja9Qfulfsv2Nv0955zXMaoab1cY/W+EL5TSMK4+dncU9T+Mr/NTC4Qnwfpva/lUgBv6xD6r5DWvt/8Ja+7tCiF8GvoozMf5S75H45jAICr/i2jpxAQBXYm31yhuUScTwmWcc35AMPINeF2aTrce7blhiXcM7iS/QYgxWa0RVEJQp19LbDMs1kXaTWo0GbcelosIav/pHEXqTYooCub+DjEOvHFhMXmIq26QHyyB0wqeqSPZ3OD+ZsZhtuHJ1h99/rLidrfjS536d4ytHZFXF7XunhAKyNCMZDtm/dp3b997kYn7G+cUZn/j4D/Lw4Qn3H9zja5//EqdXT9k/vsKt51/gBz7xad6+/Sa377zFSx+9RllUZNuMs7OHrsFMHDEYDZlO9olCNym1LtnGG6y0DJchlTF1WSeUEt6l5zw61peUq3TdLNjd6W79B2Mtm03JeCwZj3d48YVPsF4XFEXBeDxwExJDGAdkG1dKKwgChuMxxdy5LY12rQMWVnNXVGxLS0KIJEcsTyi/8I+p9q6ibrxA8NHPQhDRFQLu1SO6T206dDiFti7ke8f7bWr7N7/J9v8F8F880Vl8H8Na0NaVX2mSfmwbAm2Lis29h9gwIdrZZXjNxSNYYx3x7PejTYUSjq1wobGXDyKsJtQZk3zLUKeEaCcMsJhKUxdX7VaOQgpsocFo9DZDDQauOlCg0EXpTBoVkG9ToihutFoVBgShW8Gt0QwFHCjL0yLjfHLIfDJlNJoQFDlUFXqbsppdEEQRZbbFVBVRGKGEm3TWCNbzJdk2oygKkjDk6vFV4jhmOBiwXC5Yb9YIJbh2/cb/v703i5EsO/P7ft9Z7hIRGZlZmVnVVdXV7IXkkJSs4XAozsiWZMMDyJqBrbEhP4xhwJLtRwmwYBuGbL3oVV5hA4YEGRYgG7IFGLaggWEDkmwtkIVZOBySs5LsJptsdteaayx3OZsfzonIbJKt6aKGVUVMfo3sjIzIrDhx7r3f/Zb/9/8z25nTtjO6ri+ckh3OBbpuoOsGQrjUjBSgbSyT6ZS6yqrVIeR5DO89RttcIPaBk7NzQnEmRmtee/UN7t59mdsv3aWupvQ6koxjOmmpKotSiaZpOXmS0yJjLGPwuRYYIIZIcI5UZSLbFCJJx5K2hNw1EoUYgxy9jMyPSO0OcZM2wvtbF1ce5ehRMrJTvkdU8TvYNfLxBbANjUq2EgWkgEhCJWH18IxgKsz+Ds3BIbGuM60YZWiGhPcu03klNqdMvtslSDGiYqDxA7t01Ix5Pl80yTuidwgKow3Y3IVIMeUwNQZiiPjlClXV+WIyBvo+5+9iWfVDUYbWBXMRaWpDmFSMoyONiWmC3zcTfqOtOJ7N2N+9ge7XuG6FcwPLkyeYpmWsO8Zh4PT0jHt3XuHOrTvMmilfefMrnDw55snjR3z0kx9nf3ePg4MjAKq6ppm0HBwd8qM/+gfZ3zvEVhO+/tZbvPvuO/TdQ8Yxslr2dOuBRB5Qy3URYTJp2NufM5lMscbgvMN7X5iZcoQ2jo5Vt6LrfO6WWMtH3/gEr7zyEY4Ob/Ho0QVKoDKK2bSlqm3mjqgDq3UuklpjWa+WBBeJPhdFnetRNtAYDXHMd/pNihg8sr5An0TU/bdIosE2qMpsqo8bQMb24Xd2KjJSVuAHAHC6th+wbeflthXzfHErFJqEDEL/3gmP+i/R7h8xvXMbpTVGtTmsJ+AZ0Wii9wUmTUYpSu4WHI0n3IyOuXHoaUup0aMnLfpq/jmOZKy9kGpDXAtp9ITzBV5bdNOgaouu61ztDx5ECCkgKTs4t1rSTmpM0/DlX3mLbz8eqGrLH/z0lPfe+xqTs4A1FW98+jOok/cYTh7wzYfvcrJecb5acXZyTDOdsl6f886Db3F0cIu7r7zG7RD5xje+xhf+yS/TTKYcHB3xiR/9ND/52R/h4PCA+d4eH/3op7B1Sz8GPvu5BQ/uv8u333mbf/j3/x7jMFLZlk9+4g4PHz1kGHqCd9RNQ9NMM5u1EqoqUld5O4zJg2wxJrqu4/79J/T9wDiOnDx5TG1bhj7x6NET9vYaZjsWY/OxC0mIAS5Oz/CjR6Lm0aNj1ouRcfC4cWS9fMJcDGrSALFweGpSzOrlWhIWj37ny/jFY8LBy8jHfxKpJqAvwRzvFyDINxfIZDYfZuTjO+3aMTx32/DzbSVtAbbSbIb8FcfEeDpw8tabYDSmzsQnG7BTVnUaidFv6eFUAcTVydGuTrAVMK3wfWZt2eSeGfugUaZEDBn9gzIW1TYkEm6xhuWKFCNWTRFrUT6QTKKeTBhWS4IxzHYy1XwKgTAG1ouRmY7MmoRNkTcmQqZPj3z1G19jf2eP+sYrzPs168VFJq6RhCExrle4vkdS4PTsBGMqbNNycHgb7wdOj5/wa5//JU4f3+PuvXv8gR/7DIuLU2zdZ62IlNjb20Op1/jMZ36Cmzdfyi1gbXj55VeZzmbs7u2SyBf9erXi8ZPHHD9+yDAOhODp+zzgBYL3uaBoTS7WnpwcM5vtMp/vsjMTJq2irjKtfQiexWLB/fceUtma4BPL9Zr1cmQcMitVv14R/JqKhrlpSmqTj0nyvjBL5VBAAWp5Aq4nuRG590nSziFpMi9diVxryB2J0tbccD3EBM+qXXltv5uWeYIvMfsbn58yH7SAhEToEhfvPqA5OKDd36eeTAuYKYNYQghF6zJemTBMTH1PPa7QoklRE8dADKHUKkImhDEamgZlS8hZWp5iNGIMSYQw9vn9KotpGyh/Z5uG5ekJKUSYK5QyBD9C8DRNxbTxTFqNTpEbOjG2MCB8/f4TfDtBT+bUOwdMQiL2a/zQkULAB4dPCaUVY0iYquHo5h2MNsQxMfQ9fddBCrihZ29vFzc6JrMdqqalamaIZB3Jw8PDjDRcr+n7HlvXHN28xUt3bhNT4OL8nLOzMybvfBNJ0A9djsZC5sAIwTOf7+d2p1kz9j3j2OFcRwg9VQ3WZuFdpcC5kcXFgocPH9LUE3wILC6WDL3HO8849KyWZ2gdmRiYq3JRx0Qq/J/a6Nw2LBGdch2MPXEYkGaaHUjVgLbbEkLaEHluW8l8VzHyw9i1Y3gBLFe8BY9s5c1L7e99vyUxcfz2Q+x8TjWtaXZ3qeqGjfJQjC47htJVUFpTEbjZHVMxoqIlOgck/LonDCPRjSQfUJWlmu9Q70xRTY2yltitCyRacurQrQmFMVoZC1oQbbBNSwySCVQGh6obYgoYAz/62VdYLi6IzuU2bNdxs7LcvNEy3oz85vpdHq3PaG+8zq35EdXJA86/8VWWYZVDZYGz4ydoWzMOHd9YX5AitM0O89keO5MJi9Nzjh8+4De/+KvceeUVXrp7l1c/+nFe++jHUMbinOfRw3dIsYTeAjdfusOtl17i1q1bVKVm40bHj3z8k7z9ja8DsDPfpaorTo4fc/zkEffv3+etN3+bhw/e5b13v8V0WqG1w/tzKqmyQ1ZCXVc8OD7h3Xff4823vsa/8Ll/kaHzvPvuA4bR48ae5cUJj957k0988h635paXTMjaGN6VskFAK1uYwLOooCpFyXDxGPXWL8HiMamawPxoO7IdN+1JyNN5G2Gd3+2uxLX94E1SbluGbeuxtB+RogmRZylSSngnLL79EKsS81t3qI5uIdZuQSw5EvAYY6lVZMLIfuhprEGjiM6ThVqKNHpIxHEkjgNhGEhDj5lNsdMJqqpQSUAUEiP9MuJHR+wHRGl026CszZ0IrUjeM3QrmnaCthnE4/o18709vA8snxyjlSYMI6Hv+COv3+YTY+BBF/jVx2/x0M/RasZLd3+EBw/fBu/KWLTgQo+2lsnOjMeLBcuLJaePHjKvLLPdfdrpjHYyYXF2zuL8jLe+8lvM9/bZ2d1nOt9jurtLVVWIKIyOjP0ZizNBJ0fVTBmGgfV6zYP777G7t8/e3j4HRzeJKbC3u8udO3e5d+8ee7sTnjy+zcnxR2iaKZWtMAXCnFJg6DtOT57wy7/4edarnluH91DS0PeevlsyDgPnD7+FX54y9ytm50/AC4s17BwcopLNxDySUBt9kQJUy+dKdhKpW+Hee5Pl8RMmP/mzMNkBXeDPV4rPibiNIJ7Grh3Dc7ZcJMzQulQcgJW4ZS6+HAcu/0/CsBxYPTpj/fgR7c48S9FvNQpKb15pmuiYxJHGlHZoiMTRI6qMcybQWpM2k5jO4VZddgRKYY3NxbA8hJCjiJSIweOXy8vPoBVV2+SoQDIMV7RGSY0OPrfbRFFNJoyLRUZOpkgTR241lonVdGMgHC8hglPC/vyIcewYXcd6WGc1rQSse9bDSAwBnRJ1tEwqi5JEnQI9CU9iEBh6x9nZgrp5zHR3TjuZUtU1ddNiTZUdsvdUTZtz/q5jvTqnqjSVVdR1mRNJAUWgbSr29/ZyYbDArtlMbxJZr9Y45zg+PiMFzaSZM5/tAxo3Orxz9OfHrE4eo/yaWa1Qpwu8E7qkCXsevVW9pqAwy60ihBJJ5LmHfr1ijCsGzrGPv40+vI3M9riMN4ttCX2uHcMPl102o7dQFa3SVmy21JU3fQsSwrh2LI+XXHzrm8wPjqjqBl1IVDJqL6P1Wt8zDR11UxMHR/KRGELmEU0ZIKVthaTcT/duxPd5UApR6GaC0hsSGLCTBq8Ev474i4tCJSeINbSzCckHCIFIQCmLsjUWCN6jlWLn8IBHiwUJwShNd3HKZP+A2XTGblXhlu+gBs8qtNw5eoWL7oKzxQnnfYcr5DCrbmQVc6hslRAlEdcXpH6BNpZ6uoetW2LbsnKRs+Ux/TAwes9svstsZ86No1sQFP1qzfLinKqpiCHgg8e5gZMnHavFMeenj2iaGmN0UZkSmqpmNt1h6EdCyHsWnCdJ4uxswcX5kocPjjncv0XbTGnqCSlGxqFnXC84f+/rLC9OmVih3d0nPjpjcJquafHeZceARm/yyIINid5tT5kUI6uLC/rR4QDzzd+kVopqMmdTzH6/c3jGQ1TX9rtjV9MHRcJeRboGed9v+pTwAcLKcfzlrzHb2UdCYP6RV0GbMusgTNLAodXMJ1MauwN+w0BNnh0IoZwsiRgcKQSiG/HrXEOIY8Av15hpBjVRVcQ+a15U0ynu4gK/WhHdSLWX5xiSMUSlwI9bBJ7YOqMJUwStmd88oru4YH1+ToXgFgvSOLJ7dJuf+bFPcLxY8eZ7j/k/v/rrNLLDQbvPwcdf4d1Hb3O6OOW8W+U5gTI6fTIEljrSaMVShIPVCfNesbvSeGPoTENXt6x2D/FKM/aOb3ztq3zzza+jyvzCdLbDZDalnbRMZlOapsVWFXW9pJk0WGswWgORxWLBet2xXq7pui53GHrHOHokCYYZ9+7s5QnYBMPQszp5AGePCIsTThdLaGtEa5rTFf0YCRiMVkQ/5uitTEXmoTXZihanFHJkFwN9t6IbBmJMnH35H7OrFNX+IbLpUlBuNKXm9LR27RieswkJLZGQVBkZ3rAL5Vfh0tPntmaOHWIEvwycv52ZgurdXardXQQwwXO4eMR0XGODz+i3dOkUCBHxGdFISoXvQSO6gkYytNpoVNUi2NwuU5agBGJenFhL8p44jIT1GtU2GWkXI0rldmVyIeMejMqU795RNQ3BOca+w3c9NkYkBEK3xjQt+23Nx+8c8se14VunI986P+PNswVTXWN3X2J3HjhbPmEcB7zzuWgY8vDZw5S4UMJECTtasWM1tfHUekAPa1xV47TBVhbTTNGmQhtLSIn1csV6teLk+LjQ6emt49B6Q+UveJ+7PyEEQkGgprDN4HJbMUXoe9S4Rnfn1KdPOF0tOe96lgIHVlOJsOpGXrKR1uboh82FHzyBQAxNdq6SSu1o00kqEUD0SIxUYUQtTuDJt5FXPsX79EeuU4kfThMyiEXJJSxFqzwBUVrxbHgAt4Ru5ZjHUVjef4KuDPO7d9Btg1GKyo/sLo6pkkeTT1zZtDliKUSFUIafEmhdMhpB61KvMAYlprS/E6AQrUhRsqiNtfniD57Q90hVZQh1CEiVX4veoaLNjkQUKXm0Mdi6pmpblst1wQRAHDqUNjTG0u7OmLeWffsE41Z886xj2hzR2gnJalQa6LShVwPOj4QYcTFxNgbOFRgRJlpxM0T2tGem+jw7UjfYuoXZLtZqtDUoY+iHAed8hkHHwoCZcjV/w7q9YURSymz1O5TS6KL+rSSiUkSlhCaSuiVpfU5aHOMuzrkYAicRdGNplKKOCT8G2hYaq7BGsRG0TTGQkNyhCBpSJs1JIRPvZOXzXKdJ0WMlYbpzOLkPL38iO2i5TCq46ig+pF07hhfANgWmzLsY0Vfgrn6Dbdg4iEteL1KC7niA9Ajb/Cr1dMakUuz6NXL6JIf/2qDMVqr2UtkoxsynABDKCenD9oIAiBtMgxKksZhpi1+DW/dUTU0QCG7MY8K1BZNTGWU0MRokBNx6jalqxBhsM8V1K6y17OwfcHL/IW3boqsaSYm4WpKUQhnDpGn5/XePeOVwF22/yT959IT3zgND0BwcvILer0BHHh1/m4vlgq4fcCESYq7LuBhZuJjp5EWYirDTO2pZoh8/Zp09MtoYdvePuHX7NvsHR9w4usvoPOPoGYahoAuFGBN9KXpuxGyJkKJHgkOvz6iGJXrsMP0FXddxPHje7SPfcpEA1Nbw2Vv71E/WNGNgR1saC5OmYaed4oaeSlukcGC45RIJHqMUGEWIcTvXojYyASFiSKj1GXL8LRh7qOriiOGycnXtGH5IrYToAkoMMWVG45AuKxAQs4Jx+VkQJAl+6bh48wGru99gd1bRmoxjyJbKhV/q1aXYmTOVIqGewdGgDGEYSzgbsjqWURkCbes8jl1ZVGMZ+wGlQJVWaRozL4JUNcF7gncE73NBUpfJRS15CtOPiPPsHh6QRk/fO/YOD98H/49kzofWGP65oynJCl87H/niw46z02+C0ihtmNkJOzd2CJLoxhXnywXjOOJ8ZmyiOIqlCH3MkO18txeMQBUTM+foFgsU0I8jT06e4FdrZL1GGw3GItYync7YCrr4wNitSUMPQ4/4gWPn6H1g4RzL0dPFyDrmVvRea9mvLO3pijAGQkpILdy7M2V3EvHdGXVVF/yKorIVKgRUgtAPmNkkk7r4kFmlvENSorY17WRCbRU2jvTrC0TfAGVKq5LLTX0Ku3YML5BtZ+BEttqMl1Ti7/f7G1IWAZKLjOc98eQYlabU05wjS4HKpoJy3HAiiqQ8VFPYmISUh60UGea8oUELAclUUTmk3oTT1uBWmTFaaUXSmhQiIhkbEZwr7EQZObghd9loI2yGvJrphD6uCL5MixpNTDGTsDhPTBBiYscqPrJTIcD5euCbZx2DF7xorBi0spnhWlt22ym+bvExMrgxC+Bu1KtKsKViQkNW4AqRvutZ6gucd5hh4PTslNT32L6nMhplLNrYwoORC8Cd8yxWy4z9GAcIgVWMdCGyDIk+JAKAymnNjlbMBegdjYJZBUc7inkDFpfTiqbdngtKFKUZlDk2SwE3lPQv+HJMlUYrhRFBpUjqlxnTYKrSvb7kvXwau3YML4SViw/Q8n6Z+pAuuXQ2PAxsCpQUYpEEcQRzckZVQzWdo0wOR4mRMAxI2DgGQXRC2So7D6O3HkdSRNV1uSP64kTyUM8GJiFKoY0hxICKkic6RcoccUQSuG7YADRykSxERMVcMyk8kUo0TdMQRs+YRtbLBfVkgnOei/Mli4seHz2RRLtTc6+xHFrFDfH8Hed52AUuvOdi+Sjrb4qmNjMODw+pJw26rji7OGWxWrJcrVms19tx67ipH8SE8omL4ZyhX2Eqi0xmpKSxaGw1RWtFI0IVBX2xIITIEAKPxoH7Xc8YIj7EPIFK2mqBWqDSmtYa9ivNbkxMB48Libt7wp09zUePDHXqCGPAJ8Hq7PxSyvpg2hhUSnlfycI8IfrcMXIjwbvc/QgOSREtibg8Ru3sQ9VemZW4Ao/+kHbtGJ6zXXYaUi5gSake5w4VXCk6pit/dLVXrUSwVvHyrT1u7E4wRmU8wTiQnCtw5EtqUSWCsg5lx1xUK9yBonWpJ1Roo0jDiKoVqjaUZD3zR8SI1gY/OFwaaWYTxOQ2aXI+591ak0VsHUwAvWGuHkFA24rYR9q2obIa5xxBhFXX8/Cd+5yda5IxSG2YBEc9cRgDr8wt/+ZHd3n7vOcrx2u+ujCsY2JIiTEueO/xis1k6qyZcLA75+WbtzCTitW6Z9V1nJ+fs16vaUJkmjIwyoliDJHl2TmkiAmJyifumKwWXQlUWliFxDpF7ofA2Vh4HcqxsVpy8bcIBE2Bgxj4hGh2WsVOrfjIDcVeC7VKaO8YvcfYmnoyxdQ11tg8/k7REymOIYU8bamARb9gHHuUKJpmilU6T2mPA/7+l7H7FplE8DuZdCZddyV+KC0lUBLRQga4FCrwTQi4FUCXyzAc2UjMZAaidmKYNZZKCwSfL9BxzJVt7/Msf3EvsTiIREINuY4gSuVQtIxkitao2qAanef/9Ua7oKw5BkJpd26KFwmQkPv5SnLlPkafUYoxIeZSFCelzEeolUKMBQSlhbqp2L91g2qacmekMlQTk9GaEgjRscPIzdEwTCziPKdRcRHh8RhwwW+d5uCEuEx044Be5kEjDezNpuxOJhgRKgQDeBJjihgfCM6hY8QGMGoDJ0l0KbKOiTEG9OiYqsy6JVCUnvI7jyFxoOHlRvOJHcPr85ZKJSoV2K8DFQlVohdEMNbSNA1aMpOUMfYyeZQyzBYjWmUdj3EcicGjdW6lsokqnKdedsT1GXE6I6V2c7B42lzi2jG8AJYkockXyVaQNV255tg4hA1UVt7398YqdmY1bSUYAnGM4DzJjaTC94i61EhORJJPxTEMpFT0MUNAqkI8KqBri6o1Yjfks+WSEyGWSU7ZjPduLnmf4cIqq8vmekXIX7pAozfFTVJCkT+zsoqkFO2spZrUuM5lGLZRKFvhnGP0LlPPk9hrA2oWmPnAcTI8CUKIsPIJlxJOEqPvWZ13+JhXN5tOmLQTduZzmrbNEZI2IAYbPVUM1D7gxgGJCQPolAhE+hgZ/cgqJXrnMHRMNduL0ofI6D0hRkKM3G41n9w1/MRLDUe7LURHdBAGR3JFCEiBsZa6qmnrJhPaWpvH6QtSUcp+kyJaZXJbN7qsR6kNWjK7uISICoHKefrlCX7SQnWUcSvXsxI/jJbv4rUWqqLqRMrqSJti2dbbb2oMG5ATWaCobSwv39vF+JHoAqlUrPE+/1EpNEJOTEDnYuDoCdqRgidqhdowRWsNWmEmBrE6FyA3J1ZhjQ7R538jgRuG7NRKWqJEb7U0E5EwdCgBXWm2gjlaUEbjx8I7aSxa2zxXoQ1h4vDjgPceazRGa+pYMWlaur5hUvdMpmsOdi3TdkoUy5tPVvzj9y54dznyaO2pYqJWuajqgdituVivOXnyGJdLHdnVqRpdzdBVk8e1bS7eaq25SGFbwPPUDMPIOMCq6/BDBzGgSDTkusKeET5+1PAnP77PrYnBSmK9OMUNHu8ynZ5SgjaaqqqZ7exStw1VU6OUoTIWYwxudGwdsQJCRFcWay2kEYkRCaV+YxSYXHhKyyXDu2/h3Arzyiuo+H6eyA9r35d25ZXX/iPgvwSOUkpPJJPL/bfAzwBr4E+nlL7w1Kv6PWQCGBUzNVppJeY0ohTIyt17Q+J4mUBkvgatoW4UN260JDcQYkCiR2cgcnmTKwjKKyHlVl05UcAzHgmA0YjVGdHnBSjOgVKM1LlSn0Ju2wXv8s+iiJIK3p+MSRBDiim3LuOlUxPAhUDyoTBfJ2xVUQgWMXWV+SVDpJrkHn8IGek3URpjK6qq4qK8lxX4ffduMp/P+NZZx289WjNSEfoR140sxpE+RnxKuBSzoyARBMY4gl8gdJCWjJ0U0pxc6c9oRjKqM0QmKbAvnt0aCBofhEfR8+p+y0d2az57e8KeONxiYNl7fBl1FyWY2lDZisrWTNopxmjquqZuW4KPKKMRfSlHuEmLNkrmCsGYKjNCiWSfnzZdDMkqgsueWC0IL5+COsiiQU/pHL5f7UpE5B7wx4BvXXn6p8mU8R8DfgL4y+X7tX2AZWVpk7sRG4x7TOVuJlcO53dLuQo5wjcG6kqR3KWwSFIgmwncKw5nk5Hkx5sZ/py35LzfZ65JDSloovh84pVWiJT6g7a2YB7KYNYGVBPzTMbmfUXpzCgVwoaa8NKuOqmQpe/yB9OAQlSuuWhbZaGd8pLWEa1zm24YHcGPKBF2JxVtbdhtayplOR2gX1sGW3E+jIx+JKRAJDLEiAuJIUTOUsTUGtNWNPMdLhYLBucZYy4oToyhRhEuLnK4TmKqFbONtKBSTBvLJ240vLZb8epE0V+4PEcxREQrjBWs1dRtRW1rKlNlWnlFLjgaS/RDaQlv+tDpMm2UTYtaYU3FQCGSiamQu+RfUkaR+oGw6pG4RKv97bnyNPZ9aVcW+2/I2hJ/+8pzPwv8T0WA5hdEZE9EbqeU7j/lun7PmLaW6f4u7mK1rSlAJm7ZyNMDV6IE9T53oUpL0PUdsRKUtpkHVFPaVZf9jKuOZSOGGlMiuU3KoZDk8lh/ynUEQgDx6FjlCU4leYpxMmFYZSJXsJimRYBxucwELptgRSuCGxBf+vEFfp1SDpG1tVlOr+vw6xWqrjGTSdHCyER3Mbh8wRibUYAxEkSTEkzqFlfap2fLC/Z393n9ZstHjub8xle/znK3pbe7BKlp1idUrsOmyLJ3nC48jy4cb608h3fvcPj6K7zxo5/ml37llzi5WNAH2GkbXt6/waGtWH3+l2BxQXQBHxTv9AmnEmai+FOfvsuuDCjXc3b/IasFmKpisjNlsgtNXVNVFYp8YacYcMOa6e4exlSAwvsiFqwyhiH6VDhdC0+HKLQW6rZhuVjgXGTd9zTDiKo9qgJT1cTTNUH1GLcgd5M3cnYf3r6vGoOI/CzwbkrpS/L+Qthd4J0rP2+0K68dwwdYc+OAO3/4X+a9f/j/Ers+IxmDK+2lVGYm1Hao6mqNQYCmFeoqgltSz29gTZFpa0zpX+fioK4rNqrIMXjG0wV+3VNVFWbWZH5HY3JhTC6r4ZuBnBQ8sVC9oQTb1jTTKRJyDSFLoYF3Y+40JJvTDlvBmAFPfuix0x2Q0pFoWvw63/mq6Q6hXxO7zBJd3TjY3i3HwgCVYiCTKEtBhYYiTWcxShMElsszlNJUtuLeS4f0w8joO6wVztpdgj2i3Zlzj8C4XLA8P+UjDx6z/9nfz41P/Tiv/Pg/z/6dV3n3vXd45523qeua+WTOzFhe0pGL3/hl1scnLDrNvb2W2/sNL+/VuJNTFimiJGGbHW7fqDE2RwrGGow2aG3Qoun7FX4YiZ2nuTvHRc96dY41VZEa3NQLr4zcK1uOe6JpJyitMmOXHzMN/TASVIdqG2otmR744jHWDKQr1G8f1p7aMYjIBPjPyGnE923XorbZzGTK/PWPcf7V36Z/9Ah/schw6HJ/z7gGtdUq3RJ3lCNtraZpK9rZDvXOLsZalFZInfBD5ldYL9fsTdp8xxfBdwFlFNpqlM76FMoIurEkXcJYDcqaKyO7xUnEWOoMBts0mbVpc3cvPf0QPCrGopWhLlOWsBn9FpJk6jnRYx4JTxl0RfAENzIuzzMU2RhEZc7JJIpEeB+ib8NnGGNEUULvlAVwrZF8142BWiLRaFKtaRuLVRVooTGKW1qxu7/D3nzK/o1D7t57DRc8jx4/ACApIWmNmUywuzPa5LGxoq3gRquZ68S6ztBwrYXptMbazP2oVKKuJ4RYeBy1IoREiAUGZTIMfRxH6tmEq1dwDAXxuL355v01piral47gMyeE9XWh9BMqYxhJnB0/od4ZMNJsi88f+rx8+lOZN4DXgE208DLwBRH5HE+hXXktapvNTKbM3/gY+x//JGcxcXFxVjAGOYkwEnFlcGqDdNwkE0mgaQ2z+ZS9w5do9w7Q1iJGk8waf3bGsFzz6NEZuzf2C6cABOexxmAmgsSsHZnVsDVYcrhfhGdiYBt1AEUtKzM02UmLKAjDkOsMMaGUJjiP9h5VRroznDcrXZESSeVJTYzJsxYhozOr6YzoHdEN9CePkaZFtROq2R5UFkm5/0/IOhkxZOBP8I4YI1oUdVURUmJwI8bqLV6DGNmzAascdew5lYbRNrh5zXy2w6S1VLHHasWNg0OOTx4jolit1xhTUYkwhgCzHdpGM28bDvoLYu/wnWe+OyUphTGavb0J/XqdmZ4STJopq25B70eMaEIQYjLoqiKK4GPMJC3KbDEsAME7QDCbmkOJ4qyp0NriZcD7gXHoqZp2C1lvqpo+jFzcv8/OnTViWlSRTv7Q5+XTnsgppV8Dbm5+FpG3gc+WrsTPA39WRP4mueh4fl1f+KebrmumL93mzh/6lzBVjVsvGd/5Npuw8Qp64Qq+KIf3SuCNN17l1Y/c5saNl1Ax5uZDiHjXs3x4wsXxKWHsM9NRCll3InrMpEa0wi+WpRaRL3Y9afNFW3ALEhIpRKLz+U5dTk6UQlUJIzA9uEG/WJJ8RGtLKl0GYkKUyULNMW3HioXLf1/VDYjOvA7jiDKG9ugW6Ymi7xb0i3OG1ZJqNsfUZRKzypV4GyJaDOt+RT+sWa7P2E1zlNJY0ZnHNgkxwWJYcaPZQwF+veDmXBNJDMnzpBs5+fY3eHB6yrvLnvrmXdaLBbvTKc45nBu5GHr8w3dI989oXc/+9ILRkDUzJxVJEvsHe0wmE7QCt+pIZDWu4Aes0uhmCsZyfn+NMYbXXjug75YM/To7tuK4N+LCwXtAiNrkjU/5hpBJZCx+VPhhxPlEElVqQCqnLmEkPj4m9CtivYPSv8uO4XtpV6aUPkii7v8ityrfJLcr/92nWs3vQROlMFXN5KXbzF//GP3ZCcvHj1BhIKWYK9ShdCAKsFkQtFbs7U+5cWOf+WwGPhCDy6E1gXG15OzJOYvTBVUlROfwkmcgqoP9fHHHmDEPPoJS+DF3GcTkiEFtTlSRklZsWp6Xaxed6eVB8ryAdxhVBHZTKnJ32aOlEDPFvM5FyUSmhlPGIDaL5BIFJRX17j5Yg+qWDH2HA6IbsZP5tpUp1mBSopZAEujdQCipSqUNfXFQMUVidIxj1tPQWlGPfWaCioGpjkhYsz5fc/6Fh5ze/QRrVRGHnrat8r73HeO777LPwF4r3JhN2J3PEKWICbx31EajJTF0Xdmry9azlEGzx48u6LrAbFZRNTVn5wu892i94ZdMpdtQiFmUyjUfpbew+M1xSTEPnGXOyfJeZa5CIzQkYuwJ0T2tENX3rV159fVXrzxOwJ95uiX83jaRzAmg9vaY3nmZ+cUZ9kufxzhP6v0WtZAdA9uftVbs39hhZzaltpboBlJwFDYCxsWS5dmS9aJn59YO0Xl8zBHD5NZRcQoeVVckHDEm3LrDSx6lVtZi6hxVSOGARBVZddi20kRlMJSozBfQrTt2ptPLDkimjcqfoNQouFJpzx9Goawl9H7LUmQmk9weVQo/DMSiNSEqdzGkEhCDVAZDTZXA9A0pK/Xku2/wxFQGj6JndAMA1hrcOOZIJiUaBTp4VN9x8vA9LsZEP9kntDuotgU3EtdL0vEpkwPFvG6YtZbdvTkJ8C4w9OSQP0aCGy9bz5CHrEgMo+fxoxVKLLrgFfqhR4CqsGqTCly91GwuQU6XhecsRZhrNm7MOJAYPN47xOVaghZolCZFlynhnvK8vEY+Pm8rA0xYS3PrJfaVcPT1H4cvfpHVgwekUO4FheVpU2OorOH1V29SR0dYLjJ/gVGQBsKw4vy9h6wXKyIwn08J6z7PNgTHeHKOnrQoa1B1g+88btXRX1zgxjWmrqnaKc3efqaINwZdKNI3MvMbmvLt9GVtGc+X3P/2MfoVjWoqTIqIlpyahDx0EFMpEqoSUaSSlrTNlr4sDD2iFbppaJsGU7esTh7hhp7h7JgUUi581jXS1qiqplKaOTAOPSlGfPAkEtEPhHENCKMfysVW07NiMzHSTvOdX2vNzsSyOnvAOI4EhIcnJ4z3vw2PHnBzTBkgghBLjWOT3NV1kx1fCLQFp+C8ox8HlhcnLM46Ls4c7z6e8Af+wA6Hhw3dekHfr6nrCdY2oEtUEOI2jdi8n7yP4i+SUkZSdsvAsllmuHlMTGY7mLZFi2K3neA2Dvkp7doxPGfb9Kdj8qi6prlxwOGPfo7+/ALnBtYPH5O+Q/JWK8FqmNiR5E/wLt/dE4noRly/YnF8QlMJuqkxtsL1I4qIFegeH6OqCpTGjz1jtyY6RwixjHA7XFyglMZ4j66qfBGWCcsMgdig89gCmeq2Yf9ol4vzBbqpqWfT7ao3istbhqiMRc7/HqArS6os0Uke+nIhOw2tsO2E6Y2b+L6jX5wR1+c41xNdi5F5TitEUU9atOS/j97nOZFN9yJGTGOwxuRuCdlJ+ehZLhc473DjSOpGqu4JlYt01Yyd2Q26o5tQG+6uznjj3iE3dlrqymC0LS3VtB1pJ0FyntXFCd16Sbda0J2tWJ7D0Gnu3bIcHU5pJprF+hwkU/gbY3O0EBIhpkzpGEJBp5Z+xMYpi8qUewl0pRjGnr5fU9UVVuksDWA1MzPhPFhSyOnO09i1Y3hBLElCtEI1Ne1Lt5ncfZnu/JTu5AxGuQomRKksMVlbnyG0RiE230XC0DOu1/hhpJ5OqadNrg/0Q446jMqFPudJIrihw7tyJy38haRMIeb7busAcpdC5wJYygCmzWsbHQptMrLvwcmSZtcx33RTNk5hc/faoCzV5SSp6CL3HmM56UtUknJEZeqs7Zi8Y1ivwDviALGqUVWFaJPTB1uRRBEQ1JWQHnJHR2uVB48oiMEQ8WHAO5drLD5iSbREIpEQA2NKOBF0W1HNZtTTNk+xbpWpZcuYtXF8zg2MfcfYdQydIwVDZRUvvTSlaQyJwDD0ZSbDlCnJmGUKy+TlZgo17/Hmc+TvsaQaSoMqLeYUA9FHggxIstiqRXx+Ll5PV/5wWYEPZaixEsQoqoN9dj76MVzwLN79Nv1JByEVLUuwGmoLkyZQzyymqVFGE3qHHzqGi3MAptOGdj5F1xWyWGbMvzFZecp7fIy4cc3mjqeUzozRMZCCw3Wr3FUQjRiLtsU1pcw1qIzOaYA2Ga1nNLYyPD51tLuOI+9zZLK5m3J54bBJJ4qJ5CKmhEhSnigJVchUEjklMU2DMhVE8GNP7LtcsWeKqgXRNqc8JS2o3Ui3GeYqgDERMMYWtuVUiGOyVF9weZ6jmUxoZhN2a4tfnnF2dsJ6uWA9s6xQTBFsqYVQ9q2EfqWLlEFMQ7cidAPjkKhNYjIzvPrGTTo30vUd4zjQVC3GZMWprFlJYb8KUNrIG/i6lA1MIRB8ZqpGQTPLdPe5NJ15OIWISVOk70ltnqF5Grt2DC+UCUKmN5vdvYeua9I48PY/+EfEsyUxZIHbo72aj9zdYX6wRz2d5sq4D4zrnv4it/h2jnaxTYNWBm1zO21zgoWYyUxTDCgxWVRGyKE7xVlFIYUerzUURiGZtrkDsYE1h1yMRBU0Yoz0g+Mb54a2E14OiVZymK+2QxppC1C6CvdNKWa17bRJidMWqVnifgCU1bSHR7iuY1wtcMtFnrFoRvR0DnaDwVDUTUPtJwzB0Y/nBOfx4nFpyNiHsgfRjaQI1tbsHr7E/R6GekaqW27dvU01OM77gdNx4BeI7C1GXo1rXms0tVKgAqF3pUujkMrk4xiEcYxMGsP+wR57N/bAaJYXF3R91u+oqxajqzKl6nNRsUyybga5Ns74EteWiDGnGMRAf7FCWpCJotIVRsgj2j6RTr9OtArZvfVUZ+K1Y3gRLG0wjSVMTAnTtjT7h+y+/nEmv/1buJAYz/pMNLJTc+tomqXpRPLQlfe4fshFKxGa6bQQgpYWlqjtXW0z6KQKTZsqJCyb+110ipCEMHaEsc8YB1Eom9WXc/gvkDbK2qqkE5pEJl3NWg+FU2Cjf7lBPcIWUZnKRMimeyG6KG+nDfazFDEKl76kgEhu8eaXMw+i79YkBD2dFbRk5nGwVUNVj3TL81JqLKhSbTL3RVQobfNEqLXUs5184boOxRmVtlilmaJYaUMicR4S70XLjdUF87qirZsc7W3h6ukS1BVhtlMz2ZlSz6b048A4DgQf0LrKbUoKZiHF4iRTaeVe8nZujt0mDcvNl1yI9qNnlAEtClfl6FFHAzGQlo+JsznJPXmqU/LaMbwIJrkAmaT0vlPEVDVqbtl55TWmd+/SdwOrix6dhPlOzY0bU6KyBdAU8KPDdT3Be8Qo6smU0ecTLAaf5yeUAm0QJWjJF4+2ttQKNtoPeUBJgOiGzAAVAySFruvsQEoUkCTXADL2N9cglNIEMolrDJcsxbKpNWxy5ZJDyzY60IVURCM2lUnLdPm7BTCVYizjxbmQSEr0yzPCmOskylYZn6ArxFhM1VB5l6McJUW4Q1BiEEy5GC1SZSZoPWk5Xz9h7Xtq7wk+YNoJbdMgZkrSmgHLQ2d5abFAxQl1VWO02jqGzeBaSlmQeDJraWYTdN2wWF8wupEYI3WV8RgppTw0Rr7T53NCcoomivfP1W5EfTIiMiK4MaIY0QJ+OqVSVXasMcDqjLB8iFt9TwDyB9q1Y3ghLOfRueceEBJKa5SpiAc3uPnjnyPahouzM6ZdIJmGZZpwvzNMxGNiQI2ObnlB8iPKGuzOHL8e8KOjXy5pZjNs01C1Lc3BQcEQ5JOs6KuX0edAdJ7oRlRV49YLghvw3QWDEsw4w05BartNP7TSxckY6saiTSKlQHABkQyhTpI/02URLRWmGbWpp+XXtEIlQzJlhHuTG29SiiSZ3FZn/YlqPkfXNb5fsz4/wS9OMX6K1vtoEeqqJgGzvSMa0VSmYjKZZnHektIoIZPgWoMHHj++YOUie0fQTHexwaO8Y29W00fH4COLMfKrj875+J6nsRXTqsI2VR5uSomhGxn6QEyW/Vu30XVN5x2n5yfEJCiT6fh9zBgDVVKqTXMyf+ZLgp0tgY5cUuORBIMmqhw19cOACx4fdaamSwnpFOv33uPRxcOnOiOvHcNzt034WUaV02UtAJXZkuqDG0xfvs3eG6/SPzxF9m/TTV5ifbpmfXyMlcDhbktVTbHGYjXo6YTUj5lpKTjM7i66pB5bROOm1cGmUxAzEtEaRAsVCdFC6Dvceokf+w0yFyu596+UIjCCVgVhGLBakBTxznEpkCP5RC+diFI4KFHyFWcBxVEVh6Ekt98U+fdjHipKMZGcy8xRxmDaGa1ofLfMRLh9jzQ1WmVnMJvOCeOYFfZiodEj5QElbcBoXPA8fPQYMww0SdDeEZXChYCNgXsv32Xn9h2W6zW/+aVf5atf04znA2LO+dT+HGXzhTuMPet1j9KKw5u72HZK70fWfZd1IXRmh1LK5JpE+U+pS8WxfAqUbsOGl6EgI9lGWbm+owV8SIwxMnYdrTbQgDKKSmna9oD5wavAL33os/LaMbwAtr12Sl4KlJA9MyubtqXe32N29w61aalvHJLaXVw3slpHdPRYGzmyU7SZYKzJk4kFRBRDzBHIltBV2BImbDC7V9pZGcassyMhZZyFc/jgcvVedZlHQVui1iiBoY+MXY8bR4zOp3fwl6AcKUQ0m3oEUrox8L5AGShCrjkaSVFtfcT293SpQZQUIxXyGNtMMs9lSoXerkZJpsurq5YhJqQI+eiyx6REKnf50Y2cn55QqxFrGyZtTUjgY0InmE4aXr73CkOIrNdrjh89IXSnPA4d532PriuqlFivVgSxVNMpe0eHRKUZvKcbeiJZ6VuV9qoq8PENCcvlhpX1bRzF1pkmNgN2GQpSKkMxp29+cMS2lCx1Lvpau0Mzuzrb+DvbtWN43pauyMdRKvZSLqSNVqIx1Lu7zF97jZ2PfJRaGWpJNMy44Q4ZVkvWFyumL9+g3d/DzGaM6ycIBmMMfhyLo8kXXFYo2uAE4uVotdJQhEyAwtFg0VWDUprh/JgQPKFb4JSgbVOGpiwP3n1C368hrqkKdNr7qxRSklGQm7asLjCjLYnI1iPmxyKQFKLyNCblok4hIjrXFlKMhESev0gps1lNpsQtZX7R3dAmk62Si3wu+MJ7IMQSAQ2uZ71acHZ2wv4cmoN9Jq+8zDsPlmAqTNKMywXT6ZR7d17mE7//0/zEH/ojfO3z/x9v/sI/4M1H3+QN0cyM4vGDB1SHd9k7OODg9hHH773Nxbqj6weMrtGmRpsKa+pCkEvWj0C2HAyCICohZTo0FQTkprTpy7yc0nmfYoAQEq4vU6cJRGfQlDI2T6g+hV07hudul6lE/ikhssHmZbrwDDluaHf3OKp3UP0KtV5igDF4JkZx6+4ROzstpjIoFfHGYusKTYO1Ol9nwSNRYCMyA/l9tMo/x1Cc02amYeOyoJrNgIRbrxjWS9x6RaojydZICJyd5XmLg72WWl8gMes/Bu9JKERnJ6Mqm51CmdDk8t73/jVdhlFcti5zgS/PhJAhxMVBpJTAkwugVvJU5ejzQJjSWG1JNuABFyNjyACvVOor5+ennJ+dYpVQt5bZ4QF7r3+Uk/geyWchnmk7o6oqqrqhmcx55fWP0hLYqy1/96//VZbDQ3ZTRC97PvHHfgq/f5vfDpb9T/4U8ziwHwasH1DjCjX2qH5NXC+JY08ce3CONPbgXa73bFOtlOnilQUK83YKOB+QPtKvIqMTQio0ejqPs4vK6ZofOtbn112JHzrbNirTJdjpyow1AFpp6rqhtgaT8gWv0hy/t8JEx+68oaoMqtKIgqFbgRsRElWbh6G24fsGsVfahKWmhyi1vTvnNPYSd4ASdFVvVaxHN2RB2wTa5nTlsphX6MnKSN+lNJ7aoh23H6185sz5wLYDsQliJGVOyqsIxvfVJb4j5M6djfxCvEJlL0qhRKNUQBUOhESGHhM8fdcxDh2VNdRVJmdtdnaY7u3hfUKMYRw7xmGNdwOiNfVkwt6tOwzLBcErTvqRQQJHVUWqKi5G4c2Ha+wjj8FjJTKxGkuDlYpWTdl96S74kTAOxH7A4tEEKolI9KjoMcGhjCB+ADeWdccs7ecigxMGr0hkurtcuDYgkmHf3YLxyXVX4ofLtvgBKPLJ+USWcqoXxJ7WClNVGBJNbamqGTQ1IhETR2ZNyU9VgjTiLk6R6NBGUbeTXHDMAIL8b4q+LAIW5qUNq1K+CxdS2Zg2WnkoazBNAyngzjqSd4SNJltptfoYc6dC5y6FFMl4UtqmR1so9SZCKOlA8GlLLrshr9vOVWzo5lTZG9mMoOd4a8MSRdFRiCkSQ3EUWhfHJEWyvuhAppRTiTExDj1+dLRVg7UVVV1TtS3z/Rt0SfDAYn3GennO2K8RQBvL5MYhN5zHBsXFEBhM4mhvyth3HJ884bd+45xHDxcAGKvZP9inndXMdhqOjvb41MffQIvgnSN0HbPG0FYKWyVscmjXYYYl+uQ+nD4k+jGfKWWfgk90weCCJqXcQhajUUaTpNQdVud4942nOy23WOznaCLyGFgBTxfv/ODskBdnLfBired6Ld/bXqS1wPdez0dSSkcf5o9fCMcAICKfTyl99nmvA16stcCLtZ7rtXxve5HWAv/s63k6hshru7Zr+z1h147h2q7t2r7LXiTH8Fef9wKu2Iu0Fnix1nO9lu9tL9Ja4J9xPS9MjeHaru3aXhx7kSKGa7u2a3tB7Lk7BhH54yLyFRF5U0T+/HN4/3si8vdF5DdF5DdE5D8oz/9FEXlXRL5Yvn7mGa3nbRH5tfKeny/P3RCRvysiXyvf95/BOn7kymf/oohciMife5b7IiJ/TUQeicivX3nue+6FZPvvynn0ZRH5zDNYy38hIr9d3u9vicheef5VEemu7NFfeQZr+cDjIiL/admXr4jIv/Kh3mQ7iPIcvgANvAW8DlTAl4BPPeM13AY+Ux7vAF8FPgX8ReA/fg578jZw+B3P/efAny+P/zzwl57DcXoAfORZ7gvwR4HPAL/+O+0FWc/k/yZjnn4S+MVnsJY/Bpjy+C9dWcurV3/vGe3L9zwu5Vz+ElCTFeTeAvTv9B7PO2L4HPBmSunrKaUR+JtkxexnZiml+ymlL5THC+C3yEK8L5L9LPDXy+O/Dvzrz/j9fwp4K6X0zWf5pimlfwScfMfTH7QXP0tRWk8p/QKwJyK3f5BrSSn9nZSSLz/+AlmS8QduH7AvH2Q/C/zNlNKQUvoGWQzqc7/THz1vx/BB6tjPxUTkVeDHgF8sT/3ZEib+tWcRvhdLwN8RkV+RLPwLcCtdSv09AJ6OwO+f3X4O+F+v/Pw89mVjH7QXz/tc+vfIEcvGXhORXxWRfygif+QZreF7HZfva1+et2N4YUxEZsD/Dvy5lNIF8JfJAr6fBu4D/9UzWsofTil9Bvhp4M+IyB+9+mLK8eEzayWJSAX8CeB/K089r335LnvWe/FBJiJ/AfDA3yhP3QdeSSn9GPAfAv+LiMx/wMv4XT0uz9sxfGh17B+kiYglO4W/kVL6PwBSSg9TSiHlKab/gQ8Rfv1uWErp3fL9EfC3yvs+3ITF5fujZ7GWYj8NfCGl9LCs67nsyxX7oL14LueSiPxp4F8F/u3iqChh+3F5/CvkvP7jP8h1/FOOy/e1L8/bMfwy8DERea3cmX4O+PlnuQDJI4b/I/BbKaX/+srzV/PTfwP49e/82x/AWqYisrN5TC5u/Tp5T/5U+bU/BfztH/Rarti/xZU04nnsy3fYB+3FzwP/TulO/CTPQGldRP448J8AfyKltL7y/JFkUg1E5HXgY8DXf8Br+aDj8vPAz4lILSKvlbX8zhxvP6jK6VNUWH+G3Al4C/gLz+H9/zA5HP0y8MXy9TPA/wz8Wnn+54Hbz2Atr5MryF8CfmOzH8AB8P8AXwP+HnDjGe3NFDgGdq8898z2heyQ7gOOnBv/+x+0F+RuxH9fzqNfAz77DNbyJjl/35w3f6X87p8sx++LwBeAf+0ZrOUDjwvwF8q+fAX46Q/zHtfIx2u7tmv7LnveqcS1Xdu1vYB27Riu7dqu7bvs2jFc27Vd23fZtWO4tmu7tu+ya8dwbdd2bd9l147h2q7t2r7Lrh3DtV3btX2XXTuGa7u2a/su+/8BUHfyE/HlLY0AAAAASUVORK5CYII=\n",
                  "text/plain": "<Figure size 432x288 with 1 Axes>"
                },
                "metadata": {
                  "needs_background": "light"
                },
                "output_type": "display_data"
              }
            ]
          }
        },
        "0e76009b922c411bb66b5c27eb6c6dc4": {
          "model_module": "@jupyter-widgets/base",
          "model_module_version": "1.2.0",
          "model_name": "LayoutModel",
          "state": {
            "_model_module": "@jupyter-widgets/base",
            "_model_module_version": "1.2.0",
            "_model_name": "LayoutModel",
            "_view_count": null,
            "_view_module": "@jupyter-widgets/base",
            "_view_module_version": "1.2.0",
            "_view_name": "LayoutView",
            "align_content": null,
            "align_items": null,
            "align_self": null,
            "border": null,
            "bottom": null,
            "display": null,
            "flex": null,
            "flex_flow": null,
            "grid_area": null,
            "grid_auto_columns": null,
            "grid_auto_flow": null,
            "grid_auto_rows": null,
            "grid_column": null,
            "grid_gap": null,
            "grid_row": null,
            "grid_template_areas": null,
            "grid_template_columns": null,
            "grid_template_rows": null,
            "height": null,
            "justify_content": null,
            "justify_items": null,
            "left": null,
            "margin": null,
            "max_height": null,
            "max_width": null,
            "min_height": null,
            "min_width": null,
            "object_fit": null,
            "object_position": null,
            "order": null,
            "overflow": null,
            "overflow_x": null,
            "overflow_y": null,
            "padding": null,
            "right": null,
            "top": null,
            "visibility": null,
            "width": null
          }
        },
        "141708b7eb75403b83fbd08175da20ba": {
          "model_module": "@jupyter-widgets/controls",
          "model_module_version": "1.5.0",
          "model_name": "SliderStyleModel",
          "state": {
            "_model_module": "@jupyter-widgets/controls",
            "_model_module_version": "1.5.0",
            "_model_name": "SliderStyleModel",
            "_view_count": null,
            "_view_module": "@jupyter-widgets/base",
            "_view_module_version": "1.2.0",
            "_view_name": "StyleView",
            "description_width": "",
            "handle_color": null
          }
        },
        "1fa199b0cee34804931c47368f0c070a": {
          "model_module": "@jupyter-widgets/base",
          "model_module_version": "1.2.0",
          "model_name": "LayoutModel",
          "state": {
            "_model_module": "@jupyter-widgets/base",
            "_model_module_version": "1.2.0",
            "_model_name": "LayoutModel",
            "_view_count": null,
            "_view_module": "@jupyter-widgets/base",
            "_view_module_version": "1.2.0",
            "_view_name": "LayoutView",
            "align_content": null,
            "align_items": null,
            "align_self": null,
            "border": null,
            "bottom": null,
            "display": null,
            "flex": null,
            "flex_flow": null,
            "grid_area": null,
            "grid_auto_columns": null,
            "grid_auto_flow": null,
            "grid_auto_rows": null,
            "grid_column": null,
            "grid_gap": null,
            "grid_row": null,
            "grid_template_areas": null,
            "grid_template_columns": null,
            "grid_template_rows": null,
            "height": null,
            "justify_content": null,
            "justify_items": null,
            "left": null,
            "margin": null,
            "max_height": null,
            "max_width": null,
            "min_height": null,
            "min_width": null,
            "object_fit": null,
            "object_position": null,
            "order": null,
            "overflow": null,
            "overflow_x": null,
            "overflow_y": null,
            "padding": null,
            "right": null,
            "top": null,
            "visibility": null,
            "width": null
          }
        },
        "2e639276d4004d98ae23e9721b989d2c": {
          "model_module": "@jupyter-widgets/base",
          "model_module_version": "1.2.0",
          "model_name": "LayoutModel",
          "state": {
            "_model_module": "@jupyter-widgets/base",
            "_model_module_version": "1.2.0",
            "_model_name": "LayoutModel",
            "_view_count": null,
            "_view_module": "@jupyter-widgets/base",
            "_view_module_version": "1.2.0",
            "_view_name": "LayoutView",
            "align_content": null,
            "align_items": null,
            "align_self": null,
            "border": null,
            "bottom": null,
            "display": null,
            "flex": null,
            "flex_flow": null,
            "grid_area": null,
            "grid_auto_columns": null,
            "grid_auto_flow": null,
            "grid_auto_rows": null,
            "grid_column": null,
            "grid_gap": null,
            "grid_row": null,
            "grid_template_areas": null,
            "grid_template_columns": null,
            "grid_template_rows": null,
            "height": null,
            "justify_content": null,
            "justify_items": null,
            "left": null,
            "margin": null,
            "max_height": null,
            "max_width": null,
            "min_height": null,
            "min_width": null,
            "object_fit": null,
            "object_position": null,
            "order": null,
            "overflow": null,
            "overflow_x": null,
            "overflow_y": null,
            "padding": null,
            "right": null,
            "top": null,
            "visibility": null,
            "width": null
          }
        },
        "34b81407575645e4bef05272550c8559": {
          "model_module": "@jupyter-widgets/controls",
          "model_module_version": "1.5.0",
          "model_name": "SliderStyleModel",
          "state": {
            "_model_module": "@jupyter-widgets/controls",
            "_model_module_version": "1.5.0",
            "_model_name": "SliderStyleModel",
            "_view_count": null,
            "_view_module": "@jupyter-widgets/base",
            "_view_module_version": "1.2.0",
            "_view_name": "StyleView",
            "description_width": "",
            "handle_color": null
          }
        },
        "3996a1d2b34749a7a45b26342a9a99e2": {
          "model_module": "@jupyter-widgets/base",
          "model_module_version": "1.2.0",
          "model_name": "LayoutModel",
          "state": {
            "_model_module": "@jupyter-widgets/base",
            "_model_module_version": "1.2.0",
            "_model_name": "LayoutModel",
            "_view_count": null,
            "_view_module": "@jupyter-widgets/base",
            "_view_module_version": "1.2.0",
            "_view_name": "LayoutView",
            "align_content": null,
            "align_items": null,
            "align_self": null,
            "border": null,
            "bottom": null,
            "display": null,
            "flex": null,
            "flex_flow": null,
            "grid_area": null,
            "grid_auto_columns": null,
            "grid_auto_flow": null,
            "grid_auto_rows": null,
            "grid_column": null,
            "grid_gap": null,
            "grid_row": null,
            "grid_template_areas": null,
            "grid_template_columns": null,
            "grid_template_rows": null,
            "height": null,
            "justify_content": null,
            "justify_items": null,
            "left": null,
            "margin": null,
            "max_height": null,
            "max_width": null,
            "min_height": null,
            "min_width": null,
            "object_fit": null,
            "object_position": null,
            "order": null,
            "overflow": null,
            "overflow_x": null,
            "overflow_y": null,
            "padding": null,
            "right": null,
            "top": null,
            "visibility": null,
            "width": null
          }
        },
        "3ea65fc470094ff99be71824fca5dd39": {
          "model_module": "@jupyter-widgets/controls",
          "model_module_version": "1.5.0",
          "model_name": "SliderStyleModel",
          "state": {
            "_model_module": "@jupyter-widgets/controls",
            "_model_module_version": "1.5.0",
            "_model_name": "SliderStyleModel",
            "_view_count": null,
            "_view_module": "@jupyter-widgets/base",
            "_view_module_version": "1.2.0",
            "_view_name": "StyleView",
            "description_width": "",
            "handle_color": null
          }
        },
        "499ed8bbc4854834b960ca8c422ab131": {
          "model_module": "@jupyter-widgets/controls",
          "model_module_version": "1.5.0",
          "model_name": "SliderStyleModel",
          "state": {
            "_model_module": "@jupyter-widgets/controls",
            "_model_module_version": "1.5.0",
            "_model_name": "SliderStyleModel",
            "_view_count": null,
            "_view_module": "@jupyter-widgets/base",
            "_view_module_version": "1.2.0",
            "_view_name": "StyleView",
            "description_width": "",
            "handle_color": null
          }
        },
        "4d0c7e15015c4b1fb4a657d7b0e77c19": {
          "model_module": "@jupyter-widgets/base",
          "model_module_version": "1.2.0",
          "model_name": "LayoutModel",
          "state": {
            "_model_module": "@jupyter-widgets/base",
            "_model_module_version": "1.2.0",
            "_model_name": "LayoutModel",
            "_view_count": null,
            "_view_module": "@jupyter-widgets/base",
            "_view_module_version": "1.2.0",
            "_view_name": "LayoutView",
            "align_content": null,
            "align_items": null,
            "align_self": null,
            "border": null,
            "bottom": null,
            "display": null,
            "flex": null,
            "flex_flow": null,
            "grid_area": null,
            "grid_auto_columns": null,
            "grid_auto_flow": null,
            "grid_auto_rows": null,
            "grid_column": null,
            "grid_gap": null,
            "grid_row": null,
            "grid_template_areas": null,
            "grid_template_columns": null,
            "grid_template_rows": null,
            "height": null,
            "justify_content": null,
            "justify_items": null,
            "left": null,
            "margin": null,
            "max_height": null,
            "max_width": null,
            "min_height": null,
            "min_width": null,
            "object_fit": null,
            "object_position": null,
            "order": null,
            "overflow": null,
            "overflow_x": null,
            "overflow_y": null,
            "padding": null,
            "right": null,
            "top": null,
            "visibility": null,
            "width": null
          }
        },
        "4e3dd0ff04d64eba82865123f8e7def9": {
          "model_module": "@jupyter-widgets/controls",
          "model_module_version": "1.5.0",
          "model_name": "FloatSliderModel",
          "state": {
            "_dom_classes": [],
            "_model_module": "@jupyter-widgets/controls",
            "_model_module_version": "1.5.0",
            "_model_name": "FloatSliderModel",
            "_view_count": null,
            "_view_module": "@jupyter-widgets/controls",
            "_view_module_version": "1.5.0",
            "_view_name": "FloatSliderView",
            "continuous_update": true,
            "description": "trans_tx",
            "description_tooltip": null,
            "disabled": false,
            "layout": "IPY_MODEL_00d1dfe0088e4a4292cb8a1979eee7d0",
            "max": 50,
            "min": -50,
            "orientation": "horizontal",
            "readout": true,
            "readout_format": ".2f",
            "step": 1,
            "style": "IPY_MODEL_7502804c795840b69d2d9c782baf53d6",
            "value": 45
          }
        },
        "59f8f9b51ff743479e6deb4c0a6e3ba2": {
          "model_module": "@jupyter-widgets/controls",
          "model_module_version": "1.5.0",
          "model_name": "FloatSliderModel",
          "state": {
            "_dom_classes": [],
            "_model_module": "@jupyter-widgets/controls",
            "_model_module_version": "1.5.0",
            "_model_name": "FloatSliderModel",
            "_view_count": null,
            "_view_module": "@jupyter-widgets/controls",
            "_view_module_version": "1.5.0",
            "_view_name": "FloatSliderView",
            "continuous_update": true,
            "description": "trans_ty",
            "description_tooltip": null,
            "disabled": false,
            "layout": "IPY_MODEL_cdc8674953504362bc1a889a01e4c5e9",
            "max": 50,
            "min": -50,
            "orientation": "horizontal",
            "readout": true,
            "readout_format": ".2f",
            "step": 1,
            "style": "IPY_MODEL_499ed8bbc4854834b960ca8c422ab131",
            "value": 50
          }
        },
        "5bfc55047bc14424a29e6e45199dc958": {
          "model_module": "@jupyter-widgets/base",
          "model_module_version": "1.2.0",
          "model_name": "LayoutModel",
          "state": {
            "_model_module": "@jupyter-widgets/base",
            "_model_module_version": "1.2.0",
            "_model_name": "LayoutModel",
            "_view_count": null,
            "_view_module": "@jupyter-widgets/base",
            "_view_module_version": "1.2.0",
            "_view_name": "LayoutView",
            "align_content": null,
            "align_items": null,
            "align_self": null,
            "border": null,
            "bottom": null,
            "display": null,
            "flex": null,
            "flex_flow": null,
            "grid_area": null,
            "grid_auto_columns": null,
            "grid_auto_flow": null,
            "grid_auto_rows": null,
            "grid_column": null,
            "grid_gap": null,
            "grid_row": null,
            "grid_template_areas": null,
            "grid_template_columns": null,
            "grid_template_rows": null,
            "height": null,
            "justify_content": null,
            "justify_items": null,
            "left": null,
            "margin": null,
            "max_height": null,
            "max_width": null,
            "min_height": null,
            "min_width": null,
            "object_fit": null,
            "object_position": null,
            "order": null,
            "overflow": null,
            "overflow_x": null,
            "overflow_y": null,
            "padding": null,
            "right": null,
            "top": null,
            "visibility": null,
            "width": null
          }
        },
        "7450b7e131664062a4c7f1701b33f3a0": {
          "model_module": "@jupyter-widgets/output",
          "model_module_version": "1.0.0",
          "model_name": "OutputModel",
          "state": {
            "_dom_classes": [],
            "_model_module": "@jupyter-widgets/output",
            "_model_module_version": "1.0.0",
            "_model_name": "OutputModel",
            "_view_count": null,
            "_view_module": "@jupyter-widgets/output",
            "_view_module_version": "1.0.0",
            "_view_name": "OutputView",
            "layout": "IPY_MODEL_9382f4fd0efc4eaeb73816b1c78a7d95",
            "msg_id": "",
            "outputs": [
              {
                "data": {
                  "image/png": "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\n",
                  "text/plain": "<Figure size 432x288 with 1 Axes>"
                },
                "metadata": {
                  "needs_background": "light"
                },
                "output_type": "display_data"
              }
            ]
          }
        },
        "7502804c795840b69d2d9c782baf53d6": {
          "model_module": "@jupyter-widgets/controls",
          "model_module_version": "1.5.0",
          "model_name": "SliderStyleModel",
          "state": {
            "_model_module": "@jupyter-widgets/controls",
            "_model_module_version": "1.5.0",
            "_model_name": "SliderStyleModel",
            "_view_count": null,
            "_view_module": "@jupyter-widgets/base",
            "_view_module_version": "1.2.0",
            "_view_name": "StyleView",
            "description_width": "",
            "handle_color": null
          }
        },
        "75fb3c5e12c44d1e96f86e0cfb9dd9a2": {
          "model_module": "@jupyter-widgets/base",
          "model_module_version": "1.2.0",
          "model_name": "LayoutModel",
          "state": {
            "_model_module": "@jupyter-widgets/base",
            "_model_module_version": "1.2.0",
            "_model_name": "LayoutModel",
            "_view_count": null,
            "_view_module": "@jupyter-widgets/base",
            "_view_module_version": "1.2.0",
            "_view_name": "LayoutView",
            "align_content": null,
            "align_items": null,
            "align_self": null,
            "border": null,
            "bottom": null,
            "display": null,
            "flex": null,
            "flex_flow": null,
            "grid_area": null,
            "grid_auto_columns": null,
            "grid_auto_flow": null,
            "grid_auto_rows": null,
            "grid_column": null,
            "grid_gap": null,
            "grid_row": null,
            "grid_template_areas": null,
            "grid_template_columns": null,
            "grid_template_rows": null,
            "height": null,
            "justify_content": null,
            "justify_items": null,
            "left": null,
            "margin": null,
            "max_height": null,
            "max_width": null,
            "min_height": null,
            "min_width": null,
            "object_fit": null,
            "object_position": null,
            "order": null,
            "overflow": null,
            "overflow_x": null,
            "overflow_y": null,
            "padding": null,
            "right": null,
            "top": null,
            "visibility": null,
            "width": null
          }
        },
        "7d66b7cde7224451b2ba1a22df9343bc": {
          "model_module": "@jupyter-widgets/controls",
          "model_module_version": "1.5.0",
          "model_name": "FloatSliderModel",
          "state": {
            "_dom_classes": [],
            "_model_module": "@jupyter-widgets/controls",
            "_model_module_version": "1.5.0",
            "_model_name": "FloatSliderModel",
            "_view_count": null,
            "_view_module": "@jupyter-widgets/controls",
            "_view_module_version": "1.5.0",
            "_view_name": "FloatSliderView",
            "continuous_update": true,
            "description": "shearing_ty",
            "description_tooltip": null,
            "disabled": false,
            "layout": "IPY_MODEL_3996a1d2b34749a7a45b26342a9a99e2",
            "max": 3,
            "min": 0,
            "orientation": "horizontal",
            "readout": true,
            "readout_format": ".2f",
            "step": 0.01,
            "style": "IPY_MODEL_3ea65fc470094ff99be71824fca5dd39",
            "value": 0
          }
        },
        "7e00ce0e22c54e528ada6e73296d2960": {
          "model_module": "@jupyter-widgets/controls",
          "model_module_version": "1.5.0",
          "model_name": "FloatSliderModel",
          "state": {
            "_dom_classes": [],
            "_model_module": "@jupyter-widgets/controls",
            "_model_module_version": "1.5.0",
            "_model_name": "FloatSliderModel",
            "_view_count": null,
            "_view_module": "@jupyter-widgets/controls",
            "_view_module_version": "1.5.0",
            "_view_name": "FloatSliderView",
            "continuous_update": true,
            "description": "scale_ty",
            "description_tooltip": null,
            "disabled": false,
            "layout": "IPY_MODEL_0e76009b922c411bb66b5c27eb6c6dc4",
            "max": 3,
            "min": 0.5,
            "orientation": "horizontal",
            "readout": true,
            "readout_format": ".2f",
            "step": 0.01,
            "style": "IPY_MODEL_d50e6ec403634698bd2c4f0ba74523cb",
            "value": 1
          }
        },
        "8a7126e2589c4ae4840f3103a01e6c0d": {
          "model_module": "@jupyter-widgets/controls",
          "model_module_version": "1.5.0",
          "model_name": "SliderStyleModel",
          "state": {
            "_model_module": "@jupyter-widgets/controls",
            "_model_module_version": "1.5.0",
            "_model_name": "SliderStyleModel",
            "_view_count": null,
            "_view_module": "@jupyter-widgets/base",
            "_view_module_version": "1.2.0",
            "_view_name": "StyleView",
            "description_width": "",
            "handle_color": null
          }
        },
        "9382f4fd0efc4eaeb73816b1c78a7d95": {
          "model_module": "@jupyter-widgets/base",
          "model_module_version": "1.2.0",
          "model_name": "LayoutModel",
          "state": {
            "_model_module": "@jupyter-widgets/base",
            "_model_module_version": "1.2.0",
            "_model_name": "LayoutModel",
            "_view_count": null,
            "_view_module": "@jupyter-widgets/base",
            "_view_module_version": "1.2.0",
            "_view_name": "LayoutView",
            "align_content": null,
            "align_items": null,
            "align_self": null,
            "border": null,
            "bottom": null,
            "display": null,
            "flex": null,
            "flex_flow": null,
            "grid_area": null,
            "grid_auto_columns": null,
            "grid_auto_flow": null,
            "grid_auto_rows": null,
            "grid_column": null,
            "grid_gap": null,
            "grid_row": null,
            "grid_template_areas": null,
            "grid_template_columns": null,
            "grid_template_rows": null,
            "height": null,
            "justify_content": null,
            "justify_items": null,
            "left": null,
            "margin": null,
            "max_height": null,
            "max_width": null,
            "min_height": null,
            "min_width": null,
            "object_fit": null,
            "object_position": null,
            "order": null,
            "overflow": null,
            "overflow_x": null,
            "overflow_y": null,
            "padding": null,
            "right": null,
            "top": null,
            "visibility": null,
            "width": null
          }
        },
        "9f6c9d8425d24fc2b407bc8c17c21363": {
          "model_module": "@jupyter-widgets/controls",
          "model_module_version": "1.5.0",
          "model_name": "FloatSliderModel",
          "state": {
            "_dom_classes": [],
            "_model_module": "@jupyter-widgets/controls",
            "_model_module_version": "1.5.0",
            "_model_name": "FloatSliderModel",
            "_view_count": null,
            "_view_module": "@jupyter-widgets/controls",
            "_view_module_version": "1.5.0",
            "_view_name": "FloatSliderView",
            "continuous_update": true,
            "description": "angle",
            "description_tooltip": null,
            "disabled": false,
            "layout": "IPY_MODEL_4d0c7e15015c4b1fb4a657d7b0e77c19",
            "max": 3.14,
            "min": -3.14,
            "orientation": "horizontal",
            "readout": true,
            "readout_format": ".2f",
            "step": 0.01,
            "style": "IPY_MODEL_8a7126e2589c4ae4840f3103a01e6c0d",
            "value": 0
          }
        },
        "a15ccdc4aeb542fab35db39075a9a1e9": {
          "model_module": "@jupyter-widgets/controls",
          "model_module_version": "1.5.0",
          "model_name": "SliderStyleModel",
          "state": {
            "_model_module": "@jupyter-widgets/controls",
            "_model_module_version": "1.5.0",
            "_model_name": "SliderStyleModel",
            "_view_count": null,
            "_view_module": "@jupyter-widgets/base",
            "_view_module_version": "1.2.0",
            "_view_name": "StyleView",
            "description_width": "",
            "handle_color": null
          }
        },
        "aba0147d872f4e12becc83bad6383dbc": {
          "model_module": "@jupyter-widgets/controls",
          "model_module_version": "1.5.0",
          "model_name": "VBoxModel",
          "state": {
            "_dom_classes": [
              "widget-interact"
            ],
            "_model_module": "@jupyter-widgets/controls",
            "_model_module_version": "1.5.0",
            "_model_name": "VBoxModel",
            "_view_count": null,
            "_view_module": "@jupyter-widgets/controls",
            "_view_module_version": "1.5.0",
            "_view_name": "VBoxView",
            "box_style": "",
            "children": [
              "IPY_MODEL_4e3dd0ff04d64eba82865123f8e7def9",
              "IPY_MODEL_59f8f9b51ff743479e6deb4c0a6e3ba2",
              "IPY_MODEL_f4997633a9b041cba138bc86864f04e3",
              "IPY_MODEL_7e00ce0e22c54e528ada6e73296d2960",
              "IPY_MODEL_03e0554fb5f4485e8f2a5ddf17c1f93c",
              "IPY_MODEL_7d66b7cde7224451b2ba1a22df9343bc",
              "IPY_MODEL_9f6c9d8425d24fc2b407bc8c17c21363",
              "IPY_MODEL_0674e00af861444c8a6a1ee3eea1b88d"
            ],
            "layout": "IPY_MODEL_5bfc55047bc14424a29e6e45199dc958"
          }
        },
        "acbd28456a4e4300b2569dc00bea12cc": {
          "model_module": "@jupyter-widgets/controls",
          "model_module_version": "1.5.0",
          "model_name": "FloatSliderModel",
          "state": {
            "_dom_classes": [],
            "_model_module": "@jupyter-widgets/controls",
            "_model_module_version": "1.5.0",
            "_model_name": "FloatSliderModel",
            "_view_count": null,
            "_view_module": "@jupyter-widgets/controls",
            "_view_module_version": "1.5.0",
            "_view_name": "FloatSliderView",
            "continuous_update": true,
            "description": "angle",
            "description_tooltip": null,
            "disabled": false,
            "layout": "IPY_MODEL_2e639276d4004d98ae23e9721b989d2c",
            "max": 3.14,
            "min": -3.14,
            "orientation": "horizontal",
            "readout": true,
            "readout_format": ".2f",
            "step": 0.01,
            "style": "IPY_MODEL_34b81407575645e4bef05272550c8559",
            "value": 0
          }
        },
        "cdc8674953504362bc1a889a01e4c5e9": {
          "model_module": "@jupyter-widgets/base",
          "model_module_version": "1.2.0",
          "model_name": "LayoutModel",
          "state": {
            "_model_module": "@jupyter-widgets/base",
            "_model_module_version": "1.2.0",
            "_model_name": "LayoutModel",
            "_view_count": null,
            "_view_module": "@jupyter-widgets/base",
            "_view_module_version": "1.2.0",
            "_view_name": "LayoutView",
            "align_content": null,
            "align_items": null,
            "align_self": null,
            "border": null,
            "bottom": null,
            "display": null,
            "flex": null,
            "flex_flow": null,
            "grid_area": null,
            "grid_auto_columns": null,
            "grid_auto_flow": null,
            "grid_auto_rows": null,
            "grid_column": null,
            "grid_gap": null,
            "grid_row": null,
            "grid_template_areas": null,
            "grid_template_columns": null,
            "grid_template_rows": null,
            "height": null,
            "justify_content": null,
            "justify_items": null,
            "left": null,
            "margin": null,
            "max_height": null,
            "max_width": null,
            "min_height": null,
            "min_width": null,
            "object_fit": null,
            "object_position": null,
            "order": null,
            "overflow": null,
            "overflow_x": null,
            "overflow_y": null,
            "padding": null,
            "right": null,
            "top": null,
            "visibility": null,
            "width": null
          }
        },
        "d50e6ec403634698bd2c4f0ba74523cb": {
          "model_module": "@jupyter-widgets/controls",
          "model_module_version": "1.5.0",
          "model_name": "SliderStyleModel",
          "state": {
            "_model_module": "@jupyter-widgets/controls",
            "_model_module_version": "1.5.0",
            "_model_name": "SliderStyleModel",
            "_view_count": null,
            "_view_module": "@jupyter-widgets/base",
            "_view_module_version": "1.2.0",
            "_view_name": "StyleView",
            "description_width": "",
            "handle_color": null
          }
        },
        "f02f1bcfb0554185ad84c87dc2e8ba89": {
          "model_module": "@jupyter-widgets/base",
          "model_module_version": "1.2.0",
          "model_name": "LayoutModel",
          "state": {
            "_model_module": "@jupyter-widgets/base",
            "_model_module_version": "1.2.0",
            "_model_name": "LayoutModel",
            "_view_count": null,
            "_view_module": "@jupyter-widgets/base",
            "_view_module_version": "1.2.0",
            "_view_name": "LayoutView",
            "align_content": null,
            "align_items": null,
            "align_self": null,
            "border": null,
            "bottom": null,
            "display": null,
            "flex": null,
            "flex_flow": null,
            "grid_area": null,
            "grid_auto_columns": null,
            "grid_auto_flow": null,
            "grid_auto_rows": null,
            "grid_column": null,
            "grid_gap": null,
            "grid_row": null,
            "grid_template_areas": null,
            "grid_template_columns": null,
            "grid_template_rows": null,
            "height": null,
            "justify_content": null,
            "justify_items": null,
            "left": null,
            "margin": null,
            "max_height": null,
            "max_width": null,
            "min_height": null,
            "min_width": null,
            "object_fit": null,
            "object_position": null,
            "order": null,
            "overflow": null,
            "overflow_x": null,
            "overflow_y": null,
            "padding": null,
            "right": null,
            "top": null,
            "visibility": null,
            "width": null
          }
        },
        "f4997633a9b041cba138bc86864f04e3": {
          "model_module": "@jupyter-widgets/controls",
          "model_module_version": "1.5.0",
          "model_name": "FloatSliderModel",
          "state": {
            "_dom_classes": [],
            "_model_module": "@jupyter-widgets/controls",
            "_model_module_version": "1.5.0",
            "_model_name": "FloatSliderModel",
            "_view_count": null,
            "_view_module": "@jupyter-widgets/controls",
            "_view_module_version": "1.5.0",
            "_view_name": "FloatSliderView",
            "continuous_update": true,
            "description": "scale_tx",
            "description_tooltip": null,
            "disabled": false,
            "layout": "IPY_MODEL_02a6552007d74bfd84bed8482bbec030",
            "max": 3,
            "min": 0.5,
            "orientation": "horizontal",
            "readout": true,
            "readout_format": ".2f",
            "step": 0.01,
            "style": "IPY_MODEL_141708b7eb75403b83fbd08175da20ba",
            "value": 1
          }
        },
        "f56f33057aaf40e68db84479ce473fa1": {
          "model_module": "@jupyter-widgets/controls",
          "model_module_version": "1.5.0",
          "model_name": "VBoxModel",
          "state": {
            "_dom_classes": [
              "widget-interact"
            ],
            "_model_module": "@jupyter-widgets/controls",
            "_model_module_version": "1.5.0",
            "_model_name": "VBoxModel",
            "_view_count": null,
            "_view_module": "@jupyter-widgets/controls",
            "_view_module_version": "1.5.0",
            "_view_name": "VBoxView",
            "box_style": "",
            "children": [
              "IPY_MODEL_acbd28456a4e4300b2569dc00bea12cc",
              "IPY_MODEL_7450b7e131664062a4c7f1701b33f3a0"
            ],
            "layout": "IPY_MODEL_f02f1bcfb0554185ad84c87dc2e8ba89"
          }
        }
      }
    }
  },
  "nbformat": 4,
  "nbformat_minor": 0
}
